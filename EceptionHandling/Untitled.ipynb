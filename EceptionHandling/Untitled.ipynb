{
 "cells": [
  {
   "cell_type": "markdown",
   "id": "dd7ba0fe",
   "metadata": {},
   "source": [
    "## Exceptions \n"
   ]
  },
  {
   "cell_type": "code",
   "execution_count": 1,
   "id": "fd561509",
   "metadata": {},
   "outputs": [
    {
     "ename": "SyntaxError",
     "evalue": "invalid syntax (850495431.py, line 12)",
     "output_type": "error",
     "traceback": [
      "\u001b[0;36m  Input \u001b[0;32mIn [1]\u001b[0;36m\u001b[0m\n\u001b[0;31m    9 Error.\u001b[0m\n\u001b[0m      ^\u001b[0m\n\u001b[0;31mSyntaxError\u001b[0m\u001b[0;31m:\u001b[0m invalid syntax\n"
     ]
    }
   ],
   "source": [
    "# interpreter \n",
    "\n",
    "1\n",
    "\n",
    "\n",
    "\n",
    "\n",
    "\n",
    "\n",
    "\n",
    "\n",
    "9 Error.\n",
    "## runtime errors\n",
    "\n",
    "\n",
    "\n",
    "10 ----\n"
   ]
  },
  {
   "cell_type": "code",
   "execution_count": 43,
   "id": "fda3ee67",
   "metadata": {},
   "outputs": [
    {
     "name": "stdout",
     "output_type": "stream",
     "text": [
      "hello world!\n",
      "HI\n",
      "name 'b' is not defined\n"
     ]
    }
   ],
   "source": [
    "try:\n",
    "    print(\"hello world!\")\n",
    "    x = b\n",
    "    print(\"My name is koji\")\n",
    "except Exception as e:\n",
    "    print(\"HI\")\n",
    "    print(e)\n",
    "    \n",
    "  "
   ]
  },
  {
   "cell_type": "markdown",
   "id": "28663e0a",
   "metadata": {},
   "source": [
    "## Since we're still beginers we can do with Exception"
   ]
  },
  {
   "cell_type": "code",
   "execution_count": 21,
   "id": "13192284",
   "metadata": {},
   "outputs": [
    {
     "name": "stdout",
     "output_type": "stream",
     "text": [
      "Enter first number: 10\n",
      "Enter second number: 0\n",
      "division by zero\n"
     ]
    }
   ],
   "source": [
    "try:\n",
    "    x = eval(input(\"Enter first number: \")) \n",
    "    y = eval(input(\"Enter second number: \"))\n",
    "\n",
    "    result = x / y\n",
    "    print(f\"The result of {x} divided {y} is {result}\")\n",
    "except Exception as e:\n",
    "    print(e)\n"
   ]
  },
  {
   "cell_type": "markdown",
   "id": "189071f5",
   "metadata": {},
   "source": [
    "## As a programmer it's important to catch specific exception"
   ]
  },
  {
   "cell_type": "code",
   "execution_count": 25,
   "id": "50b7448a",
   "metadata": {},
   "outputs": [
    {
     "name": "stdout",
     "output_type": "stream",
     "text": [
      "Enter first number: 3\n",
      "Enter second number: 0\n",
      "division by zero\n"
     ]
    }
   ],
   "source": [
    "try:\n",
    "    x = eval(input(\"Enter first number: \")) \n",
    "    y = eval(input(\"Enter second number: \"))\n",
    "\n",
    "    result = x / y\n",
    "    print(f\"The result of {x} divided {y} is {result}\")    \n",
    "except ZeroDivisionError as e:\n",
    "    \n",
    "    print(e)"
   ]
  },
  {
   "cell_type": "code",
   "execution_count": 46,
   "id": "9bbd4fff",
   "metadata": {},
   "outputs": [
    {
     "name": "stdout",
     "output_type": "stream",
     "text": [
      "hdhdj \n",
      "hfhfh\n",
      "hhjr\n"
     ]
    }
   ],
   "source": [
    "import os\n",
    "\n",
    "try:\n",
    "    with open('untitled.txt') as file:\n",
    "        read_data = file.read()\n",
    "        print(read_data)\n",
    "except (FileExistsError,FileNotFoundError) as e:\n",
    "    print(e)\n",
    "    "
   ]
  },
  {
   "cell_type": "markdown",
   "id": "319184a9",
   "metadata": {},
   "source": [
    "## Exception lifecycle"
   ]
  },
  {
   "cell_type": "code",
   "execution_count": 45,
   "id": "0fb2ab77",
   "metadata": {},
   "outputs": [
    {
     "name": "stdout",
     "output_type": "stream",
     "text": [
      "OOOOPS sorry an exception was caught!\n",
      "I'll always run weather an eception occured or not\n"
     ]
    }
   ],
   "source": [
    "try:\n",
    "    #<run this code>\n",
    "    b = ueyr\n",
    "    print(\"I'm inside try block!.\")\n",
    "    print(\"Means no exception was found.😂\")\n",
    "except (ZeroDivisionError, FileExistsError, Exception):\n",
    "     #<execute this code when there is an exception>\n",
    "    print(\"OOOOPS sorry an exception was caught!\")    \n",
    "else:\n",
    "   # <No exception occured> \n",
    "    print(\"Thank God There was no exception😂\")\n",
    "finally:\n",
    "    #<Always run this code>\n",
    "    print(\"I'll always run weather an eception occured or not\")\n",
    "        "
   ]
  },
  {
   "cell_type": "code",
   "execution_count": null,
   "id": "7765bdfd",
   "metadata": {},
   "outputs": [],
   "source": []
  },
  {
   "cell_type": "markdown",
   "id": "08e5694b",
   "metadata": {},
   "source": [
    "## We want to read a file"
   ]
  },
  {
   "cell_type": "code",
   "execution_count": 51,
   "id": "bf00fdae",
   "metadata": {},
   "outputs": [
    {
     "name": "stdout",
     "output_type": "stream",
     "text": [
      "hdhdj \n",
      "hfhfh\n",
      "hhjr\n",
      "Closing file connection\n"
     ]
    }
   ],
   "source": [
    "try:\n",
    "    #<run this code>\n",
    "    file = open('untitled.txt')\n",
    "    read_data = file.read()\n",
    "\n",
    "except (ZeroDivisionError, FileExistsError, Exception):\n",
    "     #<execute this code when there is an exception>\n",
    "    print(\"OOOOPS sorry an exception was caught!\")    \n",
    "else:\n",
    "   # <No exception occured> \n",
    "    print(read_data)\n",
    "finally:\n",
    "    #<Always run this code>\n",
    "    print(\"Closing file connection\")\n",
    "    file.close()\n",
    "\n"
   ]
  },
  {
   "cell_type": "code",
   "execution_count": 57,
   "id": "8f9bded1",
   "metadata": {},
   "outputs": [
    {
     "name": "stdout",
     "output_type": "stream",
     "text": [
      "No module named 'boto4'\n"
     ]
    }
   ],
   "source": [
    "try:\n",
    "    import boto4\n",
    "except Exception as err:\n",
    "    print(err)"
   ]
  },
  {
   "cell_type": "code",
   "execution_count": 56,
   "id": "f29adba7",
   "metadata": {},
   "outputs": [
    {
     "ename": "ModuleNotFoundError",
     "evalue": "No module named 'boto4'",
     "output_type": "error",
     "traceback": [
      "\u001b[0;31m---------------------------------------------------------------------------\u001b[0m",
      "\u001b[0;31mModuleNotFoundError\u001b[0m                       Traceback (most recent call last)",
      "Input \u001b[0;32mIn [56]\u001b[0m, in \u001b[0;36m<cell line: 1>\u001b[0;34m()\u001b[0m\n\u001b[0;32m----> 1\u001b[0m \u001b[38;5;28;01mimport\u001b[39;00m \u001b[38;5;21;01mboto4\u001b[39;00m\n",
      "\u001b[0;31mModuleNotFoundError\u001b[0m: No module named 'boto4'"
     ]
    }
   ],
   "source": [
    "import boto4"
   ]
  },
  {
   "cell_type": "code",
   "execution_count": null,
   "id": "0606cd75",
   "metadata": {},
   "outputs": [],
   "source": []
  }
 ],
 "metadata": {
  "kernelspec": {
   "display_name": "Python 3 (ipykernel)",
   "language": "python",
   "name": "python3"
  },
  "language_info": {
   "codemirror_mode": {
    "name": "ipython",
    "version": 3
   },
   "file_extension": ".py",
   "mimetype": "text/x-python",
   "name": "python",
   "nbconvert_exporter": "python",
   "pygments_lexer": "ipython3",
   "version": "3.9.12"
  }
 },
 "nbformat": 4,
 "nbformat_minor": 5
}
