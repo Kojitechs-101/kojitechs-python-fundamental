{
 "cells": [
  {
   "cell_type": "code",
   "execution_count": 3,
   "id": "5920f9cd",
   "metadata": {},
   "outputs": [],
   "source": [
    "# The while loop in python is use to check a condition as long is it's true \n",
    "# the code would get to an infinite loop"
   ]
  },
  {
   "cell_type": "code",
   "execution_count": 4,
   "id": "736391eb",
   "metadata": {},
   "outputs": [
    {
     "ename": "SyntaxError",
     "evalue": "EOF while scanning triple-quoted string literal (3181294157.py, line 3)",
     "output_type": "error",
     "traceback": [
      "\u001b[0;36m  Input \u001b[0;32mIn [4]\u001b[0;36m\u001b[0m\n\u001b[0;31m    body of while\u001b[0m\n\u001b[0m                 \n^\u001b[0m\n\u001b[0;31mSyntaxError\u001b[0m\u001b[0;31m:\u001b[0m EOF while scanning triple-quoted string literal\n"
     ]
    }
   ],
   "source": [
    "\n",
    "while (True):\n",
    "    print('''''''''''''''')\n",
    "    body of while"
   ]
  },
  {
   "cell_type": "code",
   "execution_count": 6,
   "id": "805a73f8",
   "metadata": {},
   "outputs": [
    {
     "name": "stdout",
     "output_type": "stream",
     "text": [
      "zero is not greater than 5\n"
     ]
    }
   ],
   "source": [
    "while 0 < 5:\n",
    "    print(\"zero is greater than 5\")\n",
    "else:\n",
    "    print(\"zero is not greater than 5\")"
   ]
  },
  {
   "cell_type": "code",
   "execution_count": 9,
   "id": "e73539a3",
   "metadata": {},
   "outputs": [
    {
     "name": "stdout",
     "output_type": "stream",
     "text": [
      "1\n",
      "2\n",
      "3\n",
      "4\n",
      "5\n",
      "6\n",
      "7\n",
      "8\n",
      "9\n"
     ]
    }
   ],
   "source": [
    "n = 10 \n",
    "i = 1 \n",
    "\n",
    "\n",
    "while i < n:\n",
    "    print(i)\n",
    "    i = i + 1 # i +=1 \n",
    "    "
   ]
  },
  {
   "cell_type": "code",
   "execution_count": 12,
   "id": "2d86f81b",
   "metadata": {},
   "outputs": [
    {
     "name": "stdout",
     "output_type": "stream",
     "text": [
      "Inside the loop\n",
      "Inside the loop\n",
      "Inside the loop\n",
      "Inside else\n"
     ]
    }
   ],
   "source": [
    "count = 0\n",
    "\n",
    "while count < 3:\n",
    "    \n",
    "    print(\"Inside the loop\")\n",
    "    count +=1\n",
    "else:\n",
    "    print(\"Inside else\")"
   ]
  },
  {
   "cell_type": "markdown",
   "id": "6eebb473",
   "metadata": {},
   "source": [
    "## break and continue"
   ]
  },
  {
   "cell_type": "code",
   "execution_count": 13,
   "id": "59a2b938",
   "metadata": {},
   "outputs": [
    {
     "ename": "SyntaxError",
     "evalue": "invalid syntax (3159997383.py, line 9)",
     "output_type": "error",
     "traceback": [
      "\u001b[0;36m  Input \u001b[0;32mIn [13]\u001b[0;36m\u001b[0m\n\u001b[0;31m    while test condition:\u001b[0m\n\u001b[0m               ^\u001b[0m\n\u001b[0;31mSyntaxError\u001b[0m\u001b[0;31m:\u001b[0m invalid syntax\n"
     ]
    }
   ],
   "source": [
    "name = \"koji Bello\"\n",
    "\n",
    "for var in []:\n",
    "    # code is inside a for loop\n",
    "    if condition:\n",
    "        break\n",
    "\n",
    "# same for while loop        \n",
    "while test condition:\n",
    "    # code is inside a while\n",
    "    if condition:\n",
    "        break\n",
    "        "
   ]
  },
  {
   "cell_type": "markdown",
   "id": "2fe2001a",
   "metadata": {},
   "source": [
    "## break"
   ]
  },
  {
   "cell_type": "code",
   "execution_count": 15,
   "id": "808e42d2",
   "metadata": {},
   "outputs": [
    {
     "name": "stdout",
     "output_type": "stream",
     "text": [
      "k\n",
      "o\n",
      "j\n",
      "The End\n"
     ]
    }
   ],
   "source": [
    "name = \"kojiBello\"\n",
    "\n",
    "for var in name:\n",
    "    # condition\n",
    "    if var == \"i\":\n",
    "        break\n",
    "    print(var)   \n",
    "print(\"The End\")    \n",
    "    \n",
    "    "
   ]
  },
  {
   "cell_type": "markdown",
   "id": "682b93d3",
   "metadata": {},
   "source": [
    "## Continue"
   ]
  },
  {
   "cell_type": "code",
   "execution_count": 17,
   "id": "11faa6e2",
   "metadata": {},
   "outputs": [
    {
     "name": "stdout",
     "output_type": "stream",
     "text": [
      "k\n",
      "o\n",
      "j\n",
      "i\n",
      "e\n",
      "l\n",
      "l\n",
      "o\n",
      "The End\n"
     ]
    }
   ],
   "source": [
    "name = \"kojiBello\"\n",
    "\n",
    "for var in name:\n",
    "    # condition\n",
    "    if var == \"B\":\n",
    "        continue\n",
    "    print(var)   \n",
    "print(\"The End\")  "
   ]
  },
  {
   "cell_type": "markdown",
   "id": "2e610a70",
   "metadata": {},
   "source": [
    "## pass\n"
   ]
  },
  {
   "cell_type": "code",
   "execution_count": 18,
   "id": "41034ae7",
   "metadata": {},
   "outputs": [],
   "source": [
    "sequence = \"koji bello\"\n",
    "\n",
    "for val in sequence:\n",
    "    pass"
   ]
  },
  {
   "cell_type": "code",
   "execution_count": null,
   "id": "99cd919f",
   "metadata": {},
   "outputs": [],
   "source": []
  }
 ],
 "metadata": {
  "kernelspec": {
   "display_name": "Python 3 (ipykernel)",
   "language": "python",
   "name": "python3"
  },
  "language_info": {
   "codemirror_mode": {
    "name": "ipython",
    "version": 3
   },
   "file_extension": ".py",
   "mimetype": "text/x-python",
   "name": "python",
   "nbconvert_exporter": "python",
   "pygments_lexer": "ipython3",
   "version": "3.9.12"
  }
 },
 "nbformat": 4,
 "nbformat_minor": 5
}
