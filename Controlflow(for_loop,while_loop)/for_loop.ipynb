{
 "cells": [
  {
   "cell_type": "markdown",
   "id": "c4a1a65e",
   "metadata": {},
   "source": [
    "## For_loop\n",
    "iterating"
   ]
  },
  {
   "cell_type": "code",
   "execution_count": 58,
   "id": "92acec87",
   "metadata": {},
   "outputs": [
    {
     "name": "stdout",
     "output_type": "stream",
     "text": [
      "apple\n",
      "pawpaw\n",
      "orange\n",
      "pear\n",
      "mango\n"
     ]
    }
   ],
   "source": [
    "import getpass\n",
    "\n",
    "fruits = []\n",
    "dic = dict(name=\"koji\",age=25)\n",
    "se = {1,2,3}\n",
    "x = \"i love python\"\n",
    "\n",
    "fruits = [\"apple\", \"pawpaw\", \"orange\", \"pear\", \"mango\"] \n",
    "\n",
    "\"\"\"\n",
    "for \"<buffer>\" in \"<list>\":\n",
    "    print(\"<buffer>\")\n",
    "\"\"\"\n",
    " \n",
    "for fruit in  fruits:\n",
    "    print(fruit)"
   ]
  },
  {
   "cell_type": "markdown",
   "id": "e1777e76",
   "metadata": {},
   "source": [
    "## we can iterate over a dict"
   ]
  },
  {
   "cell_type": "code",
   "execution_count": 9,
   "id": "f07ec03f",
   "metadata": {},
   "outputs": [
    {
     "name": "stdout",
     "output_type": "stream",
     "text": [
      "name\n",
      "age\n",
      "married\n",
      "divorced\n",
      "children\n",
      "pets\n",
      "cars\n"
     ]
    }
   ],
   "source": [
    "user_data = {\n",
    "  \"name\": \"John\",\n",
    "  \"age\": 30,\n",
    "  \"married\": True,\n",
    "  \"divorced\": False,\n",
    "  \"children\": (\"Ann\",\"Billy\"), \n",
    "  \"pets\": None,\n",
    "  \"cars\": [ {\"model\": \"BMW 230\", \"mpg\": 27.5}, {\"model\": \"Ford Edge\", \"mpg\": 24.1} ]\n",
    "}\n",
    "\n",
    "\"\"\"\n",
    "for \"<buffer>\" in \"<list>\":\n",
    "    print(\"<buffer>\")\n",
    "\"\"\"\n",
    "for key in user_data:\n",
    "    print(key)\n"
   ]
  },
  {
   "cell_type": "markdown",
   "id": "a7677c52",
   "metadata": {},
   "source": [
    "## to get each value "
   ]
  },
  {
   "cell_type": "code",
   "execution_count": 14,
   "id": "967c45e5",
   "metadata": {},
   "outputs": [
    {
     "name": "stdout",
     "output_type": "stream",
     "text": [
      "name John\n",
      "age 30\n",
      "married True\n",
      "divorced False\n",
      "children ('Ann', 'Billy')\n",
      "pets None\n",
      "cars [{'model': 'BMW 230', 'mpg': 27.5}, {'model': 'Ford Edge', 'mpg': 24.1}]\n"
     ]
    }
   ],
   "source": [
    "for key,value in user_data.items():\n",
    "    print(key,value)"
   ]
  },
  {
   "cell_type": "markdown",
   "id": "a963c680",
   "metadata": {},
   "source": [
    "## we can iterate over a set "
   ]
  },
  {
   "cell_type": "code",
   "execution_count": 15,
   "id": "73a07713",
   "metadata": {},
   "outputs": [
    {
     "name": "stdout",
     "output_type": "stream",
     "text": [
      "1\n",
      "2\n",
      "3\n"
     ]
    }
   ],
   "source": [
    "se = {1,2,3}\n",
    "for i in se:\n",
    "    print(i)"
   ]
  },
  {
   "cell_type": "code",
   "execution_count": 16,
   "id": "c18e3e01",
   "metadata": {},
   "outputs": [
    {
     "name": "stdout",
     "output_type": "stream",
     "text": [
      "i\n",
      " \n",
      "l\n",
      "o\n",
      "v\n",
      "e\n",
      " \n",
      "p\n",
      "y\n",
      "t\n",
      "h\n",
      "o\n",
      "n\n"
     ]
    }
   ],
   "source": [
    "x = \"i love python\"\n",
    "for each in x:\n",
    "    print(each)"
   ]
  },
  {
   "cell_type": "markdown",
   "id": "41175022",
   "metadata": {},
   "source": [
    "## iterate with conditions"
   ]
  },
  {
   "cell_type": "code",
   "execution_count": 21,
   "id": "f4ec0cbe",
   "metadata": {},
   "outputs": [
    {
     "name": "stdout",
     "output_type": "stream",
     "text": [
      "5\n"
     ]
    }
   ],
   "source": [
    "numbers = list(range(10))\n",
    "\n",
    "for number in [0,1,2,3,4,5,6,7,8,9]:\n",
    "    if number == 5:\n",
    "        print(number)\n",
    "        "
   ]
  },
  {
   "cell_type": "code",
   "execution_count": 33,
   "id": "4430af1f",
   "metadata": {},
   "outputs": [
    {
     "name": "stdout",
     "output_type": "stream",
     "text": [
      "6\n"
     ]
    }
   ],
   "source": [
    "### ToDo\n",
    "\n",
    "\"\"\"\n",
    "for i in numbers:\n",
    "    if i == 5:\n",
    "        continue\n",
    "    else:\n",
    "        count = count + 1 # count +=1\n",
    "\"\"\"\n",
    "       \n",
    "        "
   ]
  },
  {
   "cell_type": "markdown",
   "id": "eda5e106",
   "metadata": {},
   "source": []
  },
  {
   "cell_type": "code",
   "execution_count": 40,
   "id": "e13e808b",
   "metadata": {},
   "outputs": [
    {
     "name": "stdout",
     "output_type": "stream",
     "text": [
      "found koji\n"
     ]
    }
   ],
   "source": [
    "names = [\"Koji\",\"bello\",\"class\",\"school\",2]\n",
    "\n",
    "for name in names:\n",
    "    if \"Koji\" == name:\n",
    "        print(\"found koji\")"
   ]
  },
  {
   "cell_type": "code",
   "execution_count": 43,
   "id": "0fa05adc",
   "metadata": {},
   "outputs": [
    {
     "name": "stdout",
     "output_type": "stream",
     "text": [
      "['pear']\n"
     ]
    }
   ],
   "source": [
    "\n",
    "fruits = [\"apple\", \"pawpaw\", \"orange\", \"pear\", \"mango\"] \n",
    "new_list = []\n",
    "\n",
    "for fruit in fruits:\n",
    "    if \"pear\" == fruit:\n",
    "        new_list.append(\"pear\")\n",
    "print(new_list)        "
   ]
  },
  {
   "cell_type": "code",
   "execution_count": 45,
   "id": "88a80e98",
   "metadata": {},
   "outputs": [
    {
     "name": "stdout",
     "output_type": "stream",
     "text": [
      "found even number: 0\n",
      "found even number: 2\n",
      "found even number: 4\n",
      "found even number: 6\n",
      "found even number: 8\n",
      "found even number: 10\n",
      "found even number: 12\n",
      "found even number: 14\n",
      "found even number: 16\n",
      "found even number: 18\n",
      "found even number: 20\n",
      "found even number: 22\n",
      "found even number: 24\n",
      "found even number: 26\n",
      "found even number: 28\n",
      "found even number: 30\n",
      "found even number: 32\n",
      "found even number: 34\n",
      "found even number: 36\n",
      "found even number: 38\n",
      "found even number: 40\n",
      "found even number: 42\n",
      "found even number: 44\n",
      "found even number: 46\n",
      "found even number: 48\n",
      "found even number: 50\n",
      "found even number: 52\n",
      "found even number: 54\n",
      "found even number: 56\n",
      "found even number: 58\n",
      "found even number: 60\n",
      "found even number: 62\n",
      "found even number: 64\n",
      "found even number: 66\n",
      "found even number: 68\n",
      "found even number: 70\n",
      "found even number: 72\n",
      "found even number: 74\n",
      "found even number: 76\n",
      "found even number: 78\n",
      "found even number: 80\n",
      "found even number: 82\n",
      "found even number: 84\n",
      "found even number: 86\n",
      "found even number: 88\n",
      "found even number: 90\n",
      "found even number: 92\n",
      "found even number: 94\n",
      "found even number: 96\n",
      "found even number: 98\n"
     ]
    }
   ],
   "source": [
    "numbers = list(range(100))\n",
    "\n",
    "for number in numbers:\n",
    "    if number % 2 == 0:\n",
    "        print(f\"found even number: {number}\")"
   ]
  },
  {
   "cell_type": "code",
   "execution_count": 47,
   "id": "3381c383",
   "metadata": {},
   "outputs": [
    {
     "name": "stdout",
     "output_type": "stream",
     "text": [
      "0\n",
      "1\n",
      "2\n",
      "3\n",
      "4\n",
      "5\n"
     ]
    }
   ],
   "source": [
    "\n",
    "for number in [0,1,2,3,4,4,5,6,7,8,9,10]:\n",
    "    if number == 6:\n",
    "        break\n",
    "    print(number)"
   ]
  },
  {
   "cell_type": "markdown",
   "id": "1d28edcc",
   "metadata": {},
   "source": [
    "## For_loop with an else block"
   ]
  },
  {
   "cell_type": "code",
   "execution_count": null,
   "id": "b08dd9a1",
   "metadata": {},
   "outputs": [],
   "source": [
    "\n",
    "# expect an input = [password]\n",
    "# print(\"login successful\")\n",
    "# 2 time more\n",
    "\n",
    "user_password = \"koji\"\n",
    "user_login = getpass.getpass(\"enter password: \")\n",
    "\n",
    "for i in range(1,4):\n",
    "    print(f\"Attempt {i}\")\n",
    "    \n",
    "    if user_login == user_password:\n",
    "        print(\"login successful😌\")\n",
    "        break\n",
    "else:\n",
    "    print(\"Attempted 3 times and failed\")"
   ]
  },
  {
   "cell_type": "code",
   "execution_count": null,
   "id": "0c04ac79",
   "metadata": {},
   "outputs": [],
   "source": []
  },
  {
   "cell_type": "code",
   "execution_count": 19,
   "id": "0efc213a",
   "metadata": {},
   "outputs": [
    {
     "name": "stdout",
     "output_type": "stream",
     "text": [
      "Product3 189\n",
      "Product5 30\n"
     ]
    }
   ],
   "source": [
    "\n",
    "products = [( \"Product1\", 10),(\"Product2\", 14),(\"Product3\", 189),(\"Product4\", 20),(\"Product5\", 30)]\n",
    "\n",
    "for product,price in products:\n",
    "    if price >= 30:\n",
    "        print(product,price)\n",
    "\n",
    "        "
   ]
  },
  {
   "cell_type": "code",
   "execution_count": 33,
   "id": "27696b8d",
   "metadata": {},
   "outputs": [
    {
     "name": "stdout",
     "output_type": "stream",
     "text": [
      "[10, 14, 189, 20, 30]\n",
      "[10, 14, 189, 20, 30]\n"
     ]
    }
   ],
   "source": [
    "products = [( \"Product1\", 10),(\"Product2\", 14),(\"Product3\", 189),(\"Product4\", 20),(\"Product5\", 30)]\n",
    "\n",
    "\n",
    "new_price = []\n",
    "for product,price in products:\n",
    "    new_price.append(price)\n",
    "print(new_price)\n",
    "\n",
    "\n",
    "## list comprehension\n",
    "product = [product[1] for product in products]\n",
    "print(product)"
   ]
  },
  {
   "cell_type": "code",
   "execution_count": 34,
   "id": "78398152",
   "metadata": {},
   "outputs": [
    {
     "name": "stdout",
     "output_type": "stream",
     "text": [
      "['k', 'o', 'j', 'i', ' ', 'b', 'e', 'l', 'l', 'o', ' ', 'p', 'y', 't', 'h', 'o', 'n', ' ', 'o', 'n', 'e']\n"
     ]
    }
   ],
   "source": [
    "\n",
    "x = \"koji bello python one\"\n",
    "item = [i for i in x]\n",
    "print(item)"
   ]
  },
  {
   "cell_type": "code",
   "execution_count": 35,
   "id": "e8fd2e28",
   "metadata": {},
   "outputs": [
    {
     "name": "stdout",
     "output_type": "stream",
     "text": [
      "['k', 'o', 'j', 'i', ' ', 'b', 'e', 'l', 'l', 'o', ' ', 'p', 'y', 't', 'h', 'o', 'n', ' ', 'o', 'n', 'e']\n"
     ]
    }
   ],
   "source": [
    "x = \"koji bello python one\"\n",
    "new_list = []\n",
    "for i in x:\n",
    "    new_list.append(i)\n",
    "print(new_list)    "
   ]
  },
  {
   "cell_type": "code",
   "execution_count": null,
   "id": "db7c5838",
   "metadata": {},
   "outputs": [],
   "source": [
    "x = \"sentence\""
   ]
  }
 ],
 "metadata": {
  "kernelspec": {
   "display_name": "Python 3 (ipykernel)",
   "language": "python",
   "name": "python3"
  },
  "language_info": {
   "codemirror_mode": {
    "name": "ipython",
    "version": 3
   },
   "file_extension": ".py",
   "mimetype": "text/x-python",
   "name": "python",
   "nbconvert_exporter": "python",
   "pygments_lexer": "ipython3",
   "version": "3.9.12"
  }
 },
 "nbformat": 4,
 "nbformat_minor": 5
}
