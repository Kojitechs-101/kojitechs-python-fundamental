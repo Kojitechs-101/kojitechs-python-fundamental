{
 "cells": [
  {
   "cell_type": "code",
   "execution_count": 3,
   "id": "3876acb9",
   "metadata": {},
   "outputs": [],
   "source": [
    "# > session: \n",
    "# > client: \n",
    "# > resource: \n",
    "# > waiter: \n",
    "# > meta:\n",
    "# > collections \n",
    "import boto3\n",
    "resource = boto3.session.Session().resource('ec2', 'us-east-1')\n",
    "    \n",
    "    "
   ]
  },
  {
   "cell_type": "code",
   "execution_count": 15,
   "id": "734ecf77",
   "metadata": {},
   "outputs": [
    {
     "name": "stdout",
     "output_type": "stream",
     "text": [
      "i-0bf7d86c0ab007367 running\n",
      "i-0f669a1bb76268761 running\n",
      "i-06a8bd3a5ae1ca988 stopped\n",
      "i-083bf82e709ec5785 stopped\n",
      "i-06756f85f3a5c2c6e stopped\n"
     ]
    }
   ],
   "source": [
    "## .all(), .limit(), .Filter()\n",
    "\n",
    "# variable \n",
    "\n",
    "filter_running_instances = [{'Name': 'instance-state-name', 'Values': ['stopped', 'running']}] \n",
    "\n",
    "def get_running_instances():\n",
    "    ## filter all instances whose state-name shows running....\n",
    "    response = resource.instances.filter(\n",
    "        Filters= filter_running_instances\n",
    "    )\n",
    "    for instance in response.all():\n",
    "        print(instance.id, instance.state['Name'])\n",
    "    \n",
    "\n",
    "def lambda_handler():\n",
    "    get_running_instances()\n",
    "\n",
    "\n",
    "\n",
    "if __name__ == \"__main__\":\n",
    "    lambda_handler()"
   ]
  },
  {
   "cell_type": "code",
   "execution_count": null,
   "id": "9b1f0f3d",
   "metadata": {},
   "outputs": [],
   "source": []
  }
 ],
 "metadata": {
  "kernelspec": {
   "display_name": "Python 3 (ipykernel)",
   "language": "python",
   "name": "python3"
  },
  "language_info": {
   "codemirror_mode": {
    "name": "ipython",
    "version": 3
   },
   "file_extension": ".py",
   "mimetype": "text/x-python",
   "name": "python",
   "nbconvert_exporter": "python",
   "pygments_lexer": "ipython3",
   "version": "3.9.12"
  }
 },
 "nbformat": 4,
 "nbformat_minor": 5
}
