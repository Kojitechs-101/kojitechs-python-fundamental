{
 "cells": [
  {
   "cell_type": "code",
   "execution_count": 1,
   "id": "3876acb9",
   "metadata": {},
   "outputs": [],
   "source": [
    "# > session: \n",
    "# > client: \n",
    "# > resource: \n",
    "# > waiter: \n",
    "# > meta:\n",
    "# > collections \n",
    "import boto3\n",
    "resource = boto3.session.Session().resource('ec2', 'us-east-1')\n",
    "    \n",
    "    "
   ]
  },
  {
   "cell_type": "code",
   "execution_count": null,
   "id": "9b1f0f3d",
   "metadata": {},
   "outputs": [],
   "source": [
    "## .all(), .limit(), .Filter()\n",
    "\n",
    "# variable \n",
    "# fliter instance by instance-state\n",
    "by_instance_state = [{'Name': 'instance-state-name', 'Values': ['stopped']}] \n",
    "\n",
    "# fliter instance by instance-type\n",
    "by_instance_type = [{\"Name\": \"instance-type\", \"Values\": [\"t2.large\"]}]\n",
    "\n",
    "\n",
    "# fliter instance by instance-tags\n",
    "by_instance_tags = [{\"Name\": \"tags:Env\", \"Values\": [\"SBX\"]}]\n",
    "\n",
    "def main(params):\n",
    "    ## filter all instances whose state-name shows running....\n",
    "    response = resource.instances.filter(\n",
    "        Filters= params\n",
    "    )\n",
    "    for instance in response.all():\n",
    "        print(instance.id, instance.state['Name'], instance.instance_type)\n",
    "    \n",
    "    \n",
    "def lambda_handler():\n",
    "    main(by_instance_tags)\n",
    " \n",
    "    \n",
    "\n",
    "\n",
    "if __name__ == \"__main__\":\n",
    "    lambda_handler()\n"
   ]
  },
  {
   "cell_type": "code",
   "execution_count": null,
   "id": "c3bb90f0",
   "metadata": {},
   "outputs": [],
   "source": [
    "\n"
   ]
  }
 ],
 "metadata": {
  "kernelspec": {
   "display_name": "Python 3 (ipykernel)",
   "language": "python",
   "name": "python3"
  },
  "language_info": {
   "codemirror_mode": {
    "name": "ipython",
    "version": 3
   },
   "file_extension": ".py",
   "mimetype": "text/x-python",
   "name": "python",
   "nbconvert_exporter": "python",
   "pygments_lexer": "ipython3",
   "version": "3.9.12"
  },
  "vscode": {
   "interpreter": {
    "hash": "949777d72b0d2535278d3dc13498b2535136f6dfe0678499012e853ee9abcab1"
   }
  }
 },
 "nbformat": 4,
 "nbformat_minor": 5
}
