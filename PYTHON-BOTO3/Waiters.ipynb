{
 "cells": [
  {
   "cell_type": "markdown",
   "id": "a26879e5",
   "metadata": {},
   "source": [
    "## Waiters"
   ]
  },
  {
   "cell_type": "code",
   "execution_count": 9,
   "id": "7bb4eea2",
   "metadata": {},
   "outputs": [],
   "source": [
    "## import boto3\n",
    "import boto3 \n",
    "\n",
    "## importing pprint\n",
    "from pprint import pprint\n",
    "\n",
    "## creating client object \n",
    "client = boto3.session.Session().client('ec2', 'us-east-1')\n",
    "\n",
    "## creating resource object\n",
    "resource = boto3.session.Session().resource('ec2', 'us-east-1')\n"
   ]
  },
  {
   "cell_type": "code",
   "execution_count": 42,
   "id": "90bf8d8c",
   "metadata": {},
   "outputs": [
    {
     "name": "stdout",
     "output_type": "stream",
     "text": [
      "What action would you like to perform agaist ec2? <stop|start|terminate>: terminate\n",
      "terminating instances....\n",
      "instances are terminated..\n"
     ]
    }
   ],
   "source": [
    "def getting_instance_id():\n",
    "    instance_ids = []\n",
    "    \n",
    "    ## getting instance ids\n",
    "    response = client.describe_instances()['Reservations']\n",
    "    for each_instance in response:\n",
    "        for i in each_instance['Instances']:\n",
    "            instance_ids.append(i['InstanceId'])\n",
    "    return instance_ids \n",
    "    \n",
    "def stopping_instance():\n",
    "    instance_ids = getting_instance_id()\n",
    "  \n",
    "    ## stopping instances...\n",
    "    print(\"stopping instances....\")\n",
    "    client.stop_instances(InstanceIds= instance_ids)\n",
    "    ## creating waiter object..\n",
    "    waiter = client.get_waiter('instance_stopped')\n",
    "    waiter.wait(InstanceIds=instance_ids)\n",
    "    print(\"instances stopped!!\")\n",
    "\n",
    "    return None\n",
    "\n",
    "def starting_instance():\n",
    "    instance_ids = getting_instance_id()\n",
    "    \n",
    "    # starting instances...\n",
    "    print(\"starting instances....\")\n",
    "    client.start_instances(InstanceIds= instance_ids)\n",
    "    # creating waiter object..\n",
    "    waiter = client.get_waiter('instance_running')\n",
    "    waiter.wait(InstanceIds=instance_ids)\n",
    "    print(\"instances running!!\")\n",
    "\n",
    "    return None\n",
    "\n",
    "def terminate_instance():\n",
    "    instance_ids = getting_instance_id()\n",
    "    \n",
    "    # terminating instance... \n",
    "    print(\"terminating instances....\")\n",
    "    client.terminate_instances(InstanceIds= instance_ids)\n",
    "    # creating waiter \n",
    "    waiter = client.get_waiter('instance_terminated')\n",
    "    waiter.wait(InstanceIds=instance_ids)   \n",
    "    print(\"instances are terminated..\")\n",
    "    \n",
    "    return None\n",
    "\n",
    "\n",
    "def lambda_handler():\n",
    "    user_input = input(\"What action would you like to perform agaist ec2? <stop|start|terminate>: \")\n",
    "    if user_input.lower() == \"stop\":\n",
    "        stopping_instance()\n",
    "    elif user_input.lower() == \"start\":\n",
    "        starting_instance()\n",
    "    elif user_input.lower() == \"terminate\":\n",
    "        terminate_instance()\n",
    "    else:\n",
    "        print(\"invalid request!, your request must be either <stop|start|terminate>\")\n",
    "    \n",
    "    return None \n",
    "\n",
    "\n",
    "if __name__ == '__main__':\n",
    "    lambda_handler()"
   ]
  },
  {
   "cell_type": "code",
   "execution_count": 35,
   "id": "72c9c7f5",
   "metadata": {},
   "outputs": [
    {
     "data": {
      "text/plain": [
       "'hello'"
      ]
     },
     "execution_count": 35,
     "metadata": {},
     "output_type": "execute_result"
    }
   ],
   "source": [
    "\n",
    "\n",
    "terraform output --json > output_values.json"
   ]
  },
  {
   "cell_type": "code",
   "execution_count": null,
   "id": "f65ef552",
   "metadata": {},
   "outputs": [],
   "source": []
  }
 ],
 "metadata": {
  "kernelspec": {
   "display_name": "Python 3 (ipykernel)",
   "language": "python",
   "name": "python3"
  },
  "language_info": {
   "codemirror_mode": {
    "name": "ipython",
    "version": 3
   },
   "file_extension": ".py",
   "mimetype": "text/x-python",
   "name": "python",
   "nbconvert_exporter": "python",
   "pygments_lexer": "ipython3",
   "version": "3.9.12"
  }
 },
 "nbformat": 4,
 "nbformat_minor": 5
}
