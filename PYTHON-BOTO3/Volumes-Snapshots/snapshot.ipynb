{
 "cells": [
  {
   "cell_type": "code",
   "execution_count": 27,
   "id": "910b2f11",
   "metadata": {},
   "outputs": [],
   "source": [
    "import boto3\n",
    "from botocore.exceptions import ClientError\n",
    "import botocore\n",
    "from datetime import datetime\n",
    "resource = boto3.session.Session().resource('ec2','us-east-1')"
   ]
  },
  {
   "cell_type": "markdown",
   "id": "5dcb0e27",
   "metadata": {},
   "source": [
    "## List all snapshot"
   ]
  },
  {
   "cell_type": "code",
   "execution_count": 29,
   "id": "6366f51f",
   "metadata": {},
   "outputs": [],
   "source": [
    "def get_account_id():\n",
    "    \"This function return the snapshot id\"\n",
    "\n",
    "    sts = boto3.session.Session().client('sts')\n",
    "    return sts.get_caller_identity()['Account']\n",
    "    "
   ]
  },
  {
   "cell_type": "markdown",
   "id": "32df719e",
   "metadata": {},
   "source": [
    "## Listing all snapshots which snap is greater than 10"
   ]
  },
  {
   "cell_type": "code",
   "execution_count": 24,
   "id": "511bda3b",
   "metadata": {},
   "outputs": [
    {
     "name": "stdout",
     "output_type": "stream",
     "text": [
      "80 vol-0265b51ccdaf3809e\n",
      "8 vol-01625d6a43e66f871\n"
     ]
    }
   ],
   "source": [
    "def list_snapshots(size):\n",
    "    \"This function list all the snapshot whose size is greater than 10\"\n",
    "        \n",
    "    account_id = get_account_id()\n",
    "    filer_size = {\"Name\": \"volume-size\", \"Values\": ['80']}\n",
    "    response = resource.snapshots.filter(OwnerIds=[account_id])\n",
    "    for snap in response:\n",
    "        if snap.volume_size >= size:   \n",
    "            print(snap.volume_size, snap.volume_id)\n",
    "    \n",
    "if __name__ == \"__main__\":\n",
    "    size = 8\n",
    "    list_snapshots(size)\n"
   ]
  },
  {
   "cell_type": "markdown",
   "id": "62c82049",
   "metadata": {},
   "source": [
    "## List snapshot based on required time"
   ]
  },
  {
   "cell_type": "code",
   "execution_count": 58,
   "id": "756ba4ed",
   "metadata": {},
   "outputs": [
    {
     "name": "stdout",
     "output_type": "stream",
     "text": [
      "vol-0265b51ccdaf3809e 2022-11-13 20:55:03\n"
     ]
    }
   ],
   "source": [
    "def list_snaprequired_time():\n",
    "    \"This function list all the snapshot based on specific time stamp size.\"\n",
    "    account_id = get_account_id()\n",
    "    today = datetime.now()\n",
    "    start_time = str(datetime(today.year, today.month, today.day, 20,55,3))\n",
    "    response = resource.snapshots.filter(OwnerIds=[account_id])\n",
    "    for snap in response:\n",
    "        if snap.start_time.strftime(\"%Y-%m-%d %H:%M:%S\") == start_time:\n",
    "            print(snap.volume_id, snap.start_time.strftime(\"%Y-%m-%d %H:%M:%S\"))\n",
    "\n",
    "if __name__ == \"__main__\":\n",
    "    list_snaprequired_time()  "
   ]
  },
  {
   "cell_type": "code",
   "execution_count": 41,
   "id": "28ddcca6",
   "metadata": {},
   "outputs": [
    {
     "name": "stdout",
     "output_type": "stream",
     "text": [
      "2022-11-13 16:12:47.452386\n"
     ]
    }
   ],
   "source": [
    "print(datetime.now())"
   ]
  },
  {
   "cell_type": "code",
   "execution_count": null,
   "id": "610d86cf",
   "metadata": {},
   "outputs": [],
   "source": []
  }
 ],
 "metadata": {
  "kernelspec": {
   "display_name": "Python 3 (ipykernel)",
   "language": "python",
   "name": "python3"
  },
  "language_info": {
   "codemirror_mode": {
    "name": "ipython",
    "version": 3
   },
   "file_extension": ".py",
   "mimetype": "text/x-python",
   "name": "python",
   "nbconvert_exporter": "python",
   "pygments_lexer": "ipython3",
   "version": "3.9.12"
  }
 },
 "nbformat": 4,
 "nbformat_minor": 5
}
