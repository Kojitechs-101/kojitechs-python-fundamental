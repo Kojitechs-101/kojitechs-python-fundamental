{
 "cells": [
  {
   "cell_type": "code",
   "execution_count": null,
   "id": "4150ca10",
   "metadata": {},
   "outputs": [],
   "source": [
    "Use either resource, client object to perform the following tasks. \n",
    "\n",
    "1 - Create 3 snapshot in your aws account manually \n",
    "b - write a function to list: \n",
    "        snapshot id\n",
    "        sizes :\n",
    "        creation time, \n",
    "        \n",
    "3 - use csv module to write the the infomation of these snapshot as an inventory file. "
   ]
  },
  {
   "cell_type": "code",
   "execution_count": 84,
   "id": "6d358b7a",
   "metadata": {
    "scrolled": true
   },
   "outputs": [],
   "source": [
    "import boto3 \n",
    "from pprint import pprint \n",
    "import csv \n",
    "\n",
    "from botocore.exceptions import ClientError \n",
    "\n",
    "resource = boto3.session.Session().resource('ec2', 'us-east-1')\n",
    "client =  boto3.session.Session().client('ec2', 'us-east-1')\n",
    "sts = boto3.session.Session().client('sts')\n",
    "\n",
    "\n",
    "def account_id():\n",
    "    return sts.get_caller_identity()['Account']\n",
    " \n",
    "    \n",
    "def get_snapshot():\n",
    "    snap_account = account_id()\n",
    "    response = resource.snapshots.filter(OwnerIds=[snap_account])\n",
    "    ## Using csv to dump snaps info \n",
    "    csv_header = [\"Snap-id\", \"snp-Size\", \"Start-Time\"] \n",
    "    with open(\"snapshots_inventory.csv\", \"w\", newline=\"\") as file:\n",
    "        csv_w = csv.writer(file)\n",
    "        csv_w.writerow(csv_header)\n",
    "        print(\"Writing snapshot info to an inventory file.\")\n",
    "        for each_snap in response:\n",
    "            csv_w.writerow([each_snap.id, each_snap.volume_size, each_snap.start_time.strftime(\"%Y-%m-%d\")])\n",
    "        print(\"Finish!\")        \n",
    "        \n",
    "    \n",
    "def get_volumes():\n",
    "    response =  resource.volumes.all()\n",
    "    for each_volume in response:\n",
    "        if each_volume.tags:\n",
    "            for each_tags in each_volume.tags:\n",
    "                print(f\"This volume was taged: {each_volume.id}, Tags: {each_tags.get('Value')}\")\n",
    "        else:\n",
    "            ## GET THE UNTAGED VOLUMES\n",
    "            ## DELETE UNTAGED VOLUMES\n",
    "            print(\"deleting untaged volumes\")\n",
    "\n",
    "    ## How do we get the volumes that are not-inuse\n",
    "    volumes_inused = [{'Name': 'status', 'Values': ['in-use']}]\n",
    "    response = resource.volumes.filter(Filters=volumes_inused)\n",
    "    for each_volume in response:\n",
    "        print(each_volume.id)\n",
    "        \n",
    "        \n",
    "def delete_unused_untaged_volumes():\n",
    "    ## First let's get the volume state \n",
    "    for each_volume in resource.volumes.all():\n",
    "        if each_volume.state != 'in-use' and not each_volume.tags:\n",
    "            print(\"Neither taged nor in-used\\n So deleting the volume\")\n",
    "            print(each_volume.delete())\n",
    "        \n",
    "    \n",
    "if __name__ == \"__main__\":\n",
    "#     get_volumes()\n",
    "#     get_snapshot()\n",
    "    delete_unused_untaged_volumes()\n",
    "\n",
    "    "
   ]
  },
  {
   "cell_type": "code",
   "execution_count": null,
   "id": "fb687e20",
   "metadata": {},
   "outputs": [],
   "source": [
    "\n",
    "\n",
    "## we want to delete only volumes that are neither taged nor in-used\n"
   ]
  },
  {
   "cell_type": "code",
   "execution_count": null,
   "id": "8a2fc027",
   "metadata": {},
   "outputs": [],
   "source": [
    "\n"
   ]
  },
  {
   "cell_type": "code",
   "execution_count": null,
   "id": "6e850336",
   "metadata": {},
   "outputs": [],
   "source": [
    "\n",
    "    "
   ]
  },
  {
   "cell_type": "code",
   "execution_count": null,
   "id": "4a2b8674",
   "metadata": {},
   "outputs": [],
   "source": []
  },
  {
   "cell_type": "code",
   "execution_count": null,
   "id": "e37e7a10",
   "metadata": {},
   "outputs": [],
   "source": []
  },
  {
   "cell_type": "code",
   "execution_count": null,
   "id": "3308b9b5",
   "metadata": {},
   "outputs": [],
   "source": []
  }
 ],
 "metadata": {
  "kernelspec": {
   "display_name": "Python 3 (ipykernel)",
   "language": "python",
   "name": "python3"
  },
  "language_info": {
   "codemirror_mode": {
    "name": "ipython",
    "version": 3
   },
   "file_extension": ".py",
   "mimetype": "text/x-python",
   "name": "python",
   "nbconvert_exporter": "python",
   "pygments_lexer": "ipython3",
   "version": "3.9.12"
  }
 },
 "nbformat": 4,
 "nbformat_minor": 5
}
