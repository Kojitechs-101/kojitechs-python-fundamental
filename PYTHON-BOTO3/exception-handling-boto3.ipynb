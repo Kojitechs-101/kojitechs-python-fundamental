{
 "cells": [
  {
   "cell_type": "code",
   "execution_count": 30,
   "id": "a2dfc4b3",
   "metadata": {},
   "outputs": [
    {
     "name": "stdout",
     "output_type": "stream",
     "text": [
      "{'ResponseMetadata': {'RequestId': '0XNC7V0PAZ11QCW6', 'HostId': 'irsNmu6XSaTn337tXnkcqRFwUU8d7Z9lp6WLmhnC+1KYxZ7ROiKqwUrT6QjYsYYzC+KKfXWUCYA=', 'HTTPStatusCode': 200, 'HTTPHeaders': {'x-amz-id-2': 'irsNmu6XSaTn337tXnkcqRFwUU8d7Z9lp6WLmhnC+1KYxZ7ROiKqwUrT6QjYsYYzC+KKfXWUCYA=', 'x-amz-request-id': '0XNC7V0PAZ11QCW6', 'date': 'Sun, 30 Oct 2022 19:56:17 GMT', 'location': '/kojitestbucket', 'server': 'AmazonS3', 'content-length': '0'}, 'RetryAttempts': 0}, 'Location': '/kojitestbucket'}\n"
     ]
    }
   ],
   "source": [
    "import boto3 \n",
    "from pprint import pprint as bello\n",
    "from botocore.exceptions import ClientError\n",
    "client = boto3.session.Session().client('s3')\n",
    "\n",
    "\"\"\"\n",
    "response = client.create_bucket(Bucket=bucketname)\n",
    "print(response)\n",
    "\n",
    "\"\"\"\n",
    "\n",
    "\n",
    "\n",
    "def main(bucketname):\n",
    "    try:\n",
    "        response = client.create_bucket(Bucket=bucketname)\n",
    "        print(response)\n",
    "        \n",
    "    except ClientError as err:\n",
    "        if err.response['Error']['Code'] =='InvalidBucketName':\n",
    "            print(f\"invalid bucket name {bucketname}\")\n",
    "            \n",
    "    except ClientError as err:\n",
    "        print(err.response['Error']['Message'])\n",
    "            \n",
    "    return None\n",
    "\n",
    "\n",
    "if __name__ == \"__main__\":\n",
    "    main(bucketname=\"kojitestbucket\")\n",
    "\n",
    "    \n",
    "\n",
    "\n"
   ]
  },
  {
   "cell_type": "code",
   "execution_count": null,
   "id": "0b24a41f",
   "metadata": {},
   "outputs": [],
   "source": []
  },
  {
   "cell_type": "code",
   "execution_count": null,
   "id": "079e344b",
   "metadata": {},
   "outputs": [],
   "source": [
    "\n"
   ]
  },
  {
   "cell_type": "code",
   "execution_count": null,
   "id": "193e4364",
   "metadata": {},
   "outputs": [],
   "source": []
  },
  {
   "cell_type": "code",
   "execution_count": null,
   "id": "adfeb434",
   "metadata": {},
   "outputs": [],
   "source": [
    "\n"
   ]
  }
 ],
 "metadata": {
  "kernelspec": {
   "display_name": "Python 3 (ipykernel)",
   "language": "python",
   "name": "python3"
  },
  "language_info": {
   "codemirror_mode": {
    "name": "ipython",
    "version": 3
   },
   "file_extension": ".py",
   "mimetype": "text/x-python",
   "name": "python",
   "nbconvert_exporter": "python",
   "pygments_lexer": "ipython3",
   "version": "3.9.12"
  }
 },
 "nbformat": 4,
 "nbformat_minor": 5
}
