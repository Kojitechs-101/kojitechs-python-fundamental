{
 "cells": [
  {
   "cell_type": "markdown",
   "id": "cb38ca5a",
   "metadata": {},
   "source": [
    "## Stopping instance"
   ]
  },
  {
   "cell_type": "code",
   "execution_count": 1,
   "id": "7d2b36f8",
   "metadata": {},
   "outputs": [],
   "source": [
    "import boto3\n",
    "import time\n",
    "\n",
    "# create session \n",
    "session = boto3.session.Session() \n",
    "\n",
    "# create client object \n",
    "client = session.client('ec2', 'us-east-1')\n",
    "\n",
    "# create resource object \n",
    "resource = session.resource('ec2', 'us-east-1')\n"
   ]
  },
  {
   "cell_type": "code",
   "execution_count": 11,
   "id": "bfffb3f5",
   "metadata": {},
   "outputs": [
    {
     "name": "stdout",
     "output_type": "stream",
     "text": [
      "stopping instance\n",
      "instance stopped!\n"
     ]
    }
   ],
   "source": [
    "## .all()\n",
    "## .filter()\n",
    "## .limit()\n",
    "\n",
    "\n",
    "def stopping_ec2_with_re():\n",
    "    response = resource.instances.all()\n",
    "    for i in response:\n",
    "        print(\"stopping instance\")\n",
    "        if i.state['Name'] == 'running':\n",
    "            i.stop()\n",
    "        print(\"instance stopped!\")    \n",
    "\n",
    "        \n",
    "def lambda_handler():\n",
    "    stopping_ec2_with_re()\n",
    "\n",
    "\n",
    "if __name__ == \"__main__\":\n",
    "    lambda_handler()"
   ]
  },
  {
   "cell_type": "markdown",
   "id": "4d64489c",
   "metadata": {},
   "source": [
    "## although python says instance is stopped it's not quite accurate "
   ]
  },
  {
   "cell_type": "code",
   "execution_count": 12,
   "id": "771cfa2b",
   "metadata": {},
   "outputs": [
    {
     "name": "stdout",
     "output_type": "stream",
     "text": [
      "the current instance state is running, starting instance...\n",
      "the current instance state is stopped...\n",
      "instance is up and stopped....\n",
      "the current instance state is running, starting instance...\n",
      "the current instance state is stopped...\n",
      "instance is up and stopped....\n"
     ]
    }
   ],
   "source": [
    "def stopping_ec2_with_re():\n",
    "    response = resource.instances.all()\n",
    "    for i in response:\n",
    "        print(f\"the current instance state is {i.state['Name']}, starting instance...\")\n",
    "        if i.state['Name'] == 'running':\n",
    "            i.stop() \n",
    "            i.wait_until_stopped() # thi\n",
    "        print(f\"the current instance state is {i.state['Name']}...\")   \n",
    "        print(\"instance is up and stopped....\")\n",
    "        \n",
    "def lambda_handler():\n",
    "    stopping_ec2_with_re()\n",
    "\n",
    "\n",
    "if __name__ == \"__main__\":\n",
    "    lambda_handler()"
   ]
  },
  {
   "cell_type": "markdown",
   "id": "ab06863b",
   "metadata": {},
   "source": [
    "## starting instance ...."
   ]
  },
  {
   "cell_type": "code",
   "execution_count": 10,
   "id": "da0c7d91",
   "metadata": {},
   "outputs": [
    {
     "name": "stdout",
     "output_type": "stream",
     "text": [
      "the current instance state is stopped...\n",
      "the current instance state is running...\n",
      "instance is up and running....\n"
     ]
    }
   ],
   "source": [
    "def starting_ec2_with_re():\n",
    "    response = resource.instances.all()\n",
    "    for i in response:\n",
    "        print(f\"the current instance state is {i.state['Name']}, starting instance...\")\n",
    "        if i.state['Name'] == 'stopped':\n",
    "            i.start()\n",
    "            i.wait_until_running() \n",
    "        print(f\"the current instance state is {i.state['Name']}...\")   \n",
    "        print(\"instance is up and running....\")\n",
    "        \n",
    "def lambda_handler():\n",
    "    starting_ec2_with_re()\n",
    "\n",
    "\n",
    "if __name__ == \"__main__\":\n",
    "    lambda_handler()"
   ]
  },
  {
   "cell_type": "code",
   "execution_count": 14,
   "id": "3c1157ad",
   "metadata": {},
   "outputs": [
    {
     "name": "stdout",
     "output_type": "stream",
     "text": [
      "I got h\n",
      "I got e\n",
      "I got l\n",
      "I got l\n",
      "I got o\n",
      "I got  \n",
      "I got k\n",
      "I got o\n",
      "I got j\n",
      "I got i\n",
      "I got t\n",
      "I got e\n",
      "I got c\n",
      "I got h\n",
      "I got s\n"
     ]
    }
   ],
   "source": [
    "for i in \"hello kojitechs\":\n",
    "    print(f\"I got {i}\")\n",
    "    time.sleep(3)"
   ]
  },
  {
   "cell_type": "markdown",
   "id": "8d37371f",
   "metadata": {},
   "source": [
    "## This script is not good!!"
   ]
  },
  {
   "cell_type": "code",
   "execution_count": null,
   "id": "0312eeb1",
   "metadata": {},
   "outputs": [],
   "source": []
  }
 ],
 "metadata": {
  "kernelspec": {
   "display_name": "Python 3 (ipykernel)",
   "language": "python",
   "name": "python3"
  },
  "language_info": {
   "codemirror_mode": {
    "name": "ipython",
    "version": 3
   },
   "file_extension": ".py",
   "mimetype": "text/x-python",
   "name": "python",
   "nbconvert_exporter": "python",
   "pygments_lexer": "ipython3",
   "version": "3.9.12"
  },
  "vscode": {
   "interpreter": {
    "hash": "949777d72b0d2535278d3dc13498b2535136f6dfe0678499012e853ee9abcab1"
   }
  }
 },
 "nbformat": 4,
 "nbformat_minor": 5
}
