{
 "cells": [
  {
   "cell_type": "markdown",
   "id": "97c7935a",
   "metadata": {},
   "source": [
    "## Meta"
   ]
  },
  {
   "cell_type": "code",
   "execution_count": 1,
   "id": "fe75ea63",
   "metadata": {},
   "outputs": [],
   "source": [
    "# > session \n",
    "# > client \n",
    "# > resource #  \n",
    "# > waiter \n",
    "# > meta ()\n",
    "from pprint import pprint\n",
    "\n",
    "import boto3 \n",
    "\n",
    "client = boto3.session.Session().client('ec2', 'us-east-1')\n",
    "resource = boto3.session.Session().resource('ec2', 'us-east-1')\n",
    "\n",
    "def get_available_regions():\n",
    "    # we must not use client\n",
    "    regions = []\n",
    "    response = client.describe_regions()['Regions']\n",
    "    \n",
    "    for region in response:\n",
    "        regions.append(region['RegionName'])\n",
    "    print(regions, len(regions) )    \n",
    "        \n",
    "    \n",
    "    \n",
    "def using_meta_object():\n",
    "    regions = []\n",
    "    response = resource.meta.client.describe_regions()['Regions']\n",
    "    for region in response:\n",
    "        regions.append(region['RegionName'])\n",
    "    print(len(regions), regions)\n",
    "    \n",
    "    \n",
    "\n",
    "\n"
   ]
  },
  {
   "cell_type": "code",
   "execution_count": 2,
   "id": "ea32737f",
   "metadata": {},
   "outputs": [
    {
     "name": "stdout",
     "output_type": "stream",
     "text": [
      "['eu-north-1', 'ap-south-1', 'eu-west-3', 'eu-west-2', 'eu-west-1', 'ap-northeast-3', 'ap-northeast-2', 'ap-northeast-1', 'sa-east-1', 'ca-central-1', 'ap-southeast-1', 'ap-southeast-2', 'eu-central-1', 'us-east-1', 'us-east-2', 'us-west-1', 'us-west-2'] 17\n"
     ]
    }
   ],
   "source": [
    "def lambda_handler():\n",
    "    get_available_regions()\n",
    "#     using_meta_object()\n",
    "\n",
    "\n",
    "\n",
    "\n",
    "if __name__ == \"__main__\":\n",
    "    lambda_handler()"
   ]
  },
  {
   "cell_type": "code",
   "execution_count": null,
   "id": "b9bf2d2a",
   "metadata": {},
   "outputs": [],
   "source": []
  }
 ],
 "metadata": {
  "kernelspec": {
   "display_name": "Python 3.10.0 64-bit",
   "language": "python",
   "name": "python3"
  },
  "language_info": {
   "codemirror_mode": {
    "name": "ipython",
    "version": 3
   },
   "file_extension": ".py",
   "mimetype": "text/x-python",
   "name": "python",
   "nbconvert_exporter": "python",
   "pygments_lexer": "ipython3",
   "version": "3.10.0"
  },
  "vscode": {
   "interpreter": {
    "hash": "949777d72b0d2535278d3dc13498b2535136f6dfe0678499012e853ee9abcab1"
   }
  }
 },
 "nbformat": 4,
 "nbformat_minor": 5
}
