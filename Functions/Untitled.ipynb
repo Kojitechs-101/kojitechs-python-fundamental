{
 "cells": [
  {
   "cell_type": "markdown",
   "id": "ee280943",
   "metadata": {},
   "source": [
    "## Function\n"
   ]
  },
  {
   "cell_type": "code",
   "execution_count": 8,
   "id": "9bc29565",
   "metadata": {},
   "outputs": [
    {
     "name": "stdout",
     "output_type": "stream",
     "text": [
      "Enter Number: 12\n",
      "FIZZ\n"
     ]
    }
   ],
   "source": [
    "## DRY()\n",
    "\n",
    "## if a user private any number that's a multiple of 3, print \"FIZZ\"\n",
    "## multiple of 5 print \"BUZZ\"\n",
    "## is both thoth the multiple of 5 && 3 prince \"FIZZ_BUZZ\"\n",
    "## it's neither a multiple 3, or 5 then print the number\n",
    "## FIZZ_BUZZ\n",
    "\n",
    "x = int(input(\"Enter Number: \"))\n",
    "\n",
    "if (x%3 ==0) and (x % 5 == 0): \n",
    "    print(\"FIZZ_BUZZ\")\n",
    "elif x%3 == 0:\n",
    "    print(\"FIZZ\")\n",
    "elif x % 5 == 0:\n",
    "    print(\"BUZZ\")\n",
    "else:\n",
    "    print(x)\n",
    "\n",
    "## line 12    "
   ]
  },
  {
   "cell_type": "code",
   "execution_count": 9,
   "id": "7754e355",
   "metadata": {},
   "outputs": [
    {
     "name": "stdout",
     "output_type": "stream",
     "text": [
      "Enter Number: 23\n",
      "23\n"
     ]
    }
   ],
   "source": [
    "## kojibello\n",
    "\n",
    "\n",
    "\n",
    "## 25 \n",
    "\n",
    "x = int(input(\"Enter Number: \"))\n",
    "\n",
    "if (x%3 ==0) and (x % 5 == 0): \n",
    "    print(\"FIZZ_BUZZ\")\n",
    "elif x%3 == 0:\n",
    "    print(\"FIZZ\")\n",
    "elif x % 5 == 0:\n",
    "    print(\"BUZZ\")\n",
    "else:\n",
    "    print(x)\n"
   ]
  },
  {
   "cell_type": "markdown",
   "id": "94a9c546",
   "metadata": {},
   "source": [
    "## To Name your function:  Avoid using those builtins(True,False)"
   ]
  },
  {
   "cell_type": "code",
   "execution_count": 12,
   "id": "8faf63a7",
   "metadata": {},
   "outputs": [],
   "source": [
    "\n",
    "## CReate a function \n",
    "def fizz_buzz():\n",
    "    ## No Paramter: \n",
    "    ## No argu\n",
    "    x = int(input(\"Enter Number: \"))\n",
    "\n",
    "    if (x%3 ==0) and (x % 5 == 0): \n",
    "        print(\"FIZZ_BUZZ\")\n",
    "    elif x%3 == 0:\n",
    "        print(\"FIZZ\")\n",
    "    elif x % 5 == 0:\n",
    "        print(\"BUZZ\")\n",
    "    else:\n",
    "        print(x)\n"
   ]
  },
  {
   "cell_type": "code",
   "execution_count": null,
   "id": "65bd4c1d",
   "metadata": {},
   "outputs": [],
   "source": []
  },
  {
   "cell_type": "code",
   "execution_count": null,
   "id": "6f0b190b",
   "metadata": {},
   "outputs": [],
   "source": []
  },
  {
   "cell_type": "code",
   "execution_count": null,
   "id": "6fae0315",
   "metadata": {},
   "outputs": [],
   "source": []
  },
  {
   "cell_type": "code",
   "execution_count": null,
   "id": "16ef6b0f",
   "metadata": {},
   "outputs": [],
   "source": []
  },
  {
   "cell_type": "code",
   "execution_count": null,
   "id": "503106b8",
   "metadata": {},
   "outputs": [],
   "source": []
  },
  {
   "cell_type": "code",
   "execution_count": 13,
   "id": "27336991",
   "metadata": {},
   "outputs": [
    {
     "name": "stdout",
     "output_type": "stream",
     "text": [
      "Enter Number: 1\n",
      "1\n"
     ]
    }
   ],
   "source": [
    "\n",
    "fizz_buzz()\n"
   ]
  },
  {
   "cell_type": "code",
   "execution_count": null,
   "id": "dc8210e0",
   "metadata": {},
   "outputs": [],
   "source": []
  }
 ],
 "metadata": {
  "kernelspec": {
   "display_name": "Python 3 (ipykernel)",
   "language": "python",
   "name": "python3"
  },
  "language_info": {
   "codemirror_mode": {
    "name": "ipython",
    "version": 3
   },
   "file_extension": ".py",
   "mimetype": "text/x-python",
   "name": "python",
   "nbconvert_exporter": "python",
   "pygments_lexer": "ipython3",
   "version": "3.9.12"
  }
 },
 "nbformat": 4,
 "nbformat_minor": 5
}
