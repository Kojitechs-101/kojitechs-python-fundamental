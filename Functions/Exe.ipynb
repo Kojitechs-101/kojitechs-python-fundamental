{
 "cells": [
  {
   "cell_type": "markdown",
   "id": "a70a3462",
   "metadata": {},
   "source": [
    "## Function\n"
   ]
  },
  {
   "cell_type": "code",
   "execution_count": 8,
   "id": "72ef2c44",
   "metadata": {},
   "outputs": [
    {
     "name": "stdout",
     "output_type": "stream",
     "text": [
      "Enter Number: 12\n",
      "FIZZ\n"
     ]
    }
   ],
   "source": [
    "## DRY()\n",
    "\n",
    "## if a user private any number that's a multiple of 3, print \"FIZZ\"\n",
    "## multiple of 5 print \"BUZZ\"\n",
    "## is both thoth the multiple of 5 && 3 prince \"FIZZ_BUZZ\"\n",
    "## it's neither a multiple 3, or 5 then print the number\n",
    "## FIZZ_BUZZ\n",
    "\n",
    "x = int(input(\"Enter Number: \"))\n",
    "\n",
    "if (x%3 ==0) and (x % 5 == 0): \n",
    "    print(\"FIZZ_BUZZ\")\n",
    "elif x%3 == 0:\n",
    "    print(\"FIZZ\")\n",
    "elif x % 5 == 0:\n",
    "    print(\"BUZZ\")\n",
    "else:\n",
    "    print(x)\n",
    "\n",
    "## line 12    "
   ]
  },
  {
   "cell_type": "code",
   "execution_count": 9,
   "id": "e96d472f",
   "metadata": {},
   "outputs": [
    {
     "name": "stdout",
     "output_type": "stream",
     "text": [
      "Enter Number: 23\n",
      "23\n"
     ]
    }
   ],
   "source": [
    "## kojibello\n",
    "\n",
    "\n",
    "\n",
    "## 25 \n",
    "\n",
    "\n",
    "\n",
    "if (x%3 ==0) and (x % 5 == 0): \n",
    "    print(\"FIZZ_BUZZ\")\n",
    "elif x%3 == 0:\n",
    "    print(\"FIZZ\")\n",
    "elif x % 5 == 0:\n",
    "    print(\"BUZZ\")\n",
    "else:\n",
    "    print(x)\n"
   ]
  },
  {
   "cell_type": "markdown",
   "id": "9966221c",
   "metadata": {},
   "source": [
    "## To Name your function:  Avoid using those builtins(True,False)"
   ]
  },
  {
   "cell_type": "code",
   "execution_count": 2,
   "id": "e0ad709f",
   "metadata": {},
   "outputs": [],
   "source": [
    "\n",
    "## CReate a function \n",
    "def fizz_buzz():\n",
    "    x = int(input(\"Enter Number: \"))\n",
    "\n",
    "    if (x%3 ==0) and (x % 5 == 0): \n",
    "        print(\"FIZZ_BUZZ\")\n",
    "    elif x%3 == 0:\n",
    "        print(\"FIZZ\")\n",
    "    elif x % 5 == 0:\n",
    "        print(\"BUZZ\")\n",
    "    else:\n",
    "        print(x)\n"
   ]
  },
  {
   "cell_type": "code",
   "execution_count": 3,
   "id": "6967e761",
   "metadata": {},
   "outputs": [
    {
     "name": "stdout",
     "output_type": "stream",
     "text": [
      "Enter Number: 12\n",
      "FIZZ\n"
     ]
    }
   ],
   "source": [
    "fizz_buzz()"
   ]
  },
  {
   "cell_type": "markdown",
   "id": "32ddbf8c",
   "metadata": {},
   "source": [
    "## Parameters && arguments"
   ]
  },
  {
   "cell_type": "code",
   "execution_count": 5,
   "id": "27ab6cd0",
   "metadata": {},
   "outputs": [],
   "source": [
    "\n",
    "## CReate a function \n",
    "def fizz_buzz(x):\n",
    "    \"\"\"This is fuzz_buzz function\n",
    "    Paramter: x (int)\n",
    "    \"\"\"\n",
    "    if (x%3 ==0) and (x % 5 == 0): \n",
    "        print(\"FIZZ_BUZZ\")\n",
    "    elif x%3 == 0:\n",
    "        print(\"FIZZ\")\n",
    "    elif x % 5 == 0:\n",
    "        print(\"BUZZ\")\n",
    "    else:\n",
    "        print(x)\n",
    "    return None    \n",
    "        \n",
    "# def main():\n",
    "#     print(x)\n",
    "#     pass\n"
   ]
  },
  {
   "cell_type": "code",
   "execution_count": 8,
   "id": "75e9b1ae",
   "metadata": {},
   "outputs": [
    {
     "name": "stdout",
     "output_type": "stream",
     "text": [
      "FIZZ\n"
     ]
    }
   ],
   "source": [
    "## Calling function without an argument.\n",
    "## postional argument\n",
    "fizz_buzz(12)"
   ]
  },
  {
   "cell_type": "markdown",
   "id": "b117b661",
   "metadata": {},
   "source": [
    "\n",
    "## Positional and key word argument\n"
   ]
  },
  {
   "cell_type": "code",
   "execution_count": 12,
   "id": "21202f7b",
   "metadata": {},
   "outputs": [
    {
     "name": "stdout",
     "output_type": "stream",
     "text": [
      "22\n"
     ]
    }
   ],
   "source": [
    "## by default all function return None\n",
    "def addion_two_numbers(x,y):\n",
    "                      # 0,1\n",
    "    \"\"\"This add two numbers\n",
    "    Paramter: x,y (int)\n",
    "    Return: None\n",
    "    \"\"\"\n",
    "    print( x + y)\n",
    "    return None\n",
    "    \n",
    "## positional arguments    \n",
    "addion_two_numbers(12, 10)\n",
    "                  # 0, 1"
   ]
  },
  {
   "cell_type": "markdown",
   "id": "60d69545",
   "metadata": {},
   "source": [
    "## Calling function by key"
   ]
  },
  {
   "cell_type": "code",
   "execution_count": 15,
   "id": "b515b372",
   "metadata": {},
   "outputs": [
    {
     "name": "stdout",
     "output_type": "stream",
     "text": [
      "132\n"
     ]
    }
   ],
   "source": [
    "## positional arguments    \n",
    "addion_two_numbers(y=12, x=120)\n"
   ]
  },
  {
   "cell_type": "code",
   "execution_count": 16,
   "id": "d1e4d351",
   "metadata": {},
   "outputs": [],
   "source": [
    "## by default all function return None\n",
    "def subtract_two_numbers(x,y):\n",
    "                      # 0,1\n",
    "    \"\"\"This subtact two numbers\n",
    "    Paramter: x,y (int)\n",
    "    Return: None\n",
    "    \"\"\"\n",
    "    print( x - y)\n",
    "    return None\n",
    "    "
   ]
  },
  {
   "cell_type": "code",
   "execution_count": null,
   "id": "6c35b520",
   "metadata": {},
   "outputs": [],
   "source": []
  },
  {
   "cell_type": "code",
   "execution_count": 17,
   "id": "7865558c",
   "metadata": {},
   "outputs": [
    {
     "name": "stdout",
     "output_type": "stream",
     "text": [
      "-100\n"
     ]
    }
   ],
   "source": [
    "## postional arguments\n",
    "subtract_two_numbers(100, 200)"
   ]
  },
  {
   "cell_type": "code",
   "execution_count": 18,
   "id": "c66b05ea",
   "metadata": {},
   "outputs": [
    {
     "name": "stdout",
     "output_type": "stream",
     "text": [
      "100\n"
     ]
    }
   ],
   "source": [
    "## key word arguments\n",
    "subtract_two_numbers(y=100, x=200)"
   ]
  },
  {
   "cell_type": "markdown",
   "id": "4c27817b",
   "metadata": {},
   "source": [
    "## types of function"
   ]
  },
  {
   "cell_type": "markdown",
   "id": "f9469524",
   "metadata": {},
   "source": [
    "## there'r two types of functions\n",
    "print function && Return Function."
   ]
  },
  {
   "cell_type": "code",
   "execution_count": 38,
   "id": "117d4723",
   "metadata": {},
   "outputs": [],
   "source": [
    "def show_result_function(x):\n",
    "    print(f\"My name is {x}\")\n",
    "    return None\n",
    "        "
   ]
  },
  {
   "cell_type": "code",
   "execution_count": 39,
   "id": "11f44ca6",
   "metadata": {
    "scrolled": true
   },
   "outputs": [
    {
     "name": "stdout",
     "output_type": "stream",
     "text": [
      "My name is Grand Baca\n"
     ]
    }
   ],
   "source": [
    "show_result_function(x=\"Grand Baca\")"
   ]
  },
  {
   "cell_type": "code",
   "execution_count": 40,
   "id": "64381036",
   "metadata": {
    "scrolled": false
   },
   "outputs": [
    {
     "data": {
      "text/plain": [
       "'My name is Grand Baca'"
      ]
     },
     "execution_count": 40,
     "metadata": {},
     "output_type": "execute_result"
    }
   ],
   "source": [
    "## store result back to a function\n",
    "def show_result_function(x):\n",
    "    return f\"My name is {x}\"\n",
    "\n",
    "show_result_function(\"Grand Baca\")"
   ]
  },
  {
   "cell_type": "code",
   "execution_count": 34,
   "id": "cc91a491",
   "metadata": {},
   "outputs": [
    {
     "name": "stdout",
     "output_type": "stream",
     "text": [
      "11\n"
     ]
    }
   ],
   "source": [
    "result = show_result_function(12)\n",
    "print(result)"
   ]
  },
  {
   "cell_type": "code",
   "execution_count": null,
   "id": "9ca426d1",
   "metadata": {},
   "outputs": [],
   "source": []
  }
 ],
 "metadata": {
  "kernelspec": {
   "display_name": "Python 3 (ipykernel)",
   "language": "python",
   "name": "python3"
  },
  "language_info": {
   "codemirror_mode": {
    "name": "ipython",
    "version": 3
   },
   "file_extension": ".py",
   "mimetype": "text/x-python",
   "name": "python",
   "nbconvert_exporter": "python",
   "pygments_lexer": "ipython3",
   "version": "3.9.12"
  }
 },
 "nbformat": 4,
 "nbformat_minor": 5
}
