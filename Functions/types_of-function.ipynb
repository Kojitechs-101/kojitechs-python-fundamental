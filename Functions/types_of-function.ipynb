{
 "cells": [
  {
   "cell_type": "markdown",
   "id": "e0fd5ba8",
   "metadata": {},
   "source": [
    "## how many type of function there is"
   ]
  },
  {
   "cell_type": "markdown",
   "id": "5e058418",
   "metadata": {},
   "source": [
    "## This is a print function"
   ]
  },
  {
   "cell_type": "code",
   "execution_count": 9,
   "id": "3ff4af20",
   "metadata": {},
   "outputs": [
    {
     "name": "stdout",
     "output_type": "stream",
     "text": [
      "Buzz\n"
     ]
    }
   ],
   "source": [
    "\n",
    "## print function\n",
    "def Fizz_Buss(num):\n",
    "    if num % 3== 0 and num  % 5 == 0:\n",
    "        print(\"Fizz_Buzz\")\n",
    "    elif num %3==0:\n",
    "        print(\"Fizz\")\n",
    "    elif num % 5 == 0:\n",
    "        print(\"Buzz\")\n",
    "    else:\n",
    "        print(num)\n",
    "    return None    \n",
    "        \n",
    "Fizz_Buss(25)        "
   ]
  },
  {
   "cell_type": "code",
   "execution_count": 10,
   "id": "1df95df5",
   "metadata": {},
   "outputs": [
    {
     "name": "stdout",
     "output_type": "stream",
     "text": [
      "Buzz\n"
     ]
    }
   ],
   "source": [
    "Fizz_Buss(25) "
   ]
  },
  {
   "cell_type": "markdown",
   "id": "397d8712",
   "metadata": {},
   "source": [
    "## Defining a return function"
   ]
  },
  {
   "cell_type": "code",
   "execution_count": 12,
   "id": "6ed3683f",
   "metadata": {},
   "outputs": [],
   "source": [
    "\n",
    "# ## print function\n",
    "# def Fizz_Buss(num):\n",
    "#     if num % 3== 0 and num  % 5 == 0:\n",
    "#         return \"Fizz_Buzz\"\n",
    "#     elif num %3==0:\n",
    "#         return \"Fizz\"\n",
    "#     elif num % 5 == 0:\n",
    "#         return \"Buzz\"\n",
    "#     else:\n",
    "#         return num \n",
    "    \n",
    "        \n",
    "# Fizz_Buss(25)   "
   ]
  },
  {
   "cell_type": "code",
   "execution_count": 13,
   "id": "f48a6b37",
   "metadata": {},
   "outputs": [
    {
     "name": "stdout",
     "output_type": "stream",
     "text": [
      "Sending welcome email to Grand Baca\n",
      "Hello Grand Baca you have insufficient balance\n"
     ]
    }
   ],
   "source": [
    "def send_email(name):\n",
    "    print(f\"Sending welcome email to {name}\")\n",
    "    print(f\"Hello {name} you have insufficient balance\")\n",
    "    \n",
    "send_email(\"Grand Baca\")    "
   ]
  },
  {
   "cell_type": "code",
   "execution_count": 19,
   "id": "746007f8",
   "metadata": {},
   "outputs": [],
   "source": [
    "def send_email(name):\n",
    "    return f\"Sending welcome email to {name}\\nHello {name} you have insufficient balance\"\n",
    "\n",
    "def welcome():\n",
    "    email = send_email(\"Grand Baca\") \n",
    "    print(email)\n",
    "    \n",
    "    "
   ]
  },
  {
   "cell_type": "code",
   "execution_count": 20,
   "id": "c5981b40",
   "metadata": {},
   "outputs": [
    {
     "name": "stdout",
     "output_type": "stream",
     "text": [
      "Sending welcome email to Grand Baca\n",
      "Hello Grand Baca you have insufficient balance\n"
     ]
    }
   ],
   "source": [
    "welcome()"
   ]
  },
  {
   "cell_type": "code",
   "execution_count": 22,
   "id": "37f7748d",
   "metadata": {},
   "outputs": [
    {
     "name": "stdout",
     "output_type": "stream",
     "text": [
      "Sending welcome email to koji\n",
      "Hello koji you have insufficient balance\n"
     ]
    }
   ],
   "source": [
    "second = send_email(name=\"koji\")\n",
    "print(second)"
   ]
  },
  {
   "cell_type": "code",
   "execution_count": null,
   "id": "5de80204",
   "metadata": {},
   "outputs": [],
   "source": []
  },
  {
   "cell_type": "code",
   "execution_count": null,
   "id": "a4162e6c",
   "metadata": {},
   "outputs": [],
   "source": []
  }
 ],
 "metadata": {
  "kernelspec": {
   "display_name": "Python ('a')",
   "language": "python",
   "name": "python3"
  },
  "language_info": {
   "codemirror_mode": {
    "name": "ipython",
    "version": 3
   },
   "file_extension": ".py",
   "mimetype": "text/x-python",
   "name": "python",
   "nbconvert_exporter": "python",
   "pygments_lexer": "ipython3",
   "version": ""
  },
  "vscode": {
   "interpreter": {
    "hash": "949777d72b0d2535278d3dc13498b2535136f6dfe0678499012e853ee9abcab1"
   }
  }
 },
 "nbformat": 4,
 "nbformat_minor": 5
}
