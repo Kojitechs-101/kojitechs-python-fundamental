{
 "cells": [
  {
   "cell_type": "markdown",
   "id": "fc625242",
   "metadata": {},
   "source": [
    "## args && kwargs in python function"
   ]
  },
  {
   "cell_type": "code",
   "execution_count": 7,
   "id": "daf3d31c",
   "metadata": {},
   "outputs": [
    {
     "name": "stdout",
     "output_type": "stream",
     "text": [
      "koji\n"
     ]
    }
   ],
   "source": [
    "## args \n",
    "\n",
    "def list_students(*items):\n",
    "    for item in items:\n",
    "        print(item)\n",
    "#  args =   \n",
    "names = [\"koji\"]\n",
    "list_students(names)        "
   ]
  },
  {
   "cell_type": "code",
   "execution_count": 36,
   "id": "42941f25",
   "metadata": {},
   "outputs": [
    {
     "name": "stdout",
     "output_type": "stream",
     "text": [
      "23.2\n"
     ]
    }
   ],
   "source": [
    "def sum_numbers(*args):\n",
    "    print(sum(args)/ len(args))\n",
    "    \n",
    "sum_numbers(2,12,23,34,45)    \n",
    "\n"
   ]
  },
  {
   "cell_type": "code",
   "execution_count": 32,
   "id": "d52cbfe1",
   "metadata": {},
   "outputs": [
    {
     "name": "stdout",
     "output_type": "stream",
     "text": [
      "2\n"
     ]
    }
   ],
   "source": [
    "\n",
    "def l_numbers(*args):\n",
    "    print(sum(args)) # NOT ACCEPTABLE\n",
    "    \n",
    "l_numbers(2)    \n",
    "\n",
    " "
   ]
  },
  {
   "cell_type": "markdown",
   "id": "f21cb209",
   "metadata": {},
   "source": [
    "## kwargs\n"
   ]
  },
  {
   "cell_type": "code",
   "execution_count": 5,
   "id": "a0d10820",
   "metadata": {},
   "outputs": [
    {
     "name": "stdout",
     "output_type": "stream",
     "text": [
      "Koji\n"
     ]
    }
   ],
   "source": [
    "bucket = \"koji\" # str\n",
    "\n",
    "# kwargs\n",
    "students = {\"name\":\"Koji\", \"age\": 24, \"Language\": \"English\"}\n",
    "\n",
    "print(students['name'])\n",
    "\n"
   ]
  },
  {
   "cell_type": "code",
   "execution_count": 11,
   "id": "00ccaef9",
   "metadata": {},
   "outputs": [
    {
     "name": "stdout",
     "output_type": "stream",
     "text": [
      "paul Baca ('koji', 'bello')\n"
     ]
    }
   ],
   "source": [
    "def student_list(name, orgnames, *listofnames,):\n",
    "    print(name,orgnames,listofnames)\n",
    "    \n",
    "student_list(\"paul\",\"Baca\",\"koji\",\"bello\")    "
   ]
  },
  {
   "cell_type": "code",
   "execution_count": 24,
   "id": "9e851eec",
   "metadata": {},
   "outputs": [
    {
     "name": "stdout",
     "output_type": "stream",
     "text": [
      "Samsung 1234\n",
      "iphone 1000\n",
      "Techno 2000\n",
      "motorola 50000\n"
     ]
    }
   ],
   "source": [
    "\n",
    "def phone_shop(**kwargs):\n",
    "    #print(kwargs.values())\n",
    "    for k,v in kwargs.items():\n",
    "        print(k,v)\n",
    "    \n",
    "    \n",
    "phone_shop(Samsung=1234,iphone=1000,Techno=2000,motorola=50000)        "
   ]
  },
  {
   "cell_type": "markdown",
   "id": "d88a74c9",
   "metadata": {},
   "source": [
    "\n",
    "## Puting together all the parameter concept in python function \n"
   ]
  },
  {
   "cell_type": "code",
   "execution_count": 48,
   "id": "3cd36a5e",
   "metadata": {},
   "outputs": [
    {
     "name": "stdout",
     "output_type": "stream",
     "text": [
      "I'm learning python\n",
      "i AM agent\n",
      "i AM pilot\n",
      "I am kwargs ('first_name', 'Koji')\n"
     ]
    }
   ],
   "source": [
    "def printing_data(codeName, *args, **kwargs):\n",
    "    # working simple parameter : codeName\n",
    "    print(f\"I'm learning {codeName}\")\n",
    "    \n",
    "    # working with args \n",
    "    for arg in args:\n",
    "        print(\"i AM\",arg)\n",
    "        \n",
    "    ## working with kwargs\n",
    "\n",
    "    for keyword in kwargs.items():\n",
    "        print('I am kwargs',keyword)\n",
    "\n",
    "    \n",
    "printing_data(\"python\", 'agent','pilot', first_name=\"Koji\")    \n",
    "    "
   ]
  },
  {
   "cell_type": "code",
   "execution_count": 46,
   "id": "0fef153d",
   "metadata": {},
   "outputs": [
    {
     "name": "stdout",
     "output_type": "stream",
     "text": [
      "I'm learning Java\n"
     ]
    }
   ],
   "source": [
    "printing_data(\"Java\")    "
   ]
  },
  {
   "cell_type": "code",
   "execution_count": 34,
   "id": "d543fc94",
   "metadata": {},
   "outputs": [
    {
     "name": "stdout",
     "output_type": "stream",
     "text": [
      "<class 'tuple'>\n",
      "<class 'tuple'>\n"
     ]
    }
   ],
   "source": []
  },
  {
   "cell_type": "code",
   "execution_count": 47,
   "id": "90a0d12d",
   "metadata": {},
   "outputs": [
    {
     "name": "stdout",
     "output_type": "stream",
     "text": [
      "I'm learning Python\n"
     ]
    }
   ],
   "source": [
    "printing_data(\"Python\")"
   ]
  },
  {
   "cell_type": "code",
   "execution_count": null,
   "id": "1488a218",
   "metadata": {},
   "outputs": [],
   "source": []
  },
  {
   "cell_type": "code",
   "execution_count": null,
   "id": "6c9cba2e",
   "metadata": {},
   "outputs": [],
   "source": []
  }
 ],
 "metadata": {
  "kernelspec": {
   "display_name": "Python 3 (ipykernel)",
   "language": "python",
   "name": "python3"
  },
  "language_info": {
   "codemirror_mode": {
    "name": "ipython",
    "version": 3
   },
   "file_extension": ".py",
   "mimetype": "text/x-python",
   "name": "python",
   "nbconvert_exporter": "python",
   "pygments_lexer": "ipython3",
   "version": "3.9.12"
  }
 },
 "nbformat": 4,
 "nbformat_minor": 5
}
