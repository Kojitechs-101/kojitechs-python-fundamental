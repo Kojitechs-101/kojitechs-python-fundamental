{
 "cells": [
  {
   "cell_type": "markdown",
   "id": "5514b862",
   "metadata": {},
   "source": [
    "## All programs are writen in functions"
   ]
  },
  {
   "cell_type": "code",
   "execution_count": 4,
   "id": "90d0f6d9",
   "metadata": {},
   "outputs": [
    {
     "name": "stdout",
     "output_type": "stream",
     "text": [
      "Hello from line one\n",
      "ending\n",
      "WHat is you name: koji\n",
      "you are welcome koji\n",
      "thanks for subcribing to kojitechs\n"
     ]
    }
   ],
   "source": [
    "# DRY ==> Do't Repeat Yourself\n",
    "\n",
    "\n",
    "## Hello program\n",
    "print(\"Hello from line one\")\n",
    "print(\"ending\")\n",
    "##greetings program\n"
   ]
  },
  {
   "cell_type": "code",
   "execution_count": 5,
   "id": "9830f93d",
   "metadata": {},
   "outputs": [
    {
     "name": "stdout",
     "output_type": "stream",
     "text": [
      "WHat is you name: koji\n",
      "you are welcome koji\n",
      "thanks for subcribing to kojitechs\n"
     ]
    }
   ],
   "source": [
    "\n",
    "\n",
    "name = input(\"WHat is you name: \")\n",
    "print(f\"you are welcome {name}\")\n",
    "print(\"thanks for subcribing to kojitechs\")\n",
    "\n"
   ]
  },
  {
   "cell_type": "code",
   "execution_count": null,
   "id": "f635da94",
   "metadata": {},
   "outputs": [],
   "source": []
  },
  {
   "cell_type": "code",
   "execution_count": 6,
   "id": "a31bf445",
   "metadata": {},
   "outputs": [
    {
     "name": "stdout",
     "output_type": "stream",
     "text": [
      "WHat is you name: baca\n",
      "you are welcome baca\n",
      "thanks for subcribing to kojitechs\n"
     ]
    }
   ],
   "source": [
    "\n",
    "name = input(\"WHat is you name: \")\n",
    "print(f\"you are welcome {name}\")\n",
    "print(\"thanks for subcribing to kojitechs\")"
   ]
  },
  {
   "cell_type": "markdown",
   "id": "ffb4235d",
   "metadata": {},
   "source": [
    "\n",
    "## Instead of repeating the greeting program more than once let's create a function instead"
   ]
  },
  {
   "cell_type": "code",
   "execution_count": 1,
   "id": "265bd710",
   "metadata": {},
   "outputs": [
    {
     "name": "stdout",
     "output_type": "stream",
     "text": [
      "WHat is you name: ji\n",
      "you are welcome ji\n",
      "thanks for subcribing to kojitechs\n"
     ]
    }
   ],
   "source": [
    "## define the function\n",
    "def greetings_function():\n",
    "    ## inside the body of the function\n",
    "    name = input(\"WHat is you name: \")\n",
    "    print(f\"you are welcome {name}\")\n",
    "    print(\"thanks for subcribing to kojitechs\")\n",
    "    \n",
    "\n",
    "# Calling greetings function\n",
    "greetings_function()\n",
    "    "
   ]
  },
  {
   "cell_type": "code",
   "execution_count": null,
   "id": "bad45e47",
   "metadata": {},
   "outputs": [],
   "source": []
  },
  {
   "cell_type": "code",
   "execution_count": 9,
   "id": "9a3d5544",
   "metadata": {},
   "outputs": [
    {
     "name": "stdout",
     "output_type": "stream",
     "text": [
      "WHat is you name: baca\n",
      "you are welcome baca\n",
      "thanks for subcribing to kojitechs\n"
     ]
    }
   ],
   "source": [
    "greetings_function()\n"
   ]
  },
  {
   "cell_type": "code",
   "execution_count": 4,
   "id": "baaae86c",
   "metadata": {},
   "outputs": [],
   "source": [
    "\n",
    "def addition_function():\n",
    "    x = eval(input(\"Enter number: \"))\n",
    "    print(2 + x)\n",
    "    \n",
    "def subtraction_function():\n",
    "    x = eval(input(\"Enter number: \"))\n",
    "    print(2 - x)\n",
    "\n",
    "    "
   ]
  },
  {
   "cell_type": "code",
   "execution_count": 5,
   "id": "1eda6041",
   "metadata": {},
   "outputs": [
    {
     "name": "stdout",
     "output_type": "stream",
     "text": [
      "Enter number: 10\n",
      "12\n"
     ]
    }
   ],
   "source": [
    "addition_function()\n",
    "\n",
    "\n",
    "def env():\n",
    "    for x in range(1,100):\n",
    "        if x % 2 == 0:\n",
    "            print(\"Found an even number\", x)"
   ]
  },
  {
   "cell_type": "markdown",
   "id": "787ad83c",
   "metadata": {},
   "source": [
    "## Let's define a function to calculate even numbers"
   ]
  },
  {
   "cell_type": "code",
   "execution_count": 16,
   "id": "cf364b8a",
   "metadata": {},
   "outputs": [
    {
     "name": "stdout",
     "output_type": "stream",
     "text": [
      "Found an even number 2\n",
      "Found an even number 4\n",
      "Found an even number 6\n",
      "Found an even number 8\n",
      "Found an even number 10\n",
      "Found an even number 12\n",
      "Found an even number 14\n",
      "Found an even number 16\n",
      "Found an even number 18\n",
      "Found an even number 20\n",
      "Found an even number 22\n",
      "Found an even number 24\n",
      "Found an even number 26\n",
      "Found an even number 28\n",
      "Found an even number 30\n",
      "Found an even number 32\n",
      "Found an even number 34\n",
      "Found an even number 36\n",
      "Found an even number 38\n",
      "Found an even number 40\n",
      "Found an even number 42\n",
      "Found an even number 44\n",
      "Found an even number 46\n",
      "Found an even number 48\n",
      "Found an even number 50\n",
      "Found an even number 52\n",
      "Found an even number 54\n",
      "Found an even number 56\n",
      "Found an even number 58\n",
      "Found an even number 60\n",
      "Found an even number 62\n",
      "Found an even number 64\n",
      "Found an even number 66\n",
      "Found an even number 68\n",
      "Found an even number 70\n",
      "Found an even number 72\n",
      "Found an even number 74\n",
      "Found an even number 76\n",
      "Found an even number 78\n",
      "Found an even number 80\n",
      "Found an even number 82\n",
      "Found an even number 84\n",
      "Found an even number 86\n",
      "Found an even number 88\n",
      "Found an even number 90\n",
      "Found an even number 92\n",
      "Found an even number 94\n",
      "Found an even number 96\n",
      "Found an even number 98\n"
     ]
    }
   ],
   "source": [
    "def even_number():\n",
    "    ## inside body\n",
    "    for x in range(1,100):\n",
    "        if x % 2 == 0:\n",
    "            print(\"Found an even number\", x)\n",
    "        \n",
    "even_number()        "
   ]
  },
  {
   "cell_type": "code",
   "execution_count": 18,
   "id": "760f5ce2",
   "metadata": {},
   "outputs": [
    {
     "name": "stdout",
     "output_type": "stream",
     "text": [
      "Found an even number 2\n",
      "Found an even number 4\n",
      "Found an even number 6\n",
      "Found an even number 8\n",
      "Found an even number 10\n",
      "Found an even number 12\n",
      "Found an even number 14\n",
      "Found an even number 16\n",
      "Found an even number 18\n",
      "Found an even number 20\n",
      "Found an even number 22\n",
      "Found an even number 24\n",
      "Found an even number 26\n",
      "Found an even number 28\n",
      "Found an even number 30\n",
      "Found an even number 32\n",
      "Found an even number 34\n",
      "Found an even number 36\n",
      "Found an even number 38\n",
      "Found an even number 40\n",
      "Found an even number 42\n",
      "Found an even number 44\n",
      "Found an even number 46\n",
      "Found an even number 48\n",
      "Found an even number 50\n",
      "Found an even number 52\n",
      "Found an even number 54\n",
      "Found an even number 56\n",
      "Found an even number 58\n",
      "Found an even number 60\n",
      "Found an even number 62\n",
      "Found an even number 64\n",
      "Found an even number 66\n",
      "Found an even number 68\n",
      "Found an even number 70\n",
      "Found an even number 72\n",
      "Found an even number 74\n",
      "Found an even number 76\n",
      "Found an even number 78\n",
      "Found an even number 80\n",
      "Found an even number 82\n",
      "Found an even number 84\n",
      "Found an even number 86\n",
      "Found an even number 88\n",
      "Found an even number 90\n",
      "Found an even number 92\n",
      "Found an even number 94\n",
      "Found an even number 96\n",
      "Found an even number 98\n"
     ]
    }
   ],
   "source": [
    "even_number()"
   ]
  },
  {
   "cell_type": "markdown",
   "id": "c752c06d",
   "metadata": {},
   "source": [
    "## Let's talk about parameters and arguments"
   ]
  },
  {
   "cell_type": "markdown",
   "id": "258247a0",
   "metadata": {},
   "source": [
    "## What are parameters"
   ]
  },
  {
   "cell_type": "code",
   "execution_count": 21,
   "id": "6b646d07",
   "metadata": {},
   "outputs": [
    {
     "name": "stdout",
     "output_type": "stream",
     "text": [
      "Found an even number 2\n",
      "Found an even number 4\n",
      "Found an even number 6\n",
      "Found an even number 8\n",
      "Found an even number 10\n",
      "Found an even number 12\n",
      "Found an even number 14\n",
      "Found an even number 16\n",
      "Found an even number 18\n",
      "Found an even number 20\n",
      "Found an even number 22\n",
      "Found an even number 24\n",
      "Found an even number 26\n",
      "Found an even number 28\n",
      "Found an even number 30\n",
      "Found an even number 32\n",
      "Found an even number 34\n",
      "Found an even number 36\n",
      "Found an even number 38\n",
      "Found an even number 40\n",
      "Found an even number 42\n",
      "Found an even number 44\n",
      "Found an even number 46\n",
      "Found an even number 48\n",
      "Found an even number 50\n",
      "Found an even number 52\n",
      "Found an even number 54\n",
      "Found an even number 56\n",
      "Found an even number 58\n",
      "Found an even number 60\n",
      "Found an even number 62\n",
      "Found an even number 64\n",
      "Found an even number 66\n",
      "Found an even number 68\n",
      "Found an even number 70\n",
      "Found an even number 72\n",
      "Found an even number 74\n",
      "Found an even number 76\n",
      "Found an even number 78\n",
      "Found an even number 80\n",
      "Found an even number 82\n",
      "Found an even number 84\n",
      "Found an even number 86\n",
      "Found an even number 88\n",
      "Found an even number 90\n",
      "Found an even number 92\n",
      "Found an even number 94\n",
      "Found an even number 96\n",
      "Found an even number 98\n"
     ]
    }
   ],
   "source": [
    "def even_number(n):\n",
    "    # n: here's a parameter\n",
    "    ## inside body\n",
    "    for x in range(1,n):\n",
    "        if x % 2 == 0:\n",
    "            print(\"Found an even number\", x)\n",
    "            \n",
    "# provide arg for n = 100           \n",
    "even_number(n=100)            "
   ]
  },
  {
   "cell_type": "code",
   "execution_count": 20,
   "id": "4151ac46",
   "metadata": {},
   "outputs": [
    {
     "ename": "TypeError",
     "evalue": "even_number() missing 1 required positional argument: 'n'",
     "output_type": "error",
     "traceback": [
      "\u001b[0;31m---------------------------------------------------------------------------\u001b[0m",
      "\u001b[0;31mTypeError\u001b[0m                                 Traceback (most recent call last)",
      "Input \u001b[0;32mIn [20]\u001b[0m, in \u001b[0;36m<cell line: 1>\u001b[0;34m()\u001b[0m\n\u001b[0;32m----> 1\u001b[0m \u001b[43meven_number\u001b[49m\u001b[43m(\u001b[49m\u001b[43m)\u001b[49m\n",
      "\u001b[0;31mTypeError\u001b[0m: even_number() missing 1 required positional argument: 'n'"
     ]
    }
   ],
   "source": [
    "even_number()     "
   ]
  },
  {
   "cell_type": "code",
   "execution_count": 24,
   "id": "0b80ce03",
   "metadata": {},
   "outputs": [
    {
     "name": "stdout",
     "output_type": "stream",
     "text": [
      "7\n"
     ]
    }
   ],
   "source": [
    "def add_two_numbers(x,y):\n",
    "    print(x + y)\n",
    "    \n",
    "## key word argu    \n",
    "add_two_numbers(x=2,y=5)    "
   ]
  },
  {
   "cell_type": "code",
   "execution_count": 26,
   "id": "05c5732c",
   "metadata": {},
   "outputs": [
    {
     "ename": "SyntaxError",
     "evalue": "positional argument follows keyword argument (1806190565.py, line 2)",
     "output_type": "error",
     "traceback": [
      "\u001b[0;36m  Input \u001b[0;32mIn [26]\u001b[0;36m\u001b[0m\n\u001b[0;31m    add_two_numbers(x=2, 5)\u001b[0m\n\u001b[0m                          ^\u001b[0m\n\u001b[0;31mSyntaxError\u001b[0m\u001b[0;31m:\u001b[0m positional argument follows keyword argument\n"
     ]
    }
   ],
   "source": [
    "## if using a key word argument python would confuse the value for the last position\n",
    "add_two_numbers(x=2, 5)  "
   ]
  },
  {
   "cell_type": "code",
   "execution_count": 27,
   "id": "cb8cbc4f",
   "metadata": {},
   "outputs": [
    {
     "name": "stdout",
     "output_type": "stream",
     "text": [
      "7\n"
     ]
    }
   ],
   "source": [
    "## if using a key word argument python would confuse the value for the last position\n",
    "add_two_numbers(2, y=5)  "
   ]
  },
  {
   "cell_type": "code",
   "execution_count": 28,
   "id": "cae8d349",
   "metadata": {},
   "outputs": [
    {
     "name": "stdout",
     "output_type": "stream",
     "text": [
      "145\n"
     ]
    }
   ],
   "source": [
    "## positional values \n",
    "add_two_numbers(45,100)"
   ]
  },
  {
   "cell_type": "code",
   "execution_count": 29,
   "id": "b67aa132",
   "metadata": {},
   "outputs": [
    {
     "name": "stdout",
     "output_type": "stream",
     "text": [
      "145\n"
     ]
    }
   ],
   "source": [
    "## providing key args \n",
    "add_two_numbers(x=45,y=100)"
   ]
  },
  {
   "cell_type": "code",
   "execution_count": 31,
   "id": "a743bbbc",
   "metadata": {},
   "outputs": [
    {
     "name": "stdout",
     "output_type": "stream",
     "text": [
      "hello Grand Baca you are welcome to kojitechs\n"
     ]
    }
   ],
   "source": [
    "\n",
    "def salute_function(name):\n",
    "    print(f\"hello {name} you are welcome to kojitechs\")\n",
    "    \n",
    "salute_function(name=\"Grand Baca\")    "
   ]
  },
  {
   "cell_type": "code",
   "execution_count": 32,
   "id": "3acd3971",
   "metadata": {},
   "outputs": [
    {
     "name": "stdout",
     "output_type": "stream",
     "text": [
      "hello Test you are welcome to kojitechs\n"
     ]
    }
   ],
   "source": [
    "salute_function(\"Test\")  "
   ]
  },
  {
   "cell_type": "code",
   "execution_count": 48,
   "id": "0e9a311f",
   "metadata": {},
   "outputs": [
    {
     "name": "stdout",
     "output_type": "stream",
     "text": [
      "kojikoji\n"
     ]
    }
   ],
   "source": [
    "\n",
    "## validate your parameter\n",
    "def multiply(y: int):\n",
    "    print(y * 2)\n",
    "    \n",
    "multiply(\"koji\")   \n"
   ]
  },
  {
   "cell_type": "code",
   "execution_count": 53,
   "id": "f24d7e8a",
   "metadata": {},
   "outputs": [
    {
     "name": "stdout",
     "output_type": "stream",
     "text": [
      "2323\n"
     ]
    }
   ],
   "source": [
    "def multiply(y):\n",
    "    if \n",
    "    print(y * 2)\n",
    "    \n",
    "multiply(\"23\") "
   ]
  },
  {
   "cell_type": "code",
   "execution_count": 2,
   "id": "9ab9719f",
   "metadata": {},
   "outputs": [
    {
     "name": "stdout",
     "output_type": "stream",
     "text": [
      "WHat is you name: ji\n",
      "you are welcome ji\n",
      "thanks for subcribing to kojitechs\n"
     ]
    }
   ],
   "source": [
    "greetings_function()\n"
   ]
  },
  {
   "cell_type": "code",
   "execution_count": null,
   "id": "7027faf8",
   "metadata": {},
   "outputs": [],
   "source": []
  }
 ],
 "metadata": {
  "kernelspec": {
   "display_name": "Python 3 (ipykernel)",
   "language": "python",
   "name": "python3"
  },
  "language_info": {
   "codemirror_mode": {
    "name": "ipython",
    "version": 3
   },
   "file_extension": ".py",
   "mimetype": "text/x-python",
   "name": "python",
   "nbconvert_exporter": "python",
   "pygments_lexer": "ipython3",
   "version": "3.9.12"
  }
 },
 "nbformat": 4,
 "nbformat_minor": 5
}
