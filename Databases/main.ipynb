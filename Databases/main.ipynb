{
 "cells": [
  {
   "cell_type": "code",
   "execution_count": 4,
   "id": "848789b4",
   "metadata": {},
   "outputs": [],
   "source": [
    "# password, dbname, username, port, host/endpoint\n",
    "import psycopg2\n",
    "from pprint import pprint\n",
    "import time\n",
    "import json \n",
    "from pathlib import Path\n",
    "\n",
    "# RDBMS: (postgres, mysql, oracle ...) # structured, unqiue (attri( id, ))\n",
    "\n",
    "psycopg2.connect?\n",
    "\n",
    "DB_NAME= \"postgres\"\n",
    "DB_HOST = \"\"\n"
   ]
  },
  {
   "cell_type": "markdown",
   "id": "f29ca2e3",
   "metadata": {},
   "source": [
    "## Creating db connection"
   ]
  },
  {
   "cell_type": "code",
   "execution_count": null,
   "id": "8d3beecb",
   "metadata": {},
   "outputs": [],
   "source": [
    "try:\n",
    "    psycopg2.connect(dbname=\"\", database=\"\", password=\"\", host=\"\")\n",
    "except Exception as err:\n",
    "    print(err)\n"
   ]
  }
 ],
 "metadata": {
  "kernelspec": {
   "display_name": "Python ('a')",
   "language": "python",
   "name": "python3"
  },
  "language_info": {
   "codemirror_mode": {
    "name": "ipython",
    "version": 3
   },
   "file_extension": ".py",
   "mimetype": "text/x-python",
   "name": "python",
   "nbconvert_exporter": "python",
   "pygments_lexer": "ipython3",
   "version": ""
  },
  "vscode": {
   "interpreter": {
    "hash": "949777d72b0d2535278d3dc13498b2535136f6dfe0678499012e853ee9abcab1"
   }
  }
 },
 "nbformat": 4,
 "nbformat_minor": 5
}
