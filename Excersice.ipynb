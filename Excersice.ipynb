{
 "cells": [
  {
   "cell_type": "code",
   "execution_count": 28,
   "id": "048e09b8",
   "metadata": {},
   "outputs": [
    {
     "name": "stdout",
     "output_type": "stream",
     "text": [
      "{' ': 8,\n",
      " \"'\": 1,\n",
      " 'c': 1,\n",
      " 'd': 2,\n",
      " 'e': 6,\n",
      " 'h': 3,\n",
      " 'i': 3,\n",
      " 'j': 1,\n",
      " 'k': 1,\n",
      " 'l': 3,\n",
      " 'n': 3,\n",
      " 'o': 4,\n",
      " 'p': 1,\n",
      " 'r': 1,\n",
      " 's': 1,\n",
      " 't': 3,\n",
      " 'v': 1,\n",
      " 'w': 1,\n",
      " 'y': 1}\n"
     ]
    }
   ],
   "source": [
    "from pprint import pprint\n",
    "sentence = \"i love kojitechs where i'll python end to end\"\n",
    "\n",
    "char_frequency = {}\n",
    "\n",
    "for char in sentence:\n",
    "    if char in char_frequency:\n",
    "        char_frequency[char] += 1\n",
    "    else:\n",
    "        char_frequency[char] = 1\n",
    "    \n",
    "#char_frequency = sorted(char_frequency.items(), key=lambda kv: kv[1], reverse=True)\n",
    "pprint(char_frequency)"
   ]
  },
  {
   "cell_type": "code",
   "execution_count": 19,
   "id": "3a1209af",
   "metadata": {},
   "outputs": [
    {
     "name": "stdout",
     "output_type": "stream",
     "text": [
      "dict_items([('i', 3), (' ', 8), ('l', 3), ('o', 4), ('v', 1), ('e', 6), ('k', 1), ('j', 1), ('t', 3), ('c', 1), ('h', 3), ('s', 1), ('w', 1), ('r', 1), (\"'\", 1), ('p', 1), ('y', 1), ('n', 3), ('d', 2)])\n"
     ]
    }
   ],
   "source": [
    "pprint(char_frequency.items())"
   ]
  },
  {
   "cell_type": "code",
   "execution_count": null,
   "id": "85c92f4b",
   "metadata": {},
   "outputs": [],
   "source": [
    "[1,2]"
   ]
  }
 ],
 "metadata": {
  "kernelspec": {
   "display_name": "Python 3 (ipykernel)",
   "language": "python",
   "name": "python3"
  },
  "language_info": {
   "codemirror_mode": {
    "name": "ipython",
    "version": 3
   },
   "file_extension": ".py",
   "mimetype": "text/x-python",
   "name": "python",
   "nbconvert_exporter": "python",
   "pygments_lexer": "ipython3",
   "version": "3.9.12"
  }
 },
 "nbformat": 4,
 "nbformat_minor": 5
}
