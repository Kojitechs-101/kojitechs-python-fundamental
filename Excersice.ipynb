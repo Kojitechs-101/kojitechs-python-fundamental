{
 "cells": [
  {
   "cell_type": "code",
   "execution_count": 15,
   "id": "048e09b8",
   "metadata": {},
   "outputs": [
    {
     "name": "stdout",
     "output_type": "stream",
     "text": [
      "{' ': 8,\n",
      " \"'\": 1,\n",
      " 'c': 1,\n",
      " 'd': 2,\n",
      " 'e': 6,\n",
      " 'h': 3,\n",
      " 'i': 3,\n",
      " 'j': 1,\n",
      " 'k': 1,\n",
      " 'l': 3,\n",
      " 'n': 3,\n",
      " 'o': 4,\n",
      " 'p': 1,\n",
      " 'r': 1,\n",
      " 's': 1,\n",
      " 't': 3,\n",
      " 'v': 1,\n",
      " 'w': 1,\n",
      " 'y': 1}\n"
     ]
    }
   ],
   "source": [
    "from pprint import pprint\n",
    "sentence = \"i love kojitechs where i'll python end to end\"\n",
    "\n",
    "char_frequency = {}\n",
    "\n",
    "for char in sentence:\n",
    "    if char in char_frequency:\n",
    "        char_frequency[char] += 1\n",
    "    else:\n",
    "        char_frequency[char] = 1\n",
    "    \n",
    "#char_frequency = sorted(char_frequency.items(), key=lambda kv: kv[1], reverse=True)\n",
    "pprint(char_frequency)"
   ]
  },
  {
   "cell_type": "code",
   "execution_count": 19,
   "id": "3a1209af",
   "metadata": {},
   "outputs": [
    {
     "name": "stdout",
     "output_type": "stream",
     "text": [
      "dict_items([('i', 3), (' ', 8), ('l', 3), ('o', 4), ('v', 1), ('e', 6), ('k', 1), ('j', 1), ('t', 3), ('c', 1), ('h', 3), ('s', 1), ('w', 1), ('r', 1), (\"'\", 1), ('p', 1), ('y', 1), ('n', 3), ('d', 2)])\n"
     ]
    }
   ],
   "source": [
    "pprint(char_frequency.items())"
   ]
  },
  {
   "cell_type": "code",
   "execution_count": 9,
   "id": "85c92f4b",
   "metadata": {},
   "outputs": [
    {
     "name": "stdout",
     "output_type": "stream",
     "text": [
      "i\n",
      " \n",
      "l\n",
      "o\n",
      "v\n",
      "e\n",
      " \n"
     ]
    }
   ],
   "source": [
    "x = \"i love python!\"\n",
    "\n",
    "for each in x:\n",
    "    \n",
    "    if each == \"p\":\n",
    "        break\n",
    "    print(each)    \n",
    "    "
   ]
  },
  {
   "cell_type": "code",
   "execution_count": 11,
   "id": "d48d63db",
   "metadata": {},
   "outputs": [
    {
     "name": "stdout",
     "output_type": "stream",
     "text": [
      "i\n",
      "l\n",
      "o\n",
      "v\n",
      "e\n",
      "p\n",
      "y\n",
      "t\n",
      "h\n",
      "o\n",
      "n\n",
      "!\n"
     ]
    }
   ],
   "source": [
    "x = \"i love python!\"\n",
    "\n",
    "for each in x:\n",
    "    \n",
    "    if each == \" \":\n",
    "        continue\n",
    "    print(each) "
   ]
  },
  {
   "cell_type": "code",
   "execution_count": 41,
   "id": "3cf1a92f",
   "metadata": {},
   "outputs": [
    {
     "name": "stdout",
     "output_type": "stream",
     "text": [
      "Acount Name: Data Science Lab\n",
      "Account_id: 447899900727\n",
      "The role arn: arn:aws:iam::447908706727:role/dsl_rads_Coduhhbhjjilder\n",
      "Acount Name: Data Science Lab\n",
      "Account_id: 44779000027\n",
      "The role arn: arn:aws:iam::44678877727:role/US-HIS_AWS44789078827_dsl_nlp_udm\n"
     ]
    }
   ],
   "source": [
    "\n",
    "x = {'resources': [{'resource_type': 'servicerole',\n",
    "                'servicerole': {'action_count': 0,\n",
    "                                'common': {'account': 'Data Science Lab', # get this value\n",
    "                                           'account_id': '447899900727', # get this value\n",
    "                                           'account_status': 'DEFAULT',\n",
    "                                           'cloud': 'AWS',\n",
    "                                           'creation_timestamp': '2018-05-03 '\n",
    "                                                                 '20:11:35',\n",
    "                                           'discovered_timestamp': '2018-08-23 '\n",
    "                                                                   '15:43:07',\n",
    "                                           'modified_timestamp': '2020-09-22 '\n",
    "                                                                 '16:46:47',\n",
    "                                           'namespace_id': 'arn:aws:iam::447908706727:role/dsl_rads_Coduhhbhjjilder', # get this value\n",
    "                                           'organization_service_id': 13,\n",
    "                                           'resource_id': 'servicerole:13:AROAI57JLG3EBSXGM46WQ:',\n",
    "                                           'resource_name': 'dsl_rads_CoujjnhhitBuilder',\n",
    "                                           'resource_type': 'servicerole'},\n",
    "                                'create_date': '2018-05-03 20:11:35',\n",
    "                                'description': 'Allows cross account access to '\n",
    "                                               'CodeCommit in DSL account from '\n",
    "                                               'Builder account',\n",
    "                                'inline_policies': 1,\n",
    "                                'managed_policy_count': 0,\n",
    "                                'max_duration': 7200,\n",
    "                                'name': 'dsl_rads_CodeCommitBuilder',\n",
    "                                'path': '/',\n",
    "                                'policy': '{\"Version\": \"2012-10-17\", ' '\"Statement\": [{\"Action\": ''\"sts:AssumeRole\", \"Effect\": ''\"Allow\", \"Principal\": {\"AWS\": '\n",
    "                                          '[\"arn:aws:sts::298990994:assumed-role/US-HIS_AWS278899094-Developer/jjones@mmm.com\", '\n",
    "                                          '\"arn:aws:sts::294412549994:assumed-role/US-HIS_AWS2967998994-Developer/tyehle@mmm.com\"]}}]}',\n",
    "                                'policy_count': 1,\n",
    "                                'role_id': 'AROAI57JXGM46WQ',\n",
    "                                'service_count': 0,\n",
    "                                'trusted_accounts': [298900094],\n",
    "                                'wildcard_service_count': 0}},\n",
    "               {'resource_type': 'servicerole',\n",
    "                'servicerole': {'action_count': 0,\n",
    "                                'common': {'account': 'Data Science Lab',\n",
    "                                           'account_id': '44779000027',\n",
    "                                           'account_status': 'DEFAULT',\n",
    "                                           'cloud': 'AWS',\n",
    "                                           'creation_timestamp': '2018-03-22 '\n",
    "                                                                 '14:51:48',\n",
    "                                           'discovered_timestamp': '2018-08-23 '\n",
    "                                                                   '15:43:07',\n",
    "                                           'modified_timestamp': '2021-12-13 '\n",
    "                                                                 '17:18:34',\n",
    "                                           'namespace_id': 'arn:aws:iam::44678877727:role/US-HIS_AWS44789078827_dsl_nlp_udm',\n",
    "                                           'organization_service_id': 13,\n",
    "                                           'resource_id': 'servicerole:13:AROAI5ISYVWC3RRGFD4VO:',\n",
    "                                           'resource_name': 'US-HIS_AWS447908706727_dsl_nlp_udm',\n",
    "                                           'resource_type': 'servicerole'},\n",
    "                                'create_date': '2018-03-22 14:51:48',\n",
    "                                'description': 'This role allows for switching '\n",
    "                                               'from SEC OPS Non Privileged '\n",
    "                                               'Access role.',\n",
    "                                'inline_policies': 0,\n",
    "                                'last_used_date': '2021-12-13 16:06:36',\n",
    "                                'managed_policy_count': 9,\n",
    "                                'max_duration': 7200,\n",
    "                                'name': 'US-HIS_AWS4490988727_dsl_nlp_udm',\n",
    "                                'path': '/',\n",
    "                                'policy': '{\"Version\": \"2012-10-17\", '\n",
    "                                          '\"Statement\": [{\"Action\": '\n",
    "                                          '\"sts:AssumeRole\", \"Effect\": '\n",
    "                                          '\"Allow\", \"Principal\": {\"AWS\": '\n",
    "                                          '[\"arn:aws:sts::64798909998:assumed-role/US-HIS_AWS6479988g98_Non_Privileged_Access/jimmy@mmm.com\", '\n",
    "                                          '\"arn:aws:sts::64647898y698:assumed-role/US-HIS_AWS6799065598_Non_Privileged_Access/jjones@mmm.com\", '\n",
    "                                          '\"arn:aws:sts::6466567888998:assumed-role/US-HIS_AWS6457899098_Non_Privileged_Access/ajayawardhana@mmm.com\", '\n",
    "                                          '\"arn:aws:sts::6468997yty98:assumed-role/US-HIS_AWS66888yyy98_Non_Privileged_Access/smorris3@mmm.com\", '\n",
    "                                          '\"arn:aws:sts::64gvyuinff98:assumed-role/US-HIS_AWS6yuioomj98_Non_Privileged_Access/apseyed@mmm.com\", '\n",
    "                                          '\"arn:aws:sts::646ftyubiin8:assumed-role/US-HIS_AWS64hgguuuf8_Non_Privileged_Access/jglover2@mmm.com\", '\n",
    "                                          '\"arn:aws:sts::646byuubbb8:assumed-role/US-HIS_AWS646g8n9nm8_Non_Privileged_Access/mconnor@mmm.com\"]}}]}',\n",
    "                                'policy_count': 1,\n",
    "                                'service_count': 0,\n",
    "                                'trusted_accounts': ['6hjiiikjj598'],\n",
    "                                'wildcard_service_count': 0}}],\n",
    " 'scopes': [],\n",
    " 'selected_resource_type': 'servicerole',\n",
    " 'supported_types': ['servicerole']}\n",
    "\n",
    "# when u see a list what should come to u mind is itteration. (for_each)\n",
    "for each_resource in x.get('resources'):\n",
    "    print(f\"Acount Name: {each_resource.get('servicerole')['common']['account']}\\nAccount_id: {each_resource['servicerole']['common']['account_id']}\\nThe role arn: {each_resource['servicerole']['common']['namespace_id']}\")\n"
   ]
  },
  {
   "cell_type": "code",
   "execution_count": null,
   "id": "7dfed966",
   "metadata": {},
   "outputs": [],
   "source": []
  }
 ],
 "metadata": {
  "kernelspec": {
   "display_name": "Python 3 (ipykernel)",
   "language": "python",
   "name": "python3"
  },
  "language_info": {
   "codemirror_mode": {
    "name": "ipython",
    "version": 3
   },
   "file_extension": ".py",
   "mimetype": "text/x-python",
   "name": "python",
   "nbconvert_exporter": "python",
   "pygments_lexer": "ipython3",
   "version": "3.9.12"
  }
 },
 "nbformat": 4,
 "nbformat_minor": 5
}
