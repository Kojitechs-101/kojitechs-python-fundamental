{
 "cells": [
  {
   "cell_type": "markdown",
   "id": "c0fa654d",
   "metadata": {},
   "source": [
    "## identity operators\n",
    "takes value as inputs, performs operation on the value and return True/False"
   ]
  },
  {
   "cell_type": "code",
   "execution_count": 6,
   "id": "3fe69c49",
   "metadata": {},
   "outputs": [
    {
     "name": "stdout",
     "output_type": "stream",
     "text": [
      "False\n"
     ]
    }
   ],
   "source": [
    "import getpass\n",
    "x = 'a'\n",
    "y = 'b'\n",
    "\n",
    "result = x == y\n",
    "print(result)\n",
    "\n"
   ]
  },
  {
   "cell_type": "code",
   "execution_count": 3,
   "id": "5c1111da",
   "metadata": {},
   "outputs": [
    {
     "data": {
      "text/plain": [
       "97"
      ]
     },
     "execution_count": 3,
     "metadata": {},
     "output_type": "execute_result"
    }
   ],
   "source": [
    "ord(x)\n"
   ]
  },
  {
   "cell_type": "code",
   "execution_count": 4,
   "id": "32e16c6d",
   "metadata": {},
   "outputs": [
    {
     "data": {
      "text/plain": [
       "98"
      ]
     },
     "execution_count": 4,
     "metadata": {},
     "output_type": "execute_result"
    }
   ],
   "source": [
    "ord(y)"
   ]
  },
  {
   "cell_type": "code",
   "execution_count": 5,
   "id": "1f62f847",
   "metadata": {},
   "outputs": [
    {
     "data": {
      "text/plain": [
       "False"
      ]
     },
     "execution_count": 5,
     "metadata": {},
     "output_type": "execute_result"
    }
   ],
   "source": [
    "'A' == 'a'\n",
    "\n"
   ]
  },
  {
   "cell_type": "code",
   "execution_count": 8,
   "id": "eca21d7e",
   "metadata": {},
   "outputs": [
    {
     "name": "stdout",
     "output_type": "stream",
     "text": [
      "What is your password?········\n",
      "Login unsuccessful\n"
     ]
    }
   ],
   "source": [
    "passwd = 'kdjdhfhjrkoji'\n",
    "\n",
    "user_passwd = getpass.getpass(\"What is your password?\")\n",
    "\n",
    "if user_passwd == passwd:\n",
    "    print(\"Login successful\")\n",
    "else:\n",
    "    print(\"Login unsuccessful\")\n",
    "    \n",
    "    "
   ]
  },
  {
   "cell_type": "code",
   "execution_count": null,
   "id": "63387e3e",
   "metadata": {},
   "outputs": [],
   "source": []
  }
 ],
 "metadata": {
  "kernelspec": {
   "display_name": "Python 3 (ipykernel)",
   "language": "python",
   "name": "python3"
  },
  "language_info": {
   "codemirror_mode": {
    "name": "ipython",
    "version": 3
   },
   "file_extension": ".py",
   "mimetype": "text/x-python",
   "name": "python",
   "nbconvert_exporter": "python",
   "pygments_lexer": "ipython3",
   "version": "3.9.12"
  }
 },
 "nbformat": 4,
 "nbformat_minor": 5
}
