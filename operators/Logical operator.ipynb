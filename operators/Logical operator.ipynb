{
 "cells": [
  {
   "cell_type": "markdown",
   "id": "376e8815",
   "metadata": {},
   "source": [
    "## Logical operators"
   ]
  },
  {
   "cell_type": "markdown",
   "id": "a0a97f04",
   "metadata": {},
   "source": [
    "## logical operators are used to combine multiple conditions"
   ]
  },
  {
   "cell_type": "code",
   "execution_count": 5,
   "id": "aca45c3d",
   "metadata": {},
   "outputs": [
    {
     "name": "stdout",
     "output_type": "stream",
     "text": [
      "False\n"
     ]
    }
   ],
   "source": [
    "\"\"\"\n",
    "and \n",
    "or \n",
    "\"\"\"\n",
    "\n",
    "\n",
    "x = 2\n",
    "z  = 5 \n",
    "y = 4\n",
    "\n",
    "print(x < z and y < x) # setting the bar very high\n"
   ]
  },
  {
   "cell_type": "code",
   "execution_count": 4,
   "id": "fa9dc96c",
   "metadata": {},
   "outputs": [],
   "source": [
    "# and would True is both conditions are met"
   ]
  },
  {
   "cell_type": "code",
   "execution_count": 6,
   "id": "4158fb2c",
   "metadata": {},
   "outputs": [
    {
     "name": "stdout",
     "output_type": "stream",
     "text": [
      "yes\n"
     ]
    }
   ],
   "source": [
    "if x > z or y >= x:\n",
    "    print(\"True\")"
   ]
  },
  {
   "cell_type": "code",
   "execution_count": 30,
   "id": "f38ea8fb",
   "metadata": {},
   "outputs": [
    {
     "name": "stdout",
     "output_type": "stream",
     "text": [
      "Please what is your age?: 20\n",
      "Are you employed?: YES\n",
      "Eligible\n",
      "You've been approved👍\n"
     ]
    }
   ],
   "source": [
    "# and would True is one conditions is met\n",
    "\n",
    "# if the lender is between 18 and 65: \n",
    "# if lender is not a student and has a job\n",
    "#     load has been approved 😌 \n",
    "# ooops sorry!! bad credit😩\n",
    "\n",
    "age = int(input(\"Please what is your age?: \"))\n",
    "\n",
    "currently_employed = input(\"Are you employed?: \").lower()\n",
    "\n",
    "if (18 <= age <= 65) and (currently_employed == \"yes\"):\n",
    "    print(\"Eligible\\nYou've been approved👍\")\n",
    "else:\n",
    "    print(\"Ooooops bad credit!!\")\n"
   ]
  },
  {
   "cell_type": "code",
   "execution_count": 26,
   "id": "aa070661",
   "metadata": {},
   "outputs": [
    {
     "name": "stdout",
     "output_type": "stream",
     "text": [
      "Please what is your age?: 120\n"
     ]
    }
   ],
   "source": [
    "age = int(input(\"Please what is your age?: \"))\n",
    "if 18 <= age <= 65:\n",
    "    print(\"eligible\")"
   ]
  },
  {
   "cell_type": "code",
   "execution_count": 39,
   "id": "d4655efb",
   "metadata": {},
   "outputs": [
    {
     "name": "stdout",
     "output_type": "stream",
     "text": [
      "Please enter number?:15\n",
      "FIZZBUZZ\n"
     ]
    }
   ],
   "source": [
    "\n",
    "## FIZZBUZZ theory in python!! \n",
    "# user_input = int(input(\"Please enter number?: \"))\n",
    "#user_unput is a multiple of 3: \n",
    "#     \"FIZZ\"\n",
    "#user_unput is a multiple of 5: \n",
    "#     \"BUZZ\"\n",
    "#user_unput is a multiple of BOTH 3 and 5: \n",
    "#     \"FIZZBUZZ\"\n",
    "# RETURN user input\n",
    "user_input = int(input(\"Please enter number?:\"))\n",
    "if (user_input  % 3 == 0) and (user_input % 5 == 0):\n",
    "    print(\"FIZZBUZZ\")\n",
    "elif user_input % 3 == 0:\n",
    "    print(\"FIZZ\")\n",
    "elif user_input % 5 == 0:\n",
    "    print(\"BUZZ\")\n",
    "else:\n",
    "    print(user_input)\n",
    "\n",
    "    \n",
    "\n",
    "    "
   ]
  },
  {
   "cell_type": "code",
   "execution_count": null,
   "id": "dc20008b",
   "metadata": {},
   "outputs": [],
   "source": []
  }
 ],
 "metadata": {
  "kernelspec": {
   "display_name": "Python 3 (ipykernel)",
   "language": "python",
   "name": "python3"
  },
  "language_info": {
   "codemirror_mode": {
    "name": "ipython",
    "version": 3
   },
   "file_extension": ".py",
   "mimetype": "text/x-python",
   "name": "python",
   "nbconvert_exporter": "python",
   "pygments_lexer": "ipython3",
   "version": "3.9.12"
  }
 },
 "nbformat": 4,
 "nbformat_minor": 5
}
