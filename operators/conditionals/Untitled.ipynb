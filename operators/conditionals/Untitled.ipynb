{
 "cells": [
  {
   "cell_type": "markdown",
   "id": "625cf1a5",
   "metadata": {},
   "source": [
    "## Introduction to conditions"
   ]
  },
  {
   "cell_type": "code",
   "execution_count": 12,
   "id": "1e202546",
   "metadata": {},
   "outputs": [
    {
     "name": "stdout",
     "output_type": "stream",
     "text": [
      "enter x: e\n"
     ]
    },
    {
     "ename": "NameError",
     "evalue": "name 'e' is not defined",
     "output_type": "error",
     "traceback": [
      "\u001b[0;31m---------------------------------------------------------------------------\u001b[0m",
      "\u001b[0;31mNameError\u001b[0m                                 Traceback (most recent call last)",
      "Input \u001b[0;32mIn [12]\u001b[0m, in \u001b[0;36m<cell line: 1>\u001b[0;34m()\u001b[0m\n\u001b[0;32m----> 1\u001b[0m x \u001b[38;5;241m=\u001b[39m \u001b[38;5;28;43meval\u001b[39;49m\u001b[43m(\u001b[49m\u001b[38;5;28;43minput\u001b[39;49m\u001b[43m(\u001b[49m\u001b[38;5;124;43m\"\u001b[39;49m\u001b[38;5;124;43menter x: \u001b[39;49m\u001b[38;5;124;43m\"\u001b[39;49m\u001b[43m)\u001b[49m\u001b[43m)\u001b[49m\n\u001b[1;32m      2\u001b[0m y \u001b[38;5;241m=\u001b[39m \u001b[38;5;28meval\u001b[39m(\u001b[38;5;28minput\u001b[39m(\u001b[38;5;124m\"\u001b[39m\u001b[38;5;124menter y: \u001b[39m\u001b[38;5;124m\"\u001b[39m))\n\u001b[1;32m      4\u001b[0m \u001b[38;5;124;03m\"\"\"\u001b[39;00m\n\u001b[1;32m      5\u001b[0m \u001b[38;5;124;03mif <expression>:\u001b[39;00m\n\u001b[1;32m      6\u001b[0m \u001b[38;5;124;03m    <statement>\u001b[39;00m\n\u001b[0;32m   (...)\u001b[0m\n\u001b[1;32m     15\u001b[0m \u001b[38;5;124;03m    \u001b[39;00m\n\u001b[1;32m     16\u001b[0m \u001b[38;5;124;03m\"\"\"\u001b[39;00m\n",
      "File \u001b[0;32m<string>:1\u001b[0m, in \u001b[0;36m<module>\u001b[0;34m\u001b[0m\n",
      "\u001b[0;31mNameError\u001b[0m: name 'e' is not defined"
     ]
    }
   ],
   "source": [
    "x = eval(input(\"enter x: \"))\n",
    "y = eval(input(\"enter y: \"))\n",
    "\n",
    "\"\"\"\n",
    "if <expression>:\n",
    "    <statement>\n",
    "\n",
    "# logical operators\n",
    "< less than\n",
    "> greater than \n",
    "== equal\n",
    "!= not equal\n",
    "or \n",
    "and \n",
    "    \n",
    "\"\"\"\n",
    "\n",
    "    "
   ]
  },
  {
   "cell_type": "code",
   "execution_count": 4,
   "id": "e89db737",
   "metadata": {},
   "outputs": [
    {
     "name": "stdout",
     "output_type": "stream",
     "text": [
      "5 is greater than 4\n"
     ]
    }
   ],
   "source": [
    "if x > y:\n",
    "    #print(\"{} is greater than {}\".format(x,y))\n",
    "    print(f\"{x} is greater than {y}\")"
   ]
  },
  {
   "cell_type": "code",
   "execution_count": 5,
   "id": "38982b44",
   "metadata": {},
   "outputs": [
    {
     "name": "stdout",
     "output_type": "stream",
     "text": [
      "4 is less than 5\n"
     ]
    }
   ],
   "source": [
    "if y < x:\n",
    "    print(f\"{y} is less than {x}\")"
   ]
  },
  {
   "cell_type": "code",
   "execution_count": 7,
   "id": "79e2aa47",
   "metadata": {},
   "outputs": [
    {
     "name": "stdout",
     "output_type": "stream",
     "text": [
      "False\n"
     ]
    }
   ],
   "source": [
    "print(y > x)"
   ]
  },
  {
   "cell_type": "code",
   "execution_count": 14,
   "id": "36e0b331",
   "metadata": {},
   "outputs": [
    {
     "name": "stdout",
     "output_type": "stream",
     "text": [
      "enter x: 30\n",
      "enter y: 1\n"
     ]
    }
   ],
   "source": [
    "x = eval(input(\"enter x: \"))\n",
    "y = eval(input(\"enter y: \"))\n",
    "\n",
    "if y > x:\n",
    "    print(f\"{y} is less than {x}\")"
   ]
  },
  {
   "cell_type": "markdown",
   "id": "9b740f6d",
   "metadata": {},
   "source": [
    "## if python were to check just on condition there's no using an else block"
   ]
  },
  {
   "cell_type": "code",
   "execution_count": 16,
   "id": "dfb51e75",
   "metadata": {},
   "outputs": [
    {
     "name": "stdout",
     "output_type": "stream",
     "text": [
      "1 is not greater than 30\n"
     ]
    }
   ],
   "source": [
    "if y > x:\n",
    "    print(f\"{y} is less than {x}\")\n",
    "else:\n",
    "    print(f\"{y} is not greater than {x}\")"
   ]
  },
  {
   "cell_type": "markdown",
   "id": "d627deb0",
   "metadata": {},
   "source": [
    "x = 20"
   ]
  },
  {
   "cell_type": "code",
   "execution_count": null,
   "id": "6a8905ce",
   "metadata": {},
   "outputs": [],
   "source": [
    "write a program that'd check if x is less than 50, x is small but if that isn't the case, x is big"
   ]
  },
  {
   "cell_type": "code",
   "execution_count": 18,
   "id": "6e339863",
   "metadata": {},
   "outputs": [
    {
     "name": "stdout",
     "output_type": "stream",
     "text": [
      "20 is small\n"
     ]
    }
   ],
   "source": [
    "x = 20\n",
    "\n",
    "if x < 50:\n",
    "    print(f\"{x} is small\")\n",
    "else:\n",
    "    print(f\"{x} is big\")"
   ]
  },
  {
   "cell_type": "code",
   "execution_count": null,
   "id": "08a92061",
   "metadata": {},
   "outputs": [],
   "source": [
    "cup_filed_with = \"water\"\n",
    "\n",
    "if <epr>:\n",
    "    <statement(s)> water is in the cup\n",
    "elif <epre>:\n",
    "    <statement(s)> wine in the cup\n",
    "elif <epre>:\n",
    "     <statement(s)> it is juice\n",
    "else:\n",
    "     <statement(s)> the cup is empty\n",
    "        "
   ]
  },
  {
   "cell_type": "code",
   "execution_count": 35,
   "id": "3bd72f80",
   "metadata": {},
   "outputs": [
    {
     "name": "stdout",
     "output_type": "stream",
     "text": [
      "what is in the cup😎?: PHONE\n",
      "phone\n"
     ]
    }
   ],
   "source": [
    "cup_filed_with = input(\"what is in the cup😎?: \").lower()\n",
    "\n",
    "if cup_filed_with == \"water\":\n",
    "    print(\"the cup is filled with water😌\")\n",
    "elif cup_filed_with == \"wine\":\n",
    "    print(\"The cup is filled with wine😌\")\n",
    "elif cup_filed_with == \"juice\":\n",
    "    print(\"the cup is filled with juice😉\")\n",
    "else:\n",
    "    print(f\"{cup_filed_with}\")"
   ]
  },
  {
   "cell_type": "code",
   "execution_count": 39,
   "id": "7f85fef9",
   "metadata": {},
   "outputs": [
    {
     "name": "stdout",
     "output_type": "stream",
     "text": [
      "Bello is a string data type\n"
     ]
    }
   ],
   "source": [
    "name = \"Bello\"\n",
    "\n",
    "if type(name) == str:\n",
    "    print(f\"{name} is a string data type\")\n"
   ]
  },
  {
   "cell_type": "code",
   "execution_count": 40,
   "id": "9a006aa1",
   "metadata": {},
   "outputs": [
    {
     "name": "stdout",
     "output_type": "stream",
     "text": [
      "True\n"
     ]
    }
   ],
   "source": [
    "print(type(name) == str)"
   ]
  },
  {
   "cell_type": "code",
   "execution_count": 41,
   "id": "c5dad17d",
   "metadata": {},
   "outputs": [
    {
     "ename": "SyntaxError",
     "evalue": "invalid syntax (1740014232.py, line 2)",
     "output_type": "error",
     "traceback": [
      "\u001b[0;36m  Input \u001b[0;32mIn [41]\u001b[0;36m\u001b[0m\n\u001b[0;31m    greater than 80 = it's hot outside\u001b[0m\n\u001b[0m            ^\u001b[0m\n\u001b[0;31mSyntaxError\u001b[0m\u001b[0;31m:\u001b[0m invalid syntax\n"
     ]
    }
   ],
   "source": [
    "temperature = 80\n",
    "greater than 80 = it's hot outside \n",
    "80 45 = it's cool\n",
    "below 45 = it's cold please get a blanket\n"
   ]
  },
  {
   "cell_type": "code",
   "execution_count": null,
   "id": "d2b26bd5",
   "metadata": {},
   "outputs": [],
   "source": [
    "temp = int(input(\"What is the tempearture: \"))\n",
    "\n",
    "\n",
    "if temp > 80:\n",
    "    print(\"it is hot\")\n",
    "if 80 <= temp <= 45:\n",
    "    print(\"it's cool outside\")"
   ]
  },
  {
   "cell_type": "code",
   "execution_count": null,
   "id": "de09263c",
   "metadata": {},
   "outputs": [],
   "source": []
  },
  {
   "cell_type": "code",
   "execution_count": 79,
   "id": "cfced6c8",
   "metadata": {},
   "outputs": [
    {
     "name": "stdout",
     "output_type": "stream",
     "text": [
      "What is the tempearture: 44\n",
      "It's cold please get a blanket\n"
     ]
    }
   ],
   "source": [
    "temp = int(input(\"What is the tempearture: \"))\n",
    "\n",
    "if temp > 80:\n",
    "    print(\"it is hot\")\n",
    "elif 45 <= temp <= 80:\n",
    "    print(\"it's cool outside\")\n",
    "else:\n",
    "    print(\"It's cold please get a blanket\")"
   ]
  },
  {
   "cell_type": "code",
   "execution_count": 65,
   "id": "9a7b4654",
   "metadata": {},
   "outputs": [
    {
     "name": "stdout",
     "output_type": "stream",
     "text": [
      "What is the temperature outside?:45\n"
     ]
    }
   ],
   "source": [
    "temperature = int(input(\"What is the temperature outside?:\"))\n",
    "\n",
    "if temperature > 80:\n",
    "    print(f\"it's hot outside\")\n",
    "elif temperature > 45 == 80:\n",
    "    print (f\"its cool\")\n",
    "elif temperature < 45:\n",
    "      print(f\"its cold please get a blanket\")"
   ]
  },
  {
   "cell_type": "code",
   "execution_count": 80,
   "id": "d4d93446",
   "metadata": {},
   "outputs": [
    {
     "name": "stdout",
     "output_type": "stream",
     "text": [
      "What is the temperature outside: 45\n",
      "it's cool\n"
     ]
    }
   ],
   "source": [
    "temperature = int(input(\"What is the temperature outside: \"))\n",
    "if temperature > 80:\n",
    "    print(\"it's hot outside\")\n",
    "elif 80 >= temperature >= 45:\n",
    "    print(\"it's cool\")\n",
    "else:\n",
    "    print(\"it's cold please get a blanket\")"
   ]
  },
  {
   "cell_type": "code",
   "execution_count": null,
   "id": "24f7ff67",
   "metadata": {},
   "outputs": [],
   "source": [
    "\n",
    "if temp > 80 :\n",
    "    print(\"It is hot outside\")\n",
    "elif temp > 45  < 80 :\n",
    "    print('It is cool')\n",
    "elif temp < 80 :\n",
    "    print('It is cold outside, please get a blanket')"
   ]
  },
  {
   "cell_type": "code",
   "execution_count": null,
   "id": "fbe694a7",
   "metadata": {},
   "outputs": [],
   "source": []
  },
  {
   "cell_type": "code",
   "execution_count": null,
   "id": "2eab0821",
   "metadata": {},
   "outputs": [],
   "source": []
  },
  {
   "cell_type": "code",
   "execution_count": 89,
   "id": "ea2f0bec",
   "metadata": {},
   "outputs": [
    {
     "name": "stdout",
     "output_type": "stream",
     "text": [
      "What is the temperature outside?:80\n",
      "its cool\n"
     ]
    }
   ],
   "source": [
    "temperature = eval(input(\"What is the temperature outside?:\"))\n",
    "\n",
    "if temperature > 80:\n",
    "    print(f\"it's hot outside\")\n",
    "elif temperature == 45 or temperature == 80:\n",
    "    print (f\"its cool\")\n",
    "elif temperature < 45:\n",
    "      print(f\"its cold please get blanket\")"
   ]
  },
  {
   "cell_type": "code",
   "execution_count": 95,
   "id": "31c24142",
   "metadata": {},
   "outputs": [
    {
     "name": "stdout",
     "output_type": "stream",
     "text": [
      "What is the temperature outside?:44\n",
      "its cool\n"
     ]
    }
   ],
   "source": [
    "temperature = eval(input(\"What is the temperature outside?:\"))\n",
    "\n",
    "if temperature > 80:\n",
    "    print(f\"it's hot outside\")\n",
    "elif temperature == 45 or temperature < 80:\n",
    "    print (f\"its cool\")\n",
    "elif temperature < 45:\n",
    "      print(f\"its cold please get blanket\")"
   ]
  },
  {
   "cell_type": "code",
   "execution_count": null,
   "id": "37e6a1f1",
   "metadata": {},
   "outputs": [],
   "source": []
  }
 ],
 "metadata": {
  "kernelspec": {
   "display_name": "Python 3 (ipykernel)",
   "language": "python",
   "name": "python3"
  },
  "language_info": {
   "codemirror_mode": {
    "name": "ipython",
    "version": 3
   },
   "file_extension": ".py",
   "mimetype": "text/x-python",
   "name": "python",
   "nbconvert_exporter": "python",
   "pygments_lexer": "ipython3",
   "version": "3.9.12"
  }
 },
 "nbformat": 4,
 "nbformat_minor": 5
}
