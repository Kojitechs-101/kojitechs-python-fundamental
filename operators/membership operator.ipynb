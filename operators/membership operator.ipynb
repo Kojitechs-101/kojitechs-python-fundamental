{
 "cells": [
  {
   "cell_type": "markdown",
   "id": "5cc97e38",
   "metadata": {},
   "source": [
    "# Membership Operator\n",
    "python would take inout and check if () in a give group(list). result bool(True/False)\n"
   ]
  },
  {
   "cell_type": "code",
   "execution_count": 1,
   "id": "0c59db2a",
   "metadata": {},
   "outputs": [
    {
     "name": "stdout",
     "output_type": "stream",
     "text": [
      "yes\n"
     ]
    }
   ],
   "source": [
    "\"\"\"\n",
    "in \n",
    "not in\n",
    "\"\"\"\n",
    "\n",
    "fruits = [\"apple\", \"pawpaw\", \"orange\"]\n",
    "\n",
    "if \"apple\"in fruits:\n",
    "    print(\"yes\")"
   ]
  },
  {
   "cell_type": "code",
   "execution_count": 2,
   "id": "05c0ffab",
   "metadata": {},
   "outputs": [
    {
     "name": "stdout",
     "output_type": "stream",
     "text": [
      "yes\n"
     ]
    }
   ],
   "source": [
    "fruits = [\"apple\", \"pawpaw\", \"orange\"]\n",
    "for fruit in fruits:\n",
    "    if fruit == \"apple\":\n",
    "        print(\"yes\")"
   ]
  },
  {
   "cell_type": "code",
   "execution_count": 4,
   "id": "5ce46c11",
   "metadata": {},
   "outputs": [
    {
     "name": "stdout",
     "output_type": "stream",
     "text": [
      "no apple is in the list\n"
     ]
    }
   ],
   "source": [
    "fruits = [\"pawpaw\", \"orange\"]\n",
    "\n",
    "if \"apple\" not in fruits:\n",
    "    print(\"no apple is in the list\")"
   ]
  },
  {
   "cell_type": "code",
   "execution_count": 6,
   "id": "04e20ef9",
   "metadata": {},
   "outputs": [
    {
     "name": "stdout",
     "output_type": "stream",
     "text": [
      "what is you name: Koji\n",
      "Koji has registered😌\n"
     ]
    }
   ],
   "source": [
    "registered_students = [\"Philo\", \"Koji\", \"Bello\"]\n",
    "student_name = input(\"what is you name: \")\n",
    "\n",
    "if student_name in registered_students:\n",
    "    print(f\"{student_name} has registered 😌\")\n"
   ]
  },
  {
   "cell_type": "code",
   "execution_count": null,
   "id": "192ac4f5",
   "metadata": {},
   "outputs": [],
   "source": []
  }
 ],
 "metadata": {
  "kernelspec": {
   "display_name": "Python 3 (ipykernel)",
   "language": "python",
   "name": "python3"
  },
  "language_info": {
   "codemirror_mode": {
    "name": "ipython",
    "version": 3
   },
   "file_extension": ".py",
   "mimetype": "text/x-python",
   "name": "python",
   "nbconvert_exporter": "python",
   "pygments_lexer": "ipython3",
   "version": "3.9.12"
  }
 },
 "nbformat": 4,
 "nbformat_minor": 5
}
