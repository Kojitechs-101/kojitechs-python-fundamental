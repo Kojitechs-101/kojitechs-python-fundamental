{
 "cells": [
  {
   "cell_type": "code",
   "execution_count": 14,
   "id": "932181f4",
   "metadata": {},
   "outputs": [],
   "source": [
    "from pprint import pprint\n",
    "data_list = [\"mouse\"] # mutable\n",
    "\n",
    "data_tuple = (\"koji\",\"python\",\"Abduli\") # immuitable\n",
    "\n",
    "fruits  = [\"pawpaw\",\"mango\",\"pear\"]"
   ]
  },
  {
   "cell_type": "code",
   "execution_count": 15,
   "id": "db8d7383",
   "metadata": {},
   "outputs": [
    {
     "name": "stdout",
     "output_type": "stream",
     "text": [
      "['mouse', ['pawpaw', 'mango', 'pear']]\n"
     ]
    }
   ],
   "source": [
    "data_list.append(fruits)\n",
    "print(data_list)"
   ]
  },
  {
   "cell_type": "code",
   "execution_count": 16,
   "id": "7611e5d9",
   "metadata": {},
   "outputs": [
    {
     "ename": "AttributeError",
     "evalue": "'tuple' object has no attribute 'append'",
     "output_type": "error",
     "traceback": [
      "\u001b[0;31m---------------------------------------------------------------------------\u001b[0m",
      "\u001b[0;31mAttributeError\u001b[0m                            Traceback (most recent call last)",
      "Input \u001b[0;32mIn [16]\u001b[0m, in \u001b[0;36m<cell line: 1>\u001b[0;34m()\u001b[0m\n\u001b[0;32m----> 1\u001b[0m \u001b[43mdata_tuple\u001b[49m\u001b[38;5;241;43m.\u001b[39;49m\u001b[43mappend\u001b[49m(fruits)\n\u001b[1;32m      2\u001b[0m \u001b[38;5;28mprint\u001b[39m(data_tuple)\n",
      "\u001b[0;31mAttributeError\u001b[0m: 'tuple' object has no attribute 'append'"
     ]
    }
   ],
   "source": [
    "data_tuple.append(fruits)\n",
    "print(data_tuple)"
   ]
  },
  {
   "cell_type": "code",
   "execution_count": 17,
   "id": "44567b75",
   "metadata": {},
   "outputs": [
    {
     "name": "stdout",
     "output_type": "stream",
     "text": [
      "('koji', 'python', 'Abduli')\n"
     ]
    }
   ],
   "source": [
    "print(data_tuple)"
   ]
  },
  {
   "cell_type": "code",
   "execution_count": 18,
   "id": "384517ac",
   "metadata": {},
   "outputs": [
    {
     "name": "stdout",
     "output_type": "stream",
     "text": [
      "['mouse', ['pawpaw', 'mango', 'pear']]\n"
     ]
    }
   ],
   "source": [
    "print(data_list)"
   ]
  },
  {
   "cell_type": "code",
   "execution_count": 40,
   "id": "5efea004",
   "metadata": {},
   "outputs": [
    {
     "name": "stdout",
     "output_type": "stream",
     "text": [
      "3\n"
     ]
    }
   ],
   "source": [
    "data = (\"mouse\",\"bello\",\"phone\",\"phone\",\"phone\")\n",
    "\n",
    "# count would list the occurance of an element in a data object\n",
    "print(data.count(\"phone\"))\n"
   ]
  },
  {
   "cell_type": "code",
   "execution_count": 41,
   "id": "5c4ff802",
   "metadata": {},
   "outputs": [
    {
     "name": "stdout",
     "output_type": "stream",
     "text": [
      "2\n"
     ]
    }
   ],
   "source": [
    "# index would give us the position of an element in a data object\n",
    "print(data.index(\"phone\"))"
   ]
  },
  {
   "cell_type": "code",
   "execution_count": null,
   "id": "ec152141",
   "metadata": {},
   "outputs": [],
   "source": []
  }
 ],
 "metadata": {
  "kernelspec": {
   "display_name": "Python 3 (ipykernel)",
   "language": "python",
   "name": "python3"
  },
  "language_info": {
   "codemirror_mode": {
    "name": "ipython",
    "version": 3
   },
   "file_extension": ".py",
   "mimetype": "text/x-python",
   "name": "python",
   "nbconvert_exporter": "python",
   "pygments_lexer": "ipython3",
   "version": "3.9.12"
  }
 },
 "nbformat": 4,
 "nbformat_minor": 5
}
