{
 "cells": [
  {
   "cell_type": "markdown",
   "id": "daef3815",
   "metadata": {},
   "source": [
    "## Python dictionary "
   ]
  },
  {
   "cell_type": "code",
   "execution_count": 10,
   "id": "03ebaa15",
   "metadata": {},
   "outputs": [],
   "source": [
    "## Dictionary: data structure that is writing in key: value, they are seperated by colon(:)\n",
    "from pprint import pprint"
   ]
  },
  {
   "cell_type": "code",
   "execution_count": 6,
   "id": "58b8b2bb",
   "metadata": {},
   "outputs": [
    {
     "name": "stdout",
     "output_type": "stream",
     "text": [
      "<class 'set'>\n"
     ]
    }
   ],
   "source": [
    "my_dict = {\"key\":\"value\"}\n",
    "\n",
    "print(type(my_dict))"
   ]
  },
  {
   "cell_type": "code",
   "execution_count": 8,
   "id": "2321973b",
   "metadata": {},
   "outputs": [
    {
     "name": "stdout",
     "output_type": "stream",
     "text": [
      "<class 'dict'>\n"
     ]
    }
   ],
   "source": [
    "my_dict = {\"FirstName\":\"Koji\",\"LastName\": \"Bello\",\"Age\": 24, \"Programming_lang\": \"Python\"}\n",
    "print(type(my_dict))"
   ]
  },
  {
   "cell_type": "code",
   "execution_count": 11,
   "id": "0aa6b838",
   "metadata": {},
   "outputs": [
    {
     "name": "stdout",
     "output_type": "stream",
     "text": [
      "['__class__',\n",
      " '__class_getitem__',\n",
      " '__contains__',\n",
      " '__delattr__',\n",
      " '__delitem__',\n",
      " '__dir__',\n",
      " '__doc__',\n",
      " '__eq__',\n",
      " '__format__',\n",
      " '__ge__',\n",
      " '__getattribute__',\n",
      " '__getitem__',\n",
      " '__gt__',\n",
      " '__hash__',\n",
      " '__init__',\n",
      " '__init_subclass__',\n",
      " '__ior__',\n",
      " '__iter__',\n",
      " '__le__',\n",
      " '__len__',\n",
      " '__lt__',\n",
      " '__ne__',\n",
      " '__new__',\n",
      " '__or__',\n",
      " '__reduce__',\n",
      " '__reduce_ex__',\n",
      " '__repr__',\n",
      " '__reversed__',\n",
      " '__ror__',\n",
      " '__setattr__',\n",
      " '__setitem__',\n",
      " '__sizeof__',\n",
      " '__str__',\n",
      " '__subclasshook__',\n",
      " 'clear',\n",
      " 'copy',\n",
      " 'fromkeys',\n",
      " 'get',\n",
      " 'items',\n",
      " 'keys',\n",
      " 'pop',\n",
      " 'popitem',\n",
      " 'setdefault',\n",
      " 'update',\n",
      " 'values']\n"
     ]
    }
   ],
   "source": [
    "pprint(dir(my_dict))"
   ]
  },
  {
   "cell_type": "code",
   "execution_count": 16,
   "id": "b356dd44",
   "metadata": {},
   "outputs": [
    {
     "name": "stdout",
     "output_type": "stream",
     "text": [
      "{'FirstName': 'Koji', 'LastName': 'Bello', 'Age': 24, 'Programming_lang': 'Python'}\n"
     ]
    }
   ],
   "source": [
    "\n"
   ]
  },
  {
   "cell_type": "code",
   "execution_count": 26,
   "id": "d89f7693",
   "metadata": {},
   "outputs": [
    {
     "name": "stdout",
     "output_type": "stream",
     "text": [
      "Bello\n"
     ]
    }
   ],
   "source": [
    "print(my_dict['LastName'])"
   ]
  },
  {
   "cell_type": "code",
   "execution_count": 27,
   "id": "f3d458e2",
   "metadata": {},
   "outputs": [
    {
     "name": "stdout",
     "output_type": "stream",
     "text": [
      "24\n"
     ]
    }
   ],
   "source": [
    "print(my_dict.get(\"Age\"))"
   ]
  },
  {
   "cell_type": "code",
   "execution_count": 28,
   "id": "f0d3be17",
   "metadata": {},
   "outputs": [
    {
     "name": "stdout",
     "output_type": "stream",
     "text": [
      "dict_keys(['FirstName', 'LastName', 'Age', 'Programming_lang'])\n"
     ]
    }
   ],
   "source": [
    "print(my_dict.keys())"
   ]
  },
  {
   "cell_type": "code",
   "execution_count": 29,
   "id": "ac386cbc",
   "metadata": {},
   "outputs": [
    {
     "name": "stdout",
     "output_type": "stream",
     "text": [
      "dict_values(['Koji', 'Bello', 24, 'Python'])\n"
     ]
    }
   ],
   "source": [
    "print(my_dict.values())"
   ]
  },
  {
   "cell_type": "code",
   "execution_count": 46,
   "id": "0e2b52e1",
   "metadata": {},
   "outputs": [
    {
     "name": "stdout",
     "output_type": "stream",
     "text": [
      "dict_keys(['brand', 'model', 'year', 'country'])\n"
     ]
    }
   ],
   "source": [
    "new_dict = {'brand': 'Ford','model': 'Mustang', 'year': 1964,\n",
    "            'country': ['Nigeria','Cameroon', 'Ghanna']}\n",
    "\n",
    "print(new_dict.keys())"
   ]
  },
  {
   "cell_type": "code",
   "execution_count": 34,
   "id": "465bf59b",
   "metadata": {},
   "outputs": [
    {
     "name": "stdout",
     "output_type": "stream",
     "text": [
      "{'brand': 'Ford', 'model': 'Mustang', 'year': 1964, 'country': ['Nigeria', 'Cameroon', 'Ghanna']}\n"
     ]
    }
   ],
   "source": [
    "print(new_dict)"
   ]
  },
  {
   "cell_type": "code",
   "execution_count": 44,
   "id": "82ba1c1e",
   "metadata": {},
   "outputs": [
    {
     "name": "stdout",
     "output_type": "stream",
     "text": [
      "['Nigeria', 'Cameroon', 'Ghanna']\n"
     ]
    }
   ],
   "source": [
    "print(new_dict.pop('country'))"
   ]
  },
  {
   "cell_type": "code",
   "execution_count": 39,
   "id": "994e7f9e",
   "metadata": {},
   "outputs": [
    {
     "name": "stdout",
     "output_type": "stream",
     "text": [
      "{'brand': 'Ford', 'model': 'Mustang', 'year': 1964}\n"
     ]
    }
   ],
   "source": [
    "print(new_dict)"
   ]
  },
  {
   "cell_type": "code",
   "execution_count": 48,
   "id": "bcfd6999",
   "metadata": {},
   "outputs": [
    {
     "name": "stdout",
     "output_type": "stream",
     "text": [
      "{'brand': 'Ford', 'model': 'Mustang', 'year': 1964, 'country': ['Nigeria', 'Cameroon', 'Ghanna']}\n",
      "dict_items([('brand', 'Ford'), ('model', 'Mustang'), ('year', 1964), ('country', ['Nigeria', 'Cameroon', 'Ghanna'])])\n"
     ]
    }
   ],
   "source": [
    "print(new_dict)\n",
    "\n",
    "print(new_dict.items())\n",
    "\n",
    "\n"
   ]
  },
  {
   "cell_type": "code",
   "execution_count": 49,
   "id": "89aa99d7",
   "metadata": {},
   "outputs": [
    {
     "name": "stdout",
     "output_type": "stream",
     "text": [
      "dict_items([('brand', 'Ford'), ('model', 'Mustang'), ('year', 1964), ('country', ['Nigeria', 'Cameroon', 'Ghanna'])])\n"
     ]
    }
   ],
   "source": [
    "print(new_dict.items())"
   ]
  },
  {
   "cell_type": "code",
   "execution_count": 52,
   "id": "075dd106",
   "metadata": {},
   "outputs": [
    {
     "name": "stdout",
     "output_type": "stream",
     "text": [
      "<class 'tuple'>\n"
     ]
    }
   ],
   "source": []
  },
  {
   "cell_type": "code",
   "execution_count": 54,
   "id": "e304bccc",
   "metadata": {},
   "outputs": [
    {
     "name": "stdout",
     "output_type": "stream",
     "text": [
      "1\n",
      "2\n",
      "3\n",
      "4\n"
     ]
    }
   ],
   "source": [
    "# iteration\n"
   ]
  },
  {
   "cell_type": "code",
   "execution_count": 3,
   "id": "b1f4313c",
   "metadata": {},
   "outputs": [],
   "source": [
    "people = {1: {'name': 'John', 'age': '27', 'sex': 'Male'}, \n",
    "          2: {'name': 'Marie', 'age': '22', 'sex': 'Female'},\n",
    "          3: {'name': 'Luna', 'age': '24', 'sex': 'Female', 'married': 'No'}}\n"
   ]
  },
  {
   "cell_type": "code",
   "execution_count": 8,
   "id": "8c02bcd0",
   "metadata": {},
   "outputs": [
    {
     "name": "stdout",
     "output_type": "stream",
     "text": [
      "Male\n"
     ]
    }
   ],
   "source": [
    "sec_people = people.get(1)\n",
    "print(sec_people.get('sex'))"
   ]
  },
  {
   "cell_type": "code",
   "execution_count": 9,
   "id": "9604abf6",
   "metadata": {},
   "outputs": [
    {
     "name": "stdout",
     "output_type": "stream",
     "text": [
      "Male\n"
     ]
    }
   ],
   "source": [
    "print(people.get(1).get('sex'))"
   ]
  },
  {
   "cell_type": "code",
   "execution_count": 1,
   "id": "83dc50e6",
   "metadata": {},
   "outputs": [],
   "source": [
    "#  lines [4]\n",
    "# line 25 [25]"
   ]
  },
  {
   "cell_type": "code",
   "execution_count": null,
   "id": "7c663113",
   "metadata": {},
   "outputs": [],
   "source": []
  },
  {
   "cell_type": "code",
   "execution_count": null,
   "id": "c1c0cff3",
   "metadata": {},
   "outputs": [],
   "source": []
  },
  {
   "cell_type": "code",
   "execution_count": null,
   "id": "d5014a44",
   "metadata": {},
   "outputs": [],
   "source": []
  },
  {
   "cell_type": "code",
   "execution_count": null,
   "id": "69d20960",
   "metadata": {},
   "outputs": [],
   "source": []
  }
 ],
 "metadata": {
  "kernelspec": {
   "display_name": "Python 3 (ipykernel)",
   "language": "python",
   "name": "python3"
  },
  "language_info": {
   "codemirror_mode": {
    "name": "ipython",
    "version": 3
   },
   "file_extension": ".py",
   "mimetype": "text/x-python",
   "name": "python",
   "nbconvert_exporter": "python",
   "pygments_lexer": "ipython3",
   "version": "3.9.12"
  }
 },
 "nbformat": 4,
 "nbformat_minor": 5
}
