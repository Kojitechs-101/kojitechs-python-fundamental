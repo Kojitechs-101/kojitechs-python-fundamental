{
 "cells": [
  {
   "cell_type": "code",
   "execution_count": 31,
   "id": "d6312521",
   "metadata": {},
   "outputs": [],
   "source": [
    "import builtins\n",
    "from pprint import pprint"
   ]
  },
  {
   "cell_type": "markdown",
   "id": "892671fe",
   "metadata": {},
   "source": [
    "## Python Variables"
   ]
  },
  {
   "cell_type": "code",
   "execution_count": 1,
   "id": "aee3307a",
   "metadata": {},
   "outputs": [
    {
     "name": "stdout",
     "output_type": "stream",
     "text": [
      "Hello koji, welcome to kojitechs.\n"
     ]
    }
   ],
   "source": [
    "print(\"Hello koji, welcome to kojitechs.\")"
   ]
  },
  {
   "cell_type": "markdown",
   "id": "fd455ffd",
   "metadata": {},
   "source": [
    "### naming your variables. \n",
    "avoid using reserve key words =\n",
    "python data types. [list, tuple, True, False, dict]\n",
    "name should be meaningfull "
   ]
  },
  {
   "cell_type": "code",
   "execution_count": null,
   "id": "f24ca043",
   "metadata": {},
   "outputs": [],
   "source": []
  },
  {
   "cell_type": "code",
   "execution_count": 8,
   "id": "83170f95",
   "metadata": {},
   "outputs": [
    {
     "name": "stdout",
     "output_type": "stream",
     "text": [
      "Bello\n"
     ]
    }
   ],
   "source": [
    "name = \"Bello\"\n",
    "print(name)"
   ]
  },
  {
   "cell_type": "code",
   "execution_count": 6,
   "id": "86ffdb53",
   "metadata": {},
   "outputs": [
    {
     "name": "stdout",
     "output_type": "stream",
     "text": [
      "Hello name, welcome to kojitechs.\n"
     ]
    }
   ],
   "source": [
    "print(\"Hello name, welcome to kojitechs.\")"
   ]
  },
  {
   "cell_type": "markdown",
   "id": "6d6182cd",
   "metadata": {},
   "source": [
    "## we are using builtins function call format"
   ]
  },
  {
   "cell_type": "code",
   "execution_count": 11,
   "id": "26e4b6c6",
   "metadata": {},
   "outputs": [
    {
     "name": "stdout",
     "output_type": "stream",
     "text": [
      "Hello Bello, welcome to kojitechs where you'll learn python/terraform\n"
     ]
    }
   ],
   "source": [
    "print(\"Hello {}, welcome to kojitechs where you'll learn python/terraform\".format(name))"
   ]
  },
  {
   "cell_type": "code",
   "execution_count": 12,
   "id": "a7041042",
   "metadata": {},
   "outputs": [
    {
     "name": "stdout",
     "output_type": "stream",
     "text": [
      "Hello KojiBello, welcome to kojitechs where you'll learn python/terraform\n"
     ]
    }
   ],
   "source": [
    "name = \"KojiBello\"\n",
    "print(f\"Hello {name}, welcome to kojitechs where you'll learn python/terraform\")"
   ]
  },
  {
   "cell_type": "code",
   "execution_count": 13,
   "id": "c9a7cd84",
   "metadata": {},
   "outputs": [
    {
     "name": "stdout",
     "output_type": "stream",
     "text": [
      "Hello KojiBello, welcome to kojitechs where you'll learn python/terraform\n"
     ]
    }
   ],
   "source": [
    "name = \"KojiBello\"\n",
    "school = \"kojitechs\"\n",
    "print(f\"Hello {name}, welcome to {school} where you'll learn python/terraform\")"
   ]
  },
  {
   "cell_type": "markdown",
   "id": "55cf94fe",
   "metadata": {},
   "source": [
    "print(\"Hello {}, welcome to {} where you'll learn python/terraform\".format(name,school))"
   ]
  },
  {
   "cell_type": "markdown",
   "id": "27d372ff",
   "metadata": {},
   "source": [
    "## we can store all sorts of dataype in a value"
   ]
  },
  {
   "cell_type": "code",
   "execution_count": 22,
   "id": "26e5f5c2",
   "metadata": {},
   "outputs": [
    {
     "name": "stdout",
     "output_type": "stream",
     "text": [
      "these are my fruits: ['apple', 'pear', 'mango', 'pawpaw'] 12.2\n"
     ]
    }
   ],
   "source": [
    "fruits = [\"apple\", \"pear\", \"mango\", \"pawpaw\"]\n",
    "print(f\"these are my fruits: {fruits}\")"
   ]
  },
  {
   "cell_type": "code",
   "execution_count": 21,
   "id": "14196555",
   "metadata": {},
   "outputs": [
    {
     "name": "stdout",
     "output_type": "stream",
     "text": [
      "['apple', 'pear', 'mango', 'pawpaw']\n"
     ]
    }
   ],
   "source": [
    "print(fruits)"
   ]
  },
  {
   "cell_type": "code",
   "execution_count": 25,
   "id": "cbd9152e",
   "metadata": {},
   "outputs": [
    {
     "name": "stdout",
     "output_type": "stream",
     "text": [
      "the total price of this: ['apple', 'pear', 'mango', 'pawpaw'] is ====> $123.0\n"
     ]
    }
   ],
   "source": [
    "\n",
    "price = 123.0\n",
    "print(f\"the total price of this: {fruits} is ====> ${price}\")"
   ]
  },
  {
   "cell_type": "code",
   "execution_count": 28,
   "id": "1546de4f",
   "metadata": {},
   "outputs": [
    {
     "name": "stdout",
     "output_type": "stream",
     "text": [
      "Hello koji my age is 24 thanks\n"
     ]
    }
   ],
   "source": [
    "username = \"koji\"\n",
    "age = 24\n",
    "print(f\"Hello {username} my age is {age} thanks\")\n"
   ]
  },
  {
   "cell_type": "markdown",
   "id": "fe94aab2",
   "metadata": {},
   "source": [
    "## User input in python"
   ]
  },
  {
   "cell_type": "code",
   "execution_count": null,
   "id": "4b0091d5",
   "metadata": {},
   "outputs": [],
   "source": []
  },
  {
   "cell_type": "code",
   "execution_count": 33,
   "id": "d3569d27",
   "metadata": {},
   "outputs": [
    {
     "name": "stdout",
     "output_type": "stream",
     "text": [
      "what is your namekojibello\n",
      "hello kojibello welcome to kojitechs\n"
     ]
    }
   ],
   "source": [
    "name = input(\"what is your name: \")\n",
    "print(f\"hello {name} welcome to kojitechs\")"
   ]
  },
  {
   "cell_type": "code",
   "execution_count": 34,
   "id": "acd47afb",
   "metadata": {},
   "outputs": [
    {
     "name": "stdout",
     "output_type": "stream",
     "text": [
      "what is your name: koji\n",
      "what is your age: 24\n",
      "hello koji welcome to kojitechs, my age is 24\n"
     ]
    }
   ],
   "source": [
    "name = input(\"what is your name: \")\n",
    "age = input(\"what is your age: \")\n",
    "print(f\"hello {name} welcome to kojitechs, my age is {age} years old\")"
   ]
  },
  {
   "cell_type": "code",
   "execution_count": null,
   "id": "2c913418",
   "metadata": {},
   "outputs": [],
   "source": []
  }
 ],
 "metadata": {
  "kernelspec": {
   "display_name": "Python 3 (ipykernel)",
   "language": "python",
   "name": "python3"
  },
  "language_info": {
   "codemirror_mode": {
    "name": "ipython",
    "version": 3
   },
   "file_extension": ".py",
   "mimetype": "text/x-python",
   "name": "python",
   "nbconvert_exporter": "python",
   "pygments_lexer": "ipython3",
   "version": "3.9.12"
  }
 },
 "nbformat": 4,
 "nbformat_minor": 5
}
