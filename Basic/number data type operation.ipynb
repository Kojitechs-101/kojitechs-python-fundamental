{
 "cells": [
  {
   "cell_type": "markdown",
   "id": "bfc78c52",
   "metadata": {},
   "source": [
    "## python operation with number data type"
   ]
  },
  {
   "cell_type": "code",
   "execution_count": 6,
   "id": "9108f4c8",
   "metadata": {},
   "outputs": [
    {
     "name": "stdout",
     "output_type": "stream",
     "text": [
      "<class 'int'>\n",
      "<class 'float'>\n",
      "<class 'complex'>\n"
     ]
    }
   ],
   "source": [
    "import builtins\n",
    "from pprint import pprint\n",
    "\n",
    "a = 5\n",
    "y = 5.0\n",
    "c = 5 + 3j\n",
    "\n",
    "print(type(a))\n",
    "print(type(y))\n",
    "print(type(c))"
   ]
  },
  {
   "cell_type": "code",
   "execution_count": 7,
   "id": "ec1e816d",
   "metadata": {},
   "outputs": [
    {
     "name": "stdout",
     "output_type": "stream",
     "text": [
      "['ArithmeticError',\n",
      " 'AssertionError',\n",
      " 'AttributeError',\n",
      " 'BaseException',\n",
      " 'BlockingIOError',\n",
      " 'BrokenPipeError',\n",
      " 'BufferError',\n",
      " 'BytesWarning',\n",
      " 'ChildProcessError',\n",
      " 'ConnectionAbortedError',\n",
      " 'ConnectionError',\n",
      " 'ConnectionRefusedError',\n",
      " 'ConnectionResetError',\n",
      " 'DeprecationWarning',\n",
      " 'EOFError',\n",
      " 'Ellipsis',\n",
      " 'EnvironmentError',\n",
      " 'Exception',\n",
      " 'False',\n",
      " 'FileExistsError',\n",
      " 'FileNotFoundError',\n",
      " 'FloatingPointError',\n",
      " 'FutureWarning',\n",
      " 'GeneratorExit',\n",
      " 'IOError',\n",
      " 'ImportError',\n",
      " 'ImportWarning',\n",
      " 'IndentationError',\n",
      " 'IndexError',\n",
      " 'InterruptedError',\n",
      " 'IsADirectoryError',\n",
      " 'KeyError',\n",
      " 'KeyboardInterrupt',\n",
      " 'LookupError',\n",
      " 'MemoryError',\n",
      " 'ModuleNotFoundError',\n",
      " 'NameError',\n",
      " 'None',\n",
      " 'NotADirectoryError',\n",
      " 'NotImplemented',\n",
      " 'NotImplementedError',\n",
      " 'OSError',\n",
      " 'OverflowError',\n",
      " 'PendingDeprecationWarning',\n",
      " 'PermissionError',\n",
      " 'ProcessLookupError',\n",
      " 'RecursionError',\n",
      " 'ReferenceError',\n",
      " 'ResourceWarning',\n",
      " 'RuntimeError',\n",
      " 'RuntimeWarning',\n",
      " 'StopAsyncIteration',\n",
      " 'StopIteration',\n",
      " 'SyntaxError',\n",
      " 'SyntaxWarning',\n",
      " 'SystemError',\n",
      " 'SystemExit',\n",
      " 'TabError',\n",
      " 'TimeoutError',\n",
      " 'True',\n",
      " 'TypeError',\n",
      " 'UnboundLocalError',\n",
      " 'UnicodeDecodeError',\n",
      " 'UnicodeEncodeError',\n",
      " 'UnicodeError',\n",
      " 'UnicodeTranslateError',\n",
      " 'UnicodeWarning',\n",
      " 'UserWarning',\n",
      " 'ValueError',\n",
      " 'Warning',\n",
      " 'ZeroDivisionError',\n",
      " '__IPYTHON__',\n",
      " '__build_class__',\n",
      " '__debug__',\n",
      " '__doc__',\n",
      " '__import__',\n",
      " '__loader__',\n",
      " '__name__',\n",
      " '__package__',\n",
      " '__spec__',\n",
      " 'abs',\n",
      " 'all',\n",
      " 'any',\n",
      " 'ascii',\n",
      " 'bin',\n",
      " 'bool',\n",
      " 'breakpoint',\n",
      " 'bytearray',\n",
      " 'bytes',\n",
      " 'callable',\n",
      " 'chr',\n",
      " 'classmethod',\n",
      " 'compile',\n",
      " 'complex',\n",
      " 'copyright',\n",
      " 'credits',\n",
      " 'delattr',\n",
      " 'dict',\n",
      " 'dir',\n",
      " 'display',\n",
      " 'divmod',\n",
      " 'enumerate',\n",
      " 'eval',\n",
      " 'exec',\n",
      " 'execfile',\n",
      " 'filter',\n",
      " 'float',\n",
      " 'format',\n",
      " 'frozenset',\n",
      " 'get_ipython',\n",
      " 'getattr',\n",
      " 'globals',\n",
      " 'hasattr',\n",
      " 'hash',\n",
      " 'help',\n",
      " 'hex',\n",
      " 'id',\n",
      " 'input',\n",
      " 'int',\n",
      " 'isinstance',\n",
      " 'issubclass',\n",
      " 'iter',\n",
      " 'len',\n",
      " 'license',\n",
      " 'list',\n",
      " 'locals',\n",
      " 'map',\n",
      " 'max',\n",
      " 'memoryview',\n",
      " 'min',\n",
      " 'next',\n",
      " 'object',\n",
      " 'oct',\n",
      " 'open',\n",
      " 'ord',\n",
      " 'pow',\n",
      " 'print',\n",
      " 'property',\n",
      " 'range',\n",
      " 'repr',\n",
      " 'reversed',\n",
      " 'round',\n",
      " 'runfile',\n",
      " 'set',\n",
      " 'setattr',\n",
      " 'slice',\n",
      " 'sorted',\n",
      " 'staticmethod',\n",
      " 'str',\n",
      " 'sum',\n",
      " 'super',\n",
      " 'tuple',\n",
      " 'type',\n",
      " 'vars',\n",
      " 'zip']\n"
     ]
    }
   ],
   "source": [
    "pprint(dir(builtins))"
   ]
  },
  {
   "cell_type": "code",
   "execution_count": 18,
   "id": "57a2006a",
   "metadata": {},
   "outputs": [
    {
     "data": {
      "text/plain": [
       "' \\nif type(x) == int:\\n    print(\"true\")\\n'"
      ]
     },
     "execution_count": 18,
     "metadata": {},
     "output_type": "execute_result"
    }
   ],
   "source": [
    "x = 10\n",
    "\n",
    "\"\"\" \n",
    "if type(x) == int:\n",
    "    print(\"true\")\n",
    "\"\"\"\n"
   ]
  },
  {
   "cell_type": "code",
   "execution_count": 19,
   "id": "c28b119d",
   "metadata": {},
   "outputs": [
    {
     "name": "stdout",
     "output_type": "stream",
     "text": [
      "True\n"
     ]
    }
   ],
   "source": [
    "print(isinstance(x, int))"
   ]
  },
  {
   "cell_type": "code",
   "execution_count": null,
   "id": "d7fd4d54",
   "metadata": {},
   "outputs": [],
   "source": [
    "\n"
   ]
  }
 ],
 "metadata": {
  "kernelspec": {
   "display_name": "Python 3 (ipykernel)",
   "language": "python",
   "name": "python3"
  },
  "language_info": {
   "codemirror_mode": {
    "name": "ipython",
    "version": 3
   },
   "file_extension": ".py",
   "mimetype": "text/x-python",
   "name": "python",
   "nbconvert_exporter": "python",
   "pygments_lexer": "ipython3",
   "version": "3.9.12"
  }
 },
 "nbformat": 4,
 "nbformat_minor": 5
}
