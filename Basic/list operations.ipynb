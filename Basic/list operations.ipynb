{
 "cells": [
  {
   "cell_type": "code",
   "execution_count": 6,
   "id": "1cdda6ec",
   "metadata": {},
   "outputs": [
    {
     "ename": "SyntaxError",
     "evalue": "cannot assign to literal (4250658345.py, line 4)",
     "output_type": "error",
     "traceback": [
      "\u001b[0;36m  Input \u001b[0;32mIn [6]\u001b[0;36m\u001b[0m\n\u001b[0;31m    \"\" => str\u001b[0m\n\u001b[0m    ^\u001b[0m\n\u001b[0;31mSyntaxError\u001b[0m\u001b[0;31m:\u001b[0m cannot assign to literal\n"
     ]
    }
   ],
   "source": [
    "# python data types\n",
    "\n",
    "\"\" => str\n",
    "[] => list\n",
    "2 = > int\n",
    "1.0 = > float\n",
    "{\"keys\": \"values\" } => dict\n",
    "{\"1\",\"2\",\"3\"} => set\n",
    "() = tuple\n",
    "True/False = bool\n",
    "None = None"
   ]
  },
  {
   "cell_type": "code",
   "execution_count": 62,
   "id": "581b571e",
   "metadata": {},
   "outputs": [
    {
     "name": "stdout",
     "output_type": "stream",
     "text": [
      "['__add__',\n",
      " '__class__',\n",
      " '__class_getitem__',\n",
      " '__contains__',\n",
      " '__delattr__',\n",
      " '__delitem__',\n",
      " '__dir__',\n",
      " '__doc__',\n",
      " '__eq__',\n",
      " '__format__',\n",
      " '__ge__',\n",
      " '__getattribute__',\n",
      " '__getitem__',\n",
      " '__gt__',\n",
      " '__hash__',\n",
      " '__iadd__',\n",
      " '__imul__',\n",
      " '__init__',\n",
      " '__init_subclass__',\n",
      " '__iter__',\n",
      " '__le__',\n",
      " '__len__',\n",
      " '__lt__',\n",
      " '__mul__',\n",
      " '__ne__',\n",
      " '__new__',\n",
      " '__reduce__',\n",
      " '__reduce_ex__',\n",
      " '__repr__',\n",
      " '__reversed__',\n",
      " '__rmul__',\n",
      " '__setattr__',\n",
      " '__setitem__',\n",
      " '__sizeof__',\n",
      " '__str__',\n",
      " '__subclasshook__',\n",
      " 'append',\n",
      " 'clear',\n",
      " 'copy',\n",
      " 'count',\n",
      " 'extend',\n",
      " 'index',\n",
      " 'insert',\n",
      " 'pop',\n",
      " 'remove',\n",
      " 'reverse',\n",
      " 'sort']\n"
     ]
    }
   ],
   "source": [
    "from pprint import pprint\n",
    "import builtins\n",
    "fruits = [\"apple\"]\n",
    "\n",
    "pprint(dir(fruits)) # length() | len"
   ]
  },
  {
   "cell_type": "markdown",
   "id": "0e5feb32",
   "metadata": {},
   "source": [
    "## append()\n",
    "The append() method is used to add elements at the end of the list. This method can only add a single element at a time. To add multiple elements, the append() method can be used inside a loop."
   ]
  },
  {
   "cell_type": "code",
   "execution_count": 18,
   "id": "db70b05f",
   "metadata": {},
   "outputs": [
    {
     "name": "stdout",
     "output_type": "stream",
     "text": [
      "['pawpaw', 'orange']\n"
     ]
    }
   ],
   "source": [
    "fruits = []\n",
    "\n",
    "fruits.append(\"pawpaw\")\n",
    "fruits.append(\"orange\")\n",
    "print(fruits)"
   ]
  },
  {
   "cell_type": "code",
   "execution_count": null,
   "id": "0328c090",
   "metadata": {},
   "outputs": [],
   "source": []
  },
  {
   "cell_type": "code",
   "execution_count": 19,
   "id": "05fca034",
   "metadata": {},
   "outputs": [
    {
     "name": "stdout",
     "output_type": "stream",
     "text": [
      "['pawpaw', 'orange']\n"
     ]
    }
   ],
   "source": [
    "print(fruits)"
   ]
  },
  {
   "cell_type": "markdown",
   "id": "0355ad8a",
   "metadata": {},
   "source": [
    "## insert()\n",
    "The insert() method can add an element at a given position in the list. Thus, unlike append(), it can add elements at any position, but like append(), it can add only one element at a time. This method takes two arguments. The first argument specifies the position, and the second argument specifies the element to be inserted."
   ]
  },
  {
   "cell_type": "code",
   "execution_count": 22,
   "id": "53f43a7a",
   "metadata": {},
   "outputs": [
    {
     "name": "stdout",
     "output_type": "stream",
     "text": [
      "['pawpaw', 'bello', 'orange', 'pear']\n"
     ]
    }
   ],
   "source": [
    "\n",
    "fruits = ['pawpaw', 'orange','pear']\n",
    "fruits.insert(1, \"bello\")\n",
    "print(fruits)"
   ]
  },
  {
   "cell_type": "markdown",
   "id": "ab171f93",
   "metadata": {},
   "source": [
    "##  extend()\n",
    "The extend() method is used to add more than one element at the end of the list. Although it can add more than one element, unlike append(), it adds them at the end of the list like append().\n"
   ]
  },
  {
   "cell_type": "code",
   "execution_count": 45,
   "id": "b25a3a69",
   "metadata": {},
   "outputs": [
    {
     "name": "stdout",
     "output_type": "stream",
     "text": [
      "['koji', 'bello', 'paul', 'Deji', 'behyllo']\n"
     ]
    }
   ],
   "source": [
    "list1 = [\"koji\", \"bello\", \"paul\"]\n",
    "list2 = [\"Deji\", \"behyllo\"]\n",
    "\n",
    "list1.extend(list2)\n",
    "print(list1)"
   ]
  },
  {
   "cell_type": "markdown",
   "id": "e2d21469",
   "metadata": {},
   "source": [
    "## remove()\n",
    "The remove() method is used to remove an element from the list. In the case of multiple occurrences of the same element, only the first occurrence is removed."
   ]
  },
  {
   "cell_type": "code",
   "execution_count": 46,
   "id": "85c49c99",
   "metadata": {},
   "outputs": [
    {
     "name": "stdout",
     "output_type": "stream",
     "text": [
      "['koji', 'bello', 'paul', 'Deji']\n"
     ]
    }
   ],
   "source": [
    "list1.remove('behyllo')\n",
    "print(list1)"
   ]
  },
  {
   "cell_type": "code",
   "execution_count": 38,
   "id": "cbf13ca4",
   "metadata": {},
   "outputs": [
    {
     "name": "stdout",
     "output_type": "stream",
     "text": [
      "['koji', 'bello', 'paul', 'Deji']\n"
     ]
    }
   ],
   "source": []
  },
  {
   "cell_type": "markdown",
   "id": "dc27568f",
   "metadata": {},
   "source": [
    "## pop()\n",
    "The method pop() can remove an element from any position in the list. The parameter supplied to this method is the index of the element to be removed."
   ]
  },
  {
   "cell_type": "code",
   "execution_count": 47,
   "id": "9cc6a852",
   "metadata": {},
   "outputs": [
    {
     "name": "stdout",
     "output_type": "stream",
     "text": [
      "['koji', 'bello', 'paul']\n"
     ]
    }
   ],
   "source": [
    "list1.pop()\n",
    "print(list1)"
   ]
  },
  {
   "cell_type": "code",
   "execution_count": 51,
   "id": "e1aa945f",
   "metadata": {},
   "outputs": [
    {
     "name": "stdout",
     "output_type": "stream",
     "text": [
      "Du\n"
     ]
    }
   ],
   "source": [
    "\n",
    "x = [\"Dubai\", \"Nigeria\", \"Gabon\"]\n"
   ]
  },
  {
   "cell_type": "markdown",
   "id": "40be322b",
   "metadata": {},
   "source": [
    "## slice a list"
   ]
  },
  {
   "cell_type": "code",
   "execution_count": 59,
   "id": "0fcc06a1",
   "metadata": {},
   "outputs": [
    {
     "name": "stdout",
     "output_type": "stream",
     "text": [
      "Du\n"
     ]
    }
   ],
   "source": [
    "x = [\"Dubai\", \"Nigeria\", \"Gabon\"]\n",
    "second_list = x[0]\n",
    "print(second_list[0:2])"
   ]
  },
  {
   "cell_type": "markdown",
   "id": "49e2945f",
   "metadata": {},
   "source": [
    "## sort()"
   ]
  },
  {
   "cell_type": "code",
   "execution_count": 76,
   "id": "1bac6a52",
   "metadata": {},
   "outputs": [
    {
     "name": "stdout",
     "output_type": "stream",
     "text": [
      "['Apple', 'Bello', 'koji']\n",
      "[0, 2, 3, 4, 5, 6, 7, 8, 12, 12, 32]\n"
     ]
    }
   ],
   "source": [
    "y = [0,2,32,4,12,5,6,7,8,12,3]\n",
    "name = [\"koji\", \"Apple\", \"Bello\"]\n",
    "name.sort()\n",
    "print(name)\n",
    "y.sort()\n",
    "print(y)"
   ]
  },
  {
   "cell_type": "code",
   "execution_count": null,
   "id": "f34dd4ad",
   "metadata": {},
   "outputs": [],
   "source": []
  },
  {
   "cell_type": "code",
   "execution_count": 71,
   "id": "a9559e99",
   "metadata": {},
   "outputs": [
    {
     "name": "stdout",
     "output_type": "stream",
     "text": [
      "1\n"
     ]
    }
   ],
   "source": [
    "\n",
    "print(min([1,2,3,4,5]))\n"
   ]
  },
  {
   "cell_type": "code",
   "execution_count": null,
   "id": "f12a7398",
   "metadata": {},
   "outputs": [],
   "source": []
  }
 ],
 "metadata": {
  "kernelspec": {
   "display_name": "Python 3 (ipykernel)",
   "language": "python",
   "name": "python3"
  },
  "language_info": {
   "codemirror_mode": {
    "name": "ipython",
    "version": 3
   },
   "file_extension": ".py",
   "mimetype": "text/x-python",
   "name": "python",
   "nbconvert_exporter": "python",
   "pygments_lexer": "ipython3",
   "version": "3.9.12"
  }
 },
 "nbformat": 4,
 "nbformat_minor": 5
}
