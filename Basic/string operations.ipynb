{
 "cells": [
  {
   "cell_type": "markdown",
   "id": "593724e0",
   "metadata": {},
   "source": [
    "## Python data types"
   ]
  },
  {
   "cell_type": "code",
   "execution_count": null,
   "id": "d6674b22",
   "metadata": {},
   "outputs": [],
   "source": [
    "# python data types\n",
    "\n",
    "\n",
    "\"\" => str\n",
    "2 = > int\n",
    "1.0 = > float\n",
    "[] => list\n",
    "{\"keys\": \"values\" } => dict\n",
    "{\"1\",\"2\",\"3\"} => set\n",
    "() = tuple\n",
    "True/False = bool\n",
    "None = None"
   ]
  },
  {
   "cell_type": "code",
   "execution_count": 8,
   "id": "62d8cc40",
   "metadata": {},
   "outputs": [],
   "source": [
    "from pprint import pprint"
   ]
  },
  {
   "cell_type": "markdown",
   "id": "189312be",
   "metadata": {},
   "source": [
    "## What are some of the operations we can perform with string"
   ]
  },
  {
   "cell_type": "code",
   "execution_count": 109,
   "id": "47bc0b5f",
   "metadata": {},
   "outputs": [],
   "source": [
    "name = \"koji Bello\"\n",
    "pprint(dir(name))\n"
   ]
  },
  {
   "cell_type": "code",
   "execution_count": 12,
   "id": "e49fc6ee",
   "metadata": {},
   "outputs": [
    {
     "name": "stdout",
     "output_type": "stream",
     "text": [
      "Enter username: KOJI BELLO\n",
      "koji bello\n"
     ]
    }
   ],
   "source": [
    "x = input(\"Enter username: \")\n",
    "print(x.lower())"
   ]
  },
  {
   "cell_type": "code",
   "execution_count": 13,
   "id": "04a25920",
   "metadata": {},
   "outputs": [
    {
     "name": "stdout",
     "output_type": "stream",
     "text": [
      "Enter username: koji bello\n",
      "KOJI BELLO\n"
     ]
    }
   ],
   "source": [
    "x = input(\"Enter username: \")\n",
    "print(x.upper())"
   ]
  },
  {
   "cell_type": "code",
   "execution_count": 17,
   "id": "3f4766f3",
   "metadata": {},
   "outputs": [
    {
     "name": "stdout",
     "output_type": "stream",
     "text": [
      "Bello\n"
     ]
    }
   ],
   "source": [
    "b = \"bello\"\n",
    "print(b.capitalize())"
   ]
  },
  {
   "cell_type": "code",
   "execution_count": 16,
   "id": "9942940c",
   "metadata": {},
   "outputs": [
    {
     "name": "stdout",
     "output_type": "stream",
     "text": [
      "Hi Everyone, Welcome To Kojitechs\n"
     ]
    }
   ],
   "source": [
    "ti = \"hi everyone, welcome to kojitechs\"\n",
    "print(ti.title())"
   ]
  },
  {
   "cell_type": "code",
   "execution_count": 25,
   "id": "df07852e",
   "metadata": {},
   "outputs": [
    {
     "name": "stdout",
     "output_type": "stream",
     "text": [
      "True\n"
     ]
    }
   ],
   "source": [
    "x = \"BELLO\"\n",
    "print(x.isupper())"
   ]
  },
  {
   "cell_type": "code",
   "execution_count": 26,
   "id": "9f1d7fd8",
   "metadata": {},
   "outputs": [
    {
     "name": "stdout",
     "output_type": "stream",
     "text": [
      "Hi, x is upper!\n"
     ]
    }
   ],
   "source": [
    "if x.isupper():\n",
    "    print(\"Hi, x is upper!\")\n",
    "else:\n",
    "    print(\"Nothing\")"
   ]
  },
  {
   "cell_type": "code",
   "execution_count": 27,
   "id": "d7387936",
   "metadata": {},
   "outputs": [
    {
     "name": "stdout",
     "output_type": "stream",
     "text": [
      "['hi', 'everyone,', 'welcome', 'to', 'kojitechs']\n"
     ]
    }
   ],
   "source": [
    "print(ti.split())\n"
   ]
  },
  {
   "cell_type": "code",
   "execution_count": 30,
   "id": "6e9b86a4",
   "metadata": {},
   "outputs": [
    {
     "name": "stdout",
     "output_type": "stream",
     "text": [
      "['hello']\n"
     ]
    }
   ],
   "source": [
    "y = \"hello\"\n",
    "print(y.split())"
   ]
  },
  {
   "cell_type": "code",
   "execution_count": 35,
   "id": "0250fd15",
   "metadata": {},
   "outputs": [
    {
     "name": "stdout",
     "output_type": "stream",
     "text": [
      "python \n"
     ]
    }
   ],
   "source": [
    "name = \"python \\n\"\n",
    "print(name.strip(\"\\n\"))"
   ]
  },
  {
   "cell_type": "code",
   "execution_count": 54,
   "id": "1aab50bc",
   "metadata": {},
   "outputs": [],
   "source": [
    "name = \"hello, welcome to kojitechshsydyeiwbfbjdyurbshqhqyqyyyyyyyyyyyyyyyyyyyyyyyy\"\n"
   ]
  },
  {
   "cell_type": "code",
   "execution_count": 55,
   "id": "25e3f768",
   "metadata": {},
   "outputs": [
    {
     "name": "stdout",
     "output_type": "stream",
     "text": [
      "28\n"
     ]
    }
   ],
   "source": [
    "print(name.count(\"y\"))"
   ]
  },
  {
   "cell_type": "code",
   "execution_count": 61,
   "id": "8a2d723a",
   "metadata": {},
   "outputs": [
    {
     "name": "stdout",
     "output_type": "stream",
     "text": [
      "e\n"
     ]
    }
   ],
   "source": [
    "x = \"hello\"\n",
    "\n",
    "# print(x.index(\"o\"))\n",
    "print(x[1])\n"
   ]
  },
  {
   "cell_type": "markdown",
   "id": "0924e126",
   "metadata": {},
   "source": [
    "## index in python"
   ]
  },
  {
   "cell_type": "code",
   "execution_count": 66,
   "id": "62f6e179",
   "metadata": {},
   "outputs": [
    {
     "name": "stdout",
     "output_type": "stream",
     "text": [
      "n\n"
     ]
    }
   ],
   "source": [
    "a = \"i love python\"\n",
    "\n",
    "print(a[-1])"
   ]
  },
  {
   "cell_type": "code",
   "execution_count": 67,
   "id": "5abd2a57",
   "metadata": {},
   "outputs": [
    {
     "name": "stdout",
     "output_type": "stream",
     "text": [
      "o\n"
     ]
    }
   ],
   "source": [
    "print(a[-2])"
   ]
  },
  {
   "cell_type": "code",
   "execution_count": 68,
   "id": "9eeb4761",
   "metadata": {},
   "outputs": [
    {
     "name": "stdout",
     "output_type": "stream",
     "text": [
      "h\n"
     ]
    }
   ],
   "source": [
    "print(a[-3])"
   ]
  },
  {
   "cell_type": "code",
   "execution_count": 82,
   "id": "e0e81119",
   "metadata": {},
   "outputs": [
    {
     "name": "stdout",
     "output_type": "stream",
     "text": [
      "my first name is koji\n"
     ]
    }
   ],
   "source": [
    "y = \"my first name is koji\"\n",
    "\n",
    "print(y[:])"
   ]
  },
  {
   "cell_type": "code",
   "execution_count": 84,
   "id": "6460c47d",
   "metadata": {},
   "outputs": [
    {
     "name": "stdout",
     "output_type": "stream",
     "text": [
      "my\n"
     ]
    }
   ],
   "source": [
    "print(y[0:2])"
   ]
  },
  {
   "cell_type": "code",
   "execution_count": 101,
   "id": "143a5863",
   "metadata": {},
   "outputs": [
    {
     "name": "stdout",
     "output_type": "stream",
     "text": [
      "p=y=t=h=o=n\n"
     ]
    }
   ],
   "source": [
    "password = \"python\"\n",
    "print(\"=\".join(password))\n"
   ]
  },
  {
   "cell_type": "code",
   "execution_count": 108,
   "id": "eea9e9d1",
   "metadata": {},
   "outputs": [
    {
     "name": "stdout",
     "output_type": "stream",
     "text": [
      "hello world\n"
     ]
    }
   ],
   "source": [
    "x = \"hello\"\n",
    "y = \"world\"\n",
    "\n",
    "d = x +\" \"+ y\n",
    "print(d)"
   ]
  },
  {
   "cell_type": "code",
   "execution_count": null,
   "id": "e13dd576",
   "metadata": {},
   "outputs": [],
   "source": []
  }
 ],
 "metadata": {
  "kernelspec": {
   "display_name": "Python 3 (ipykernel)",
   "language": "python",
   "name": "python3"
  },
  "language_info": {
   "codemirror_mode": {
    "name": "ipython",
    "version": 3
   },
   "file_extension": ".py",
   "mimetype": "text/x-python",
   "name": "python",
   "nbconvert_exporter": "python",
   "pygments_lexer": "ipython3",
   "version": "3.9.12"
  }
 },
 "nbformat": 4,
 "nbformat_minor": 5
}
