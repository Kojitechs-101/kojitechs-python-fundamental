{
 "cells": [
  {
   "cell_type": "code",
   "execution_count": 3,
   "id": "d306ec21",
   "metadata": {},
   "outputs": [
    {
     "name": "stdout",
     "output_type": "stream",
     "text": [
      "Please enter first number: -4 \n",
      "Please enter second number: 5\n",
      "The addition of -4  and 5= 1\n"
     ]
    }
   ],
   "source": [
    "first_number = eval(input(\"Please enter first number: \"))\n",
    "second_number = eval(input(\"Please enter second number: \"))\n",
    "\n",
    "result = first_number + second_number \n",
    "\n",
    "print(f\"The addition of {first_number}  and {second_number}= {result}\")\n",
    "\n"
   ]
  },
  {
   "cell_type": "code",
   "execution_count": null,
   "id": "268aa982",
   "metadata": {},
   "outputs": [],
   "source": []
  }
 ],
 "metadata": {
  "kernelspec": {
   "display_name": "Python 3 (ipykernel)",
   "language": "python",
   "name": "python3"
  },
  "language_info": {
   "codemirror_mode": {
    "name": "ipython",
    "version": 3
   },
   "file_extension": ".py",
   "mimetype": "text/x-python",
   "name": "python",
   "nbconvert_exporter": "python",
   "pygments_lexer": "ipython3",
   "version": "3.9.12"
  }
 },
 "nbformat": 4,
 "nbformat_minor": 5
}
