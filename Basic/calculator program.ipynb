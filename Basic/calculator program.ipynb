{
 "cells": [
  {
   "cell_type": "code",
   "execution_count": 3,
   "id": "d306ec21",
   "metadata": {},
   "outputs": [
    {
     "name": "stdout",
     "output_type": "stream",
     "text": [
      "Please enter first number: -4 \n",
      "Please enter second number: 5\n",
      "The addition of -4  and 5= 1\n"
     ]
    }
   ],
   "source": [
    "first_number = eval(input(\"Please enter first number: \"))\n",
    "second_number = eval(input(\"Please enter second number: \"))\n",
    "\n",
    "result = first_number + second_number \n",
    "\n",
    "print(f\"The addition of {first_number}  and {second_number}= {result}\")\n",
    "\n"
   ]
  },
  {
   "cell_type": "code",
   "execution_count": 1,
   "id": "268aa982",
   "metadata": {},
   "outputs": [
    {
     "name": "stdout",
     "output_type": "stream",
     "text": [
      "Enter user name: 234\n"
     ]
    }
   ],
   "source": [
    "user_name = input(\"Enter user name: \")\n",
    "\n",
    "float(input(\"enter: \"))\n"
   ]
  },
  {
   "cell_type": "markdown",
   "id": "beb95922",
   "metadata": {},
   "source": [
    "## print out the key name to get the value"
   ]
  },
  {
   "cell_type": "code",
   "execution_count": 2,
   "id": "40c5db1a",
   "metadata": {},
   "outputs": [],
   "source": [
    "sampleDict = {\"class\": {\n",
    "    \"student\": {\n",
    "            \"name\": \"Mike\",\n",
    "            \"marks\": {\n",
    "                \"physics\": 70,\n",
    "                \"history\": 80\n",
    "            }\n",
    "        }\n",
    "    }\n",
    "}\n",
    "\n"
   ]
  },
  {
   "cell_type": "code",
   "execution_count": 32,
   "id": "63b1d0c7",
   "metadata": {},
   "outputs": [
    {
     "name": "stdout",
     "output_type": "stream",
     "text": [
      "Mike\n",
      "70\n"
     ]
    }
   ],
   "source": [
    "\n",
    "print(sampleDict['class']['student']['name'])\n",
    "print(sampleDict['class']['student']['marks']['physics'])\n"
   ]
  },
  {
   "cell_type": "markdown",
   "id": "2ac1c686",
   "metadata": {},
   "source": [
    "## how many character's are in str1"
   ]
  },
  {
   "cell_type": "code",
   "execution_count": 33,
   "id": "47037695",
   "metadata": {},
   "outputs": [
    {
     "name": "stdout",
     "output_type": "stream",
     "text": [
      "15\n"
     ]
    }
   ],
   "source": [
    "str1 = \"P@#yn26at^&i5ve\"\n",
    "\n",
    "print(len(str1))"
   ]
  },
  {
   "cell_type": "markdown",
   "id": "cb72b4e8",
   "metadata": {},
   "source": [
    "\n",
    "\n"
   ]
  },
  {
   "cell_type": "code",
   "execution_count": 36,
   "id": "51ec42f6",
   "metadata": {},
   "outputs": [
    {
     "name": "stdout",
     "output_type": "stream",
     "text": [
      "ev5i&^ta62ny#@P\n"
     ]
    }
   ],
   "source": [
    "str1 = \"P@#yn26at^&i5ve\"\n",
    "\n",
    "print(str1[::-1])"
   ]
  },
  {
   "cell_type": "code",
   "execution_count": 37,
   "id": "b9448c6f",
   "metadata": {},
   "outputs": [
    {
     "name": "stdout",
     "output_type": "stream",
     "text": [
      "An error occurred (ExpiredToken) when calling the ListBuckets operation: The provided token has expired.\n"
     ]
    }
   ],
   "source": []
  },
  {
   "cell_type": "code",
   "execution_count": null,
   "id": "04ffadc5",
   "metadata": {},
   "outputs": [],
   "source": []
  },
  {
   "cell_type": "code",
   "execution_count": null,
   "id": "b5157438",
   "metadata": {},
   "outputs": [],
   "source": []
  },
  {
   "cell_type": "code",
   "execution_count": null,
   "id": "2f472536",
   "metadata": {},
   "outputs": [],
   "source": []
  },
  {
   "cell_type": "code",
   "execution_count": null,
   "id": "a472b32b",
   "metadata": {},
   "outputs": [],
   "source": []
  }
 ],
 "metadata": {
  "kernelspec": {
   "display_name": "Python 3 (ipykernel)",
   "language": "python",
   "name": "python3"
  },
  "language_info": {
   "codemirror_mode": {
    "name": "ipython",
    "version": 3
   },
   "file_extension": ".py",
   "mimetype": "text/x-python",
   "name": "python",
   "nbconvert_exporter": "python",
   "pygments_lexer": "ipython3",
   "version": "3.9.12"
  }
 },
 "nbformat": 4,
 "nbformat_minor": 5
}
