{
 "cells": [
  {
   "cell_type": "code",
   "execution_count": 6,
   "id": "dcd13dd6",
   "metadata": {},
   "outputs": [
    {
     "name": "stdout",
     "output_type": "stream",
     "text": [
      "Please enter you password········\n",
      "Please enter you password········\n",
      "Please enter you password········\n",
      "Sorry you have exhausted the limit of 3\n"
     ]
    }
   ],
   "source": [
    "import getpass\n",
    "\n",
    "password = \"koji\"\n",
    "user_password = \"\"\n",
    "user_atempt = 3\n",
    "user_name = \n",
    "\n",
    "while user_password != password and user_atempt !=0:\n",
    "    user_password = getpass.getpass(\"Please enter you password\")\n",
    "    user_name = getpass.getuser(\"enter user name: \")\n",
    "    user_atempt -=1\n",
    "    if user_atempt == 0:\n",
    "        print(\"Sorry you have exhausted the limit of 3\")\n",
    "        \n",
    "    if user_password == password:\n",
    "        print(\"Login successful!\")\n"
   ]
  },
  {
   "cell_type": "code",
   "execution_count": null,
   "id": "d4d00eb4",
   "metadata": {},
   "outputs": [],
   "source": []
  },
  {
   "cell_type": "code",
   "execution_count": null,
   "id": "e07e5d11",
   "metadata": {},
   "outputs": [],
   "source": []
  },
  {
   "cell_type": "code",
   "execution_count": null,
   "id": "ecd45270",
   "metadata": {},
   "outputs": [],
   "source": []
  },
  {
   "cell_type": "code",
   "execution_count": null,
   "id": "33fc9d31",
   "metadata": {},
   "outputs": [],
   "source": []
  }
 ],
 "metadata": {
  "kernelspec": {
   "display_name": "Python ('a')",
   "language": "python",
   "name": "python3"
  },
  "language_info": {
   "codemirror_mode": {
    "name": "ipython",
    "version": 3
   },
   "file_extension": ".py",
   "mimetype": "text/x-python",
   "name": "python",
   "nbconvert_exporter": "python",
   "pygments_lexer": "ipython3",
   "version": ""
  },
  "vscode": {
   "interpreter": {
    "hash": "949777d72b0d2535278d3dc13498b2535136f6dfe0678499012e853ee9abcab1"
   }
  }
 },
 "nbformat": 4,
 "nbformat_minor": 5
}
