{
 "cells": [
  {
   "cell_type": "markdown",
   "id": "b9d3f497",
   "metadata": {},
   "source": [
    "## Constructor: \n",
    "> A constructor is a special method that is called by default whenever you create an object from a class:"
   ]
  },
  {
   "cell_type": "code",
   "execution_count": 11,
   "id": "e5064ff7",
   "metadata": {},
   "outputs": [
    {
     "name": "stdout",
     "output_type": "stream",
     "text": [
      "The employee name is: Koji\tand The employee age is: 25\tand The employee salary is: $45000\tand employee id is : 100\n"
     ]
    }
   ],
   "source": [
    "#  We want to create one class/Template that would store employees details\n",
    "\n",
    "class Employee:\n",
    "    \n",
    "    def __init__(self, name, age,salary, employee_id):\n",
    "        self.name = name\n",
    "        self.age = age  \n",
    "        self.salary = salary \n",
    "        self.employee_id = employee_id\n",
    "        return None\n",
    "\n",
    "#     def assign_name_age_salary_id(self, name, age, salary, id): # This is method one\n",
    "#         self.name = name\n",
    "#         self.age = age  \n",
    "#         self.salary = salary \n",
    "#         self.id = id\n",
    "#         return None\n",
    "\n",
    "    def display(self): # this is method two. # Display func doesn't have any variable \n",
    "    \n",
    "        print(f\"The employee name is: {self.name}\\tand The employee age is: {self.age}\\tand The employee salary is: ${ self.salary}\\tand employee id is : {self.employee_id }\")\n",
    "        return None\n",
    "\n",
    "# class Car:\n",
    "\n",
    "#     def assign_atr(self, color, name, mileage, year):\n",
    "#         self.color = color\n",
    "#         self.name = name\n",
    "#         self.mileage = mileage\n",
    "#         self.year = year\n",
    "#         # self.display()\n",
    "#         return None\n",
    "\n",
    "#     def display(self):\n",
    "#         print(f\"\\tthe name of my car is {self.name}\\tand the color is {self.color}\\tand the mileage is {self.mileage}\\tThe year is {self.year}\")\n",
    "#         return None\n",
    "\n",
    "\n",
    "def main():\n",
    "    # we need to create an object out of our employee template. \n",
    "    emp1 = Employee(name=\"Koji\", age=25, salary=45000, employee_id=100)\n",
    "    emp1.display()\n",
    "\n",
    "\n",
    "if __name__ == \"__main__\":\n",
    "    main()\n",
    "\n",
    "\n"
   ]
  },
  {
   "cell_type": "code",
   "execution_count": null,
   "id": "2514f23b",
   "metadata": {},
   "outputs": [],
   "source": []
  }
 ],
 "metadata": {
  "kernelspec": {
   "display_name": "Python 3 (ipykernel)",
   "language": "python",
   "name": "python3"
  },
  "language_info": {
   "codemirror_mode": {
    "name": "ipython",
    "version": 3
   },
   "file_extension": ".py",
   "mimetype": "text/x-python",
   "name": "python",
   "nbconvert_exporter": "python",
   "pygments_lexer": "ipython3",
   "version": "3.9.12"
  },
  "vscode": {
   "interpreter": {
    "hash": "949777d72b0d2535278d3dc13498b2535136f6dfe0678499012e853ee9abcab1"
   }
  }
 },
 "nbformat": 4,
 "nbformat_minor": 5
}
