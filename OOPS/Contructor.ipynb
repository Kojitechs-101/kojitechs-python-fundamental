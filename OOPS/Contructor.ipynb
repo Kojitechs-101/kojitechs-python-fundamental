{
 "cells": [
  {
   "cell_type": "markdown",
   "id": "b9d3f497",
   "metadata": {},
   "source": [
    "## Constructor: \n",
    "> A constructor is a special method that is called by default whenever you create an object from a class:"
   ]
  },
  {
   "cell_type": "code",
   "execution_count": null,
   "id": "e5064ff7",
   "metadata": {},
   "outputs": [],
   "source": []
  },
  {
   "cell_type": "code",
   "execution_count": null,
   "id": "2514f23b",
   "metadata": {},
   "outputs": [],
   "source": []
  }
 ],
 "metadata": {
  "kernelspec": {
   "display_name": "Python ('a')",
   "language": "python",
   "name": "python3"
  },
  "language_info": {
   "codemirror_mode": {
    "name": "ipython",
    "version": 3
   },
   "file_extension": ".py",
   "mimetype": "text/x-python",
   "name": "python",
   "nbconvert_exporter": "python",
   "pygments_lexer": "ipython3",
   "version": ""
  },
  "vscode": {
   "interpreter": {
    "hash": "949777d72b0d2535278d3dc13498b2535136f6dfe0678499012e853ee9abcab1"
   }
  }
 },
 "nbformat": 4,
 "nbformat_minor": 5
}
