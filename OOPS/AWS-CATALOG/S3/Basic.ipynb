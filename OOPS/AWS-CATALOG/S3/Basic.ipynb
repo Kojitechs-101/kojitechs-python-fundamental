{
 "cells": [
  {
   "cell_type": "code",
   "execution_count": 13,
   "id": "011ec271",
   "metadata": {},
   "outputs": [
    {
     "name": "stderr",
     "output_type": "stream",
     "text": [
      "usage: ipykernel_launcher.py [-h]\n",
      "ipykernel_launcher.py: error: unrecognized arguments: -f /Users/kojibello/Library/Jupyter/runtime/kernel-a27551a8-3460-4545-8cdd-969568b28ab4.json\n"
     ]
    },
    {
     "ename": "SystemExit",
     "evalue": "2",
     "output_type": "error",
     "traceback": [
      "An exception has occurred, use %tb to see the full traceback.\n",
      "\u001b[0;31mSystemExit\u001b[0m\u001b[0;31m:\u001b[0m 2\n"
     ]
    }
   ],
   "source": [
    "import sys\n",
    "import boto3\n",
    "from botocore.exceptions import ClientError\n",
    "\n",
    "\n",
    "\n",
    "\"\"\"\n",
    "The purpose of this Demo\n",
    "Is to create, list and delete buckets in Amazon S3.\n",
    "\"\"\"\n",
    "\n",
    "def list_my_buckets(resource):\n",
    "    \"\"\"\n",
    "    Param: resource(str)\n",
    "    \"\"\"\n",
    "    \n",
    "    print('Buckets:', *[bucket.name for bucket in resource.buckets.all()])\n",
    "\n",
    "\n",
    "\n",
    "\n",
    "\n",
    "\n",
    "\n",
    "\n",
    "\n",
    "\n",
    "def main():\n",
    "    import argparse\n",
    "    \n",
    "    parser = argparse.ArgumentParser()\n",
    "    \n",
    "    args = parser.parse_args()\n",
    "    session = boto3.session.Session()\n",
    "    resource = (\n",
    "        session.resource('s3', region_name=args.region) if args.region\n",
    "        else session.resource('s3')\n",
    "    )\n",
    "    list_my_buckets(resource)\n",
    "\n",
    "\n",
    "\n",
    "if __name__ == \"__main__\":\n",
    "    main()"
   ]
  },
  {
   "cell_type": "code",
   "execution_count": null,
   "id": "8a2a47f7",
   "metadata": {},
   "outputs": [],
   "source": []
  }
 ],
 "metadata": {
  "kernelspec": {
   "display_name": "Python ('a')",
   "language": "python",
   "name": "python3"
  },
  "language_info": {
   "codemirror_mode": {
    "name": "ipython",
    "version": 3
   },
   "file_extension": ".py",
   "mimetype": "text/x-python",
   "name": "python",
   "nbconvert_exporter": "python",
   "pygments_lexer": "ipython3",
   "version": ""
  },
  "vscode": {
   "interpreter": {
    "hash": "949777d72b0d2535278d3dc13498b2535136f6dfe0678499012e853ee9abcab1"
   }
  }
 },
 "nbformat": 4,
 "nbformat_minor": 5
}
